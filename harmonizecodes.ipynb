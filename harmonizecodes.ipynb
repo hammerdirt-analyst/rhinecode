{
 "cells": [
  {
   "cell_type": "markdown",
   "metadata": {},
   "source": [
    "### general tenplate\n",
    "\n",
    "\n",
    "Fetches data from the local source and esyablishes the following variables:\n",
    "\n",
    "1. dutch_codes\n",
    "2. swiss_codes\n",
    "3. dutch_surveys\n",
    "4. swiss_surveys\n",
    "5. swiss_beaches\n",
    "\n",
    "\n",
    "Establishes directory variables for fetching and putting to all subdirectories:\n",
    "\n",
    "1. data\n",
    "2. beaches\n",
    "3. codes\n",
    "4. geo\n",
    "5. output\n",
    "\n",
    "provides a script to update the remote data."
   ]
  },
  {
   "cell_type": "code",
   "execution_count": 1,
   "metadata": {},
   "outputs": [],
   "source": [
    "# sys things\n",
    "import os\n",
    "import sys\n",
    "import json\n",
    "\n",
    "# networks\n",
    "import requests\n",
    "\n",
    "# data\n",
    "import pandas as pd\n",
    "import numpy as np\n",
    "import scipy\n",
    "import math\n",
    "import seaborn as sns\n",
    "\n",
    "import resources.utilities.utility_functions as ut"
   ]
  },
  {
   "cell_type": "code",
   "execution_count": 2,
   "metadata": {},
   "outputs": [
    {
     "name": "stdout",
     "output_type": "stream",
     "text": [
      "look for resources here\n",
      "\n",
      "resources/surveydata resources/locationdata resources/mlwcodedefs resources/geodata output\n"
     ]
    }
   ],
   "source": [
    "# get folder extesions\n",
    "data, beaches, codes, geo, output=ut.make_local_paths()\n",
    "print(\"look for resources here\\n\")\n",
    "print(data, beaches, codes, geo, output)\n"
   ]
  },
  {
   "cell_type": "code",
   "execution_count": 3,
   "metadata": {},
   "outputs": [],
   "source": [
    "# code data\n",
    "dutch_codes = pd.read_csv(codes+'/dutch_codes.csv')\n",
    "swiss_codes = pd.read_csv(codes+'/swiss_codes.csv')\n",
    "\n",
    "start_date = \"2017-07-04\"\n",
    "end_date = \"2019-04-24\"\n",
    "\n",
    "# this list was recieved from david fleet: one of the authors of the monitoring guide\n",
    "joint_list = pd.read_csv(F\"{codes}/jointcodes/ospar_mlw_fleet.csv\")\n",
    "\n",
    "# housekeeping\n",
    "dutch_codes.fillna(0, inplace=True)\n",
    "dutch_codes.rename(columns={'OSPAR_ID':'ospar_id', 'Description':'description'}, inplace=True)\n",
    "swiss_codes.rename(columns={'ospar_code':'ospar_id'}, inplace=True)\n",
    "swiss_codes.drop('Unnamed: 0', axis=1,inplace=True)\n",
    "\n",
    "# survey_data\n",
    "dutch_surveys = pd.read_csv(data+'/dataset_macrolitter_NL.csv')\n",
    "\n",
    "# use the aggregated hd data. This accounts for the custom codes used in Switzerland\n",
    "swiss_surveys = pd.read_csv(data+'/aggregated_hd_surveys.csv')\n",
    "\n",
    "# location data\n",
    "swiss_beaches = pd.read_csv(beaches+'/hammerdirt_beaches.csv')"
   ]
  },
  {
   "cell_type": "code",
   "execution_count": 4,
   "metadata": {},
   "outputs": [
    {
     "name": "stdout",
     "output_type": "stream",
     "text": [
      "Columns from cleaned up dutch data\n",
      "\n",
      "Index(['ID', 'description', 'category', 'ospar_id'], dtype='object')\n",
      "\n",
      "Columns from cleaned up swiss data\n",
      "\n",
      "Index(['code', 'material', 'description', 'source', 'source_two',\n",
      "       'source_three', 'parent_code', 'direct', 'single_use', 'micro',\n",
      "       'ospar_id'],\n",
      "      dtype='object')\n"
     ]
    }
   ],
   "source": [
    "print(\"Columns from cleaned up dutch data\\n\")\n",
    "print(dutch_codes.columns)\n",
    "\n",
    "print(\"\\nColumns from cleaned up swiss data\\n\")\n",
    "print(swiss_codes.columns)"
   ]
  },
  {
   "cell_type": "code",
   "execution_count": 5,
   "metadata": {},
   "outputs": [
    {
     "data": {
      "text/html": [
       "<div>\n",
       "<style scoped>\n",
       "    .dataframe tbody tr th:only-of-type {\n",
       "        vertical-align: middle;\n",
       "    }\n",
       "\n",
       "    .dataframe tbody tr th {\n",
       "        vertical-align: top;\n",
       "    }\n",
       "\n",
       "    .dataframe thead th {\n",
       "        text-align: right;\n",
       "    }\n",
       "</style>\n",
       "<table border=\"1\" class=\"dataframe\">\n",
       "  <thead>\n",
       "    <tr style=\"text-align: right;\">\n",
       "      <th></th>\n",
       "      <th>ID</th>\n",
       "      <th>description</th>\n",
       "      <th>category</th>\n",
       "      <th>ospar_id</th>\n",
       "    </tr>\n",
       "  </thead>\n",
       "  <tbody>\n",
       "    <tr>\n",
       "      <th>0</th>\n",
       "      <td>plastic_6_packringen</td>\n",
       "      <td>Six pack ring</td>\n",
       "      <td>PO soft</td>\n",
       "      <td>1.0</td>\n",
       "    </tr>\n",
       "    <tr>\n",
       "      <th>1</th>\n",
       "      <td>plastic_tassen</td>\n",
       "      <td>Bag</td>\n",
       "      <td>PO soft</td>\n",
       "      <td>2.0</td>\n",
       "    </tr>\n",
       "    <tr>\n",
       "      <th>2</th>\n",
       "      <td>plastic_kleine_plastic_tasjes</td>\n",
       "      <td>Small bag</td>\n",
       "      <td>PO soft</td>\n",
       "      <td>3.0</td>\n",
       "    </tr>\n",
       "    <tr>\n",
       "      <th>3</th>\n",
       "      <td>plastic_drankflessen_groterdan_halveliter</td>\n",
       "      <td>Bottle (&gt;= 0.5 L)</td>\n",
       "      <td>PET</td>\n",
       "      <td>4.1</td>\n",
       "    </tr>\n",
       "    <tr>\n",
       "      <th>4</th>\n",
       "      <td>plastic_drankflessen_kleinerdan_halveliter</td>\n",
       "      <td>Bottle (&lt; 0.5 L)</td>\n",
       "      <td>PET</td>\n",
       "      <td>4.2</td>\n",
       "    </tr>\n",
       "    <tr>\n",
       "      <th>5</th>\n",
       "      <td>plastic_wikkels_van_drankflessen</td>\n",
       "      <td>Bottle label</td>\n",
       "      <td>PO soft</td>\n",
       "      <td>4.3</td>\n",
       "    </tr>\n",
       "    <tr>\n",
       "      <th>6</th>\n",
       "      <td>plastic_verpakking_van_schoonmaakmiddelen</td>\n",
       "      <td>Cleaning product packaging</td>\n",
       "      <td>PO hard</td>\n",
       "      <td>5.0</td>\n",
       "    </tr>\n",
       "    <tr>\n",
       "      <th>7</th>\n",
       "      <td>plastic_voedselverpakkingen_frietbakjes_etc</td>\n",
       "      <td>Food packaging</td>\n",
       "      <td>Polystyrene</td>\n",
       "      <td>6.0</td>\n",
       "    </tr>\n",
       "    <tr>\n",
       "      <th>8</th>\n",
       "      <td>plastic_cosmeticaverpakkingen</td>\n",
       "      <td>Cosmetics packaging</td>\n",
       "      <td>PO hard</td>\n",
       "      <td>7.0</td>\n",
       "    </tr>\n",
       "    <tr>\n",
       "      <th>9</th>\n",
       "      <td>plastic_motorolieverpakking_groterdan50cm</td>\n",
       "      <td>Motor oil packaging (&gt;= 50 cm)</td>\n",
       "      <td>PO hard</td>\n",
       "      <td>9.0</td>\n",
       "    </tr>\n",
       "  </tbody>\n",
       "</table>\n",
       "</div>"
      ],
      "text/plain": [
       "                                            ID  \\\n",
       "0                         plastic_6_packringen   \n",
       "1                               plastic_tassen   \n",
       "2                plastic_kleine_plastic_tasjes   \n",
       "3    plastic_drankflessen_groterdan_halveliter   \n",
       "4   plastic_drankflessen_kleinerdan_halveliter   \n",
       "5             plastic_wikkels_van_drankflessen   \n",
       "6    plastic_verpakking_van_schoonmaakmiddelen   \n",
       "7  plastic_voedselverpakkingen_frietbakjes_etc   \n",
       "8                plastic_cosmeticaverpakkingen   \n",
       "9    plastic_motorolieverpakking_groterdan50cm   \n",
       "\n",
       "                      description     category  ospar_id  \n",
       "0                   Six pack ring      PO soft       1.0  \n",
       "1                             Bag      PO soft       2.0  \n",
       "2                       Small bag      PO soft       3.0  \n",
       "3               Bottle (>= 0.5 L)          PET       4.1  \n",
       "4                Bottle (< 0.5 L)          PET       4.2  \n",
       "5                    Bottle label      PO soft       4.3  \n",
       "6      Cleaning product packaging      PO hard       5.0  \n",
       "7                  Food packaging  Polystyrene       6.0  \n",
       "8             Cosmetics packaging      PO hard       7.0  \n",
       "9  Motor oil packaging (>= 50 cm)      PO hard       9.0  "
      ]
     },
     "execution_count": 5,
     "metadata": {},
     "output_type": "execute_result"
    }
   ],
   "source": [
    "dutch_codes.iloc[:10]"
   ]
  },
  {
   "cell_type": "code",
   "execution_count": 6,
   "metadata": {},
   "outputs": [
    {
     "name": "stdout",
     "output_type": "stream",
     "text": [
      "\n",
      "This is the OSPAR code list from the dutch data.\n",
      "\n",
      "OSPAR codes that could not be typed to 'int' were counted as 0.\n",
      "\n",
      "Any code with an ospar value of 0 was excluded\n",
      "\n",
      "\n",
      "[   1    2    3    4    5    6    7    9   10   13   14   15   16   20\n",
      "   21   24   25  113   31   32   33   36   38   40   42   43   44  117\n",
      "   46   48 1172  462   47   22   19  472  212  481   11   39    8   17\n",
      "   35   49   52   53   54   55   57   59   60   61   63   64   65   66\n",
      "   67   62   68   69   72   73   74   75   81   78   79   83   77   84\n",
      "   88   76   86   80   82  120   89   90   91   92   93   98  982  102\n",
      "   97   99   18  100  101  103  104  105]\n",
      "\n",
      "These are the detail codes used to better define the object:\n",
      "\n",
      "[  4 117  46   6  47  22  19   2  43  38  39  62  67  81 102   1]\n"
     ]
    }
   ],
   "source": [
    "# process the dutch codes:\n",
    "# identify codes that are common to both 'ospar_id' columns\n",
    "dutch_codes['parent_code'] = dutch_codes.ospar_id.round(0)\n",
    "dutch_codes['parent_code'] = dutch_codes['parent_code'].astype('int') \n",
    "dutch_codes['child_code'] = dutch_codes.ospar_id - dutch_codes.parent_code\n",
    "\n",
    "\n",
    "# the number of child codes:\n",
    "child_codes = dutch_codes.loc[dutch_codes.child_code > 0]\n",
    "ccodes = child_codes.parent_code.unique()\n",
    "\n",
    "# all the codes with no remainder:\n",
    "parent_codes = dutch_codes.loc[dutch_codes.child_code == 0]\n",
    "# this is the parent codes with no child code\n",
    "pcodes = parent_codes.parent_code.unique()\n",
    "\n",
    "# all the dutch codes that are not child codes:\n",
    "# this all the parent codes\n",
    "dcodesall = dutch_codes.parent_code.unique()\n",
    "\n",
    "print(\"\"\"\n",
    "This is the OSPAR code list from the dutch data.\\n\n",
    "OSPAR codes that could not be typed to 'int' were counted as 0.\\n\n",
    "Any code with an ospar value of 0 was excluded\\n\n",
    "\"\"\")\n",
    "print(dutch_codes['parent_code'].unique())\n",
    "print(F\"\\nThese are the detail codes used to better define the object:\\n\\n{ccodes}\")"
   ]
  },
  {
   "cell_type": "code",
   "execution_count": 7,
   "metadata": {},
   "outputs": [
    {
     "data": {
      "text/html": [
       "<div>\n",
       "<style scoped>\n",
       "    .dataframe tbody tr th:only-of-type {\n",
       "        vertical-align: middle;\n",
       "    }\n",
       "\n",
       "    .dataframe tbody tr th {\n",
       "        vertical-align: top;\n",
       "    }\n",
       "\n",
       "    .dataframe thead th {\n",
       "        text-align: right;\n",
       "    }\n",
       "</style>\n",
       "<table border=\"1\" class=\"dataframe\">\n",
       "  <thead>\n",
       "    <tr style=\"text-align: right;\">\n",
       "      <th></th>\n",
       "      <th>ID</th>\n",
       "      <th>description</th>\n",
       "      <th>category</th>\n",
       "      <th>ospar_id</th>\n",
       "      <th>parent_code</th>\n",
       "      <th>child_code</th>\n",
       "    </tr>\n",
       "  </thead>\n",
       "  <tbody>\n",
       "    <tr>\n",
       "      <th>0</th>\n",
       "      <td>plastic_6_packringen</td>\n",
       "      <td>Six pack ring</td>\n",
       "      <td>PO soft</td>\n",
       "      <td>1.0</td>\n",
       "      <td>1</td>\n",
       "      <td>0.0</td>\n",
       "    </tr>\n",
       "    <tr>\n",
       "      <th>1</th>\n",
       "      <td>plastic_tassen</td>\n",
       "      <td>Bag</td>\n",
       "      <td>PO soft</td>\n",
       "      <td>2.0</td>\n",
       "      <td>2</td>\n",
       "      <td>0.0</td>\n",
       "    </tr>\n",
       "    <tr>\n",
       "      <th>2</th>\n",
       "      <td>plastic_kleine_plastic_tasjes</td>\n",
       "      <td>Small bag</td>\n",
       "      <td>PO soft</td>\n",
       "      <td>3.0</td>\n",
       "      <td>3</td>\n",
       "      <td>0.0</td>\n",
       "    </tr>\n",
       "    <tr>\n",
       "      <th>3</th>\n",
       "      <td>plastic_drankflessen_groterdan_halveliter</td>\n",
       "      <td>Bottle (&gt;= 0.5 L)</td>\n",
       "      <td>PET</td>\n",
       "      <td>4.1</td>\n",
       "      <td>4</td>\n",
       "      <td>0.1</td>\n",
       "    </tr>\n",
       "    <tr>\n",
       "      <th>4</th>\n",
       "      <td>plastic_drankflessen_kleinerdan_halveliter</td>\n",
       "      <td>Bottle (&lt; 0.5 L)</td>\n",
       "      <td>PET</td>\n",
       "      <td>4.2</td>\n",
       "      <td>4</td>\n",
       "      <td>0.2</td>\n",
       "    </tr>\n",
       "    <tr>\n",
       "      <th>5</th>\n",
       "      <td>plastic_wikkels_van_drankflessen</td>\n",
       "      <td>Bottle label</td>\n",
       "      <td>PO soft</td>\n",
       "      <td>4.3</td>\n",
       "      <td>4</td>\n",
       "      <td>0.3</td>\n",
       "    </tr>\n",
       "    <tr>\n",
       "      <th>6</th>\n",
       "      <td>plastic_verpakking_van_schoonmaakmiddelen</td>\n",
       "      <td>Cleaning product packaging</td>\n",
       "      <td>PO hard</td>\n",
       "      <td>5.0</td>\n",
       "      <td>5</td>\n",
       "      <td>0.0</td>\n",
       "    </tr>\n",
       "    <tr>\n",
       "      <th>7</th>\n",
       "      <td>plastic_voedselverpakkingen_frietbakjes_etc</td>\n",
       "      <td>Food packaging</td>\n",
       "      <td>Polystyrene</td>\n",
       "      <td>6.0</td>\n",
       "      <td>6</td>\n",
       "      <td>0.0</td>\n",
       "    </tr>\n",
       "    <tr>\n",
       "      <th>8</th>\n",
       "      <td>plastic_cosmeticaverpakkingen</td>\n",
       "      <td>Cosmetics packaging</td>\n",
       "      <td>PO hard</td>\n",
       "      <td>7.0</td>\n",
       "      <td>7</td>\n",
       "      <td>0.0</td>\n",
       "    </tr>\n",
       "    <tr>\n",
       "      <th>9</th>\n",
       "      <td>plastic_motorolieverpakking_groterdan50cm</td>\n",
       "      <td>Motor oil packaging (&gt;= 50 cm)</td>\n",
       "      <td>PO hard</td>\n",
       "      <td>9.0</td>\n",
       "      <td>9</td>\n",
       "      <td>0.0</td>\n",
       "    </tr>\n",
       "  </tbody>\n",
       "</table>\n",
       "</div>"
      ],
      "text/plain": [
       "                                            ID  \\\n",
       "0                         plastic_6_packringen   \n",
       "1                               plastic_tassen   \n",
       "2                plastic_kleine_plastic_tasjes   \n",
       "3    plastic_drankflessen_groterdan_halveliter   \n",
       "4   plastic_drankflessen_kleinerdan_halveliter   \n",
       "5             plastic_wikkels_van_drankflessen   \n",
       "6    plastic_verpakking_van_schoonmaakmiddelen   \n",
       "7  plastic_voedselverpakkingen_frietbakjes_etc   \n",
       "8                plastic_cosmeticaverpakkingen   \n",
       "9    plastic_motorolieverpakking_groterdan50cm   \n",
       "\n",
       "                      description     category  ospar_id  parent_code  \\\n",
       "0                   Six pack ring      PO soft       1.0            1   \n",
       "1                             Bag      PO soft       2.0            2   \n",
       "2                       Small bag      PO soft       3.0            3   \n",
       "3               Bottle (>= 0.5 L)          PET       4.1            4   \n",
       "4                Bottle (< 0.5 L)          PET       4.2            4   \n",
       "5                    Bottle label      PO soft       4.3            4   \n",
       "6      Cleaning product packaging      PO hard       5.0            5   \n",
       "7                  Food packaging  Polystyrene       6.0            6   \n",
       "8             Cosmetics packaging      PO hard       7.0            7   \n",
       "9  Motor oil packaging (>= 50 cm)      PO hard       9.0            9   \n",
       "\n",
       "   child_code  \n",
       "0         0.0  \n",
       "1         0.0  \n",
       "2         0.0  \n",
       "3         0.1  \n",
       "4         0.2  \n",
       "5         0.3  \n",
       "6         0.0  \n",
       "7         0.0  \n",
       "8         0.0  \n",
       "9         0.0  "
      ]
     },
     "execution_count": 7,
     "metadata": {},
     "output_type": "execute_result"
    }
   ],
   "source": [
    "dutch_codes.iloc[:10]"
   ]
  },
  {
   "cell_type": "code",
   "execution_count": 8,
   "metadata": {},
   "outputs": [
    {
     "data": {
      "text/plain": [
       "Index(['OSPAR-ID', 'Type-Code', 'Name', 'J-Code', 'G-Code', 'OSPAR Name'], dtype='object')"
      ]
     },
     "execution_count": 8,
     "metadata": {},
     "output_type": "execute_result"
    }
   ],
   "source": [
    "# compare dutch codes to fleets defs:\n",
    "joint_list.columns"
   ]
  },
  {
   "cell_type": "code",
   "execution_count": 9,
   "metadata": {},
   "outputs": [],
   "source": [
    "# process the joint_list:\n",
    "# these columns names:\n",
    "joint_list.rename(columns={'OSPAR-ID':'ospar_id','G-Code':'mlw_code'}, inplace=True)\n",
    "joint_list['mlw_code'] = joint_list.mlw_code.astype('str')\n",
    "\n",
    "joint_list['paired'] = list(zip(joint_list.mlw_code,joint_list.ospar_id))\n",
    "\n",
    "joint_list.fillna(0, inplace=True)\n",
    "\n",
    "# make some code pairs\n",
    "jlistkeys = joint_list[['mlw_code','ospar_id']].copy()\n",
    "\n",
    "# set up a mapper:\n",
    "mlwkeyed = {x[0]:x[1] for x in list(joint_list.paired.unique())}\n",
    "osparkeyed = {x[1]:x[0] for x in list(joint_list.paired.unique())}"
   ]
  },
  {
   "cell_type": "code",
   "execution_count": 10,
   "metadata": {},
   "outputs": [
    {
     "name": "stdout",
     "output_type": "stream",
     "text": [
      "These are the ducth codes that are not in the OSPAR definitions:\n",
      "[1172, 462, 472, 212, 481, 982]\n"
     ]
    }
   ],
   "source": [
    "dutch_codes_not_in_ospar = [x for x in dutch_codes.parent_code.unique() if x not in joint_list.ospar_id.unique()]\n",
    "\n",
    "print(F\"These are the ducth codes that are not in the OSPAR definitions:\\n{dutch_codes_not_in_ospar }\")"
   ]
  },
  {
   "cell_type": "code",
   "execution_count": 11,
   "metadata": {},
   "outputs": [
    {
     "name": "stdout",
     "output_type": "stream",
     "text": [
      "    ospar_id             description\n",
      "34    1172.0  Foam fragment (< 5 cm)\n",
      "35     462.0  Foam fragment (>=5 cm)\n",
      "41     472.0          Foam (> 50 cm)\n",
      "42     212.0                Foam cup\n",
      "44     481.0            Water filter\n",
      "99     982.0      Carton cotton swab\n"
     ]
    }
   ],
   "source": [
    "print(dutch_codes[dutch_codes.ospar_id.isin(dutch_codes_not_in_ospar)][['ospar_id','description']])"
   ]
  },
  {
   "cell_type": "code",
   "execution_count": 12,
   "metadata": {},
   "outputs": [],
   "source": [
    "# process the swiss codes\n",
    "\n",
    "\n",
    "# housekeeping\n",
    "\n",
    "def remove_nonintegers(x):\n",
    "    if x in ['none','Ospar...']:\n",
    "        new_def = 0\n",
    "    else:\n",
    "        new_def = x\n",
    "    \n",
    "    return new_def\n",
    "swiss_codes['ospar_id'] = swiss_codes.ospar_id.map(lambda x: remove_nonintegers(x))\n",
    "swiss_codes.fillna(0, inplace=True)\n",
    "swiss_codes['ospar_id'] = swiss_codes.ospar_id.astype('int')\n",
    "\n",
    "# get child and parent codes:\n",
    "swiss_codes_parent = swiss_codes.loc[swiss_codes.parent_code == 'Parent code'].copy()\n",
    "swiss_codes_child = swiss_codes.loc[swiss_codes.parent_code != 'Parent code'].copy()\n",
    "\n",
    "# identify the codes that have actually been used:\n",
    "swiss_pcodes_used = swiss_surveys[swiss_surveys.quantity > 0].code.unique()\n",
    "\n",
    "# make a list of the codes in use:\n",
    "scodes_used = swiss_codes_parent.loc[swiss_codes_parent.code.isin(swiss_pcodes_used)].copy()\n",
    "scodes_used.set_index('code', inplace=True)\n",
    "scodes_used.fillna(0, inplace=True)"
   ]
  },
  {
   "cell_type": "code",
   "execution_count": 13,
   "metadata": {},
   "outputs": [
    {
     "data": {
      "text/plain": [
       "material                                                Metal\n",
       "description     Metal bottle caps, lids & pull tabs from cans\n",
       "source                                              Packaging\n",
       "source_two                                     Food and drink\n",
       "source_three                                           Direct\n",
       "parent_code                                       Parent code\n",
       "direct                                                   True\n",
       "single_use                                               True\n",
       "micro                                                   False\n",
       "ospar_id                                                   77\n",
       "Name: G178, dtype: object"
      ]
     },
     "execution_count": 13,
     "metadata": {},
     "output_type": "execute_result"
    }
   ],
   "source": [
    "# the ospar id given here should match the deifinition (or at least be close in the joint_list)\n",
    "scodes_used.loc['G178']"
   ]
  },
  {
   "cell_type": "code",
   "execution_count": 14,
   "metadata": {},
   "outputs": [
    {
     "data": {
      "text/html": [
       "<div>\n",
       "<style scoped>\n",
       "    .dataframe tbody tr th:only-of-type {\n",
       "        vertical-align: middle;\n",
       "    }\n",
       "\n",
       "    .dataframe tbody tr th {\n",
       "        vertical-align: top;\n",
       "    }\n",
       "\n",
       "    .dataframe thead th {\n",
       "        text-align: right;\n",
       "    }\n",
       "</style>\n",
       "<table border=\"1\" class=\"dataframe\">\n",
       "  <thead>\n",
       "    <tr style=\"text-align: right;\">\n",
       "      <th></th>\n",
       "      <th>ospar_id</th>\n",
       "      <th>Type-Code</th>\n",
       "      <th>Name</th>\n",
       "      <th>J-Code</th>\n",
       "      <th>mlw_code</th>\n",
       "      <th>OSPAR Name</th>\n",
       "      <th>paired</th>\n",
       "    </tr>\n",
       "  </thead>\n",
       "  <tbody>\n",
       "    <tr>\n",
       "      <th>21</th>\n",
       "      <td>77</td>\n",
       "      <td>me_nn_b&amp;c_lids_</td>\n",
       "      <td>metal bottle caps, lids &amp; pull tabs from cans</td>\n",
       "      <td>J178</td>\n",
       "      <td>G178</td>\n",
       "      <td>Bottle caps</td>\n",
       "      <td>(G178, 77)</td>\n",
       "    </tr>\n",
       "  </tbody>\n",
       "</table>\n",
       "</div>"
      ],
      "text/plain": [
       "    ospar_id        Type-Code                                           Name  \\\n",
       "21        77  me_nn_b&c_lids_  metal bottle caps, lids & pull tabs from cans   \n",
       "\n",
       "   J-Code mlw_code   OSPAR Name      paired  \n",
       "21   J178     G178  Bottle caps  (G178, 77)  "
      ]
     },
     "execution_count": 14,
     "metadata": {},
     "output_type": "execute_result"
    }
   ],
   "source": [
    "# match from joint_list for the same ospar id\n",
    "joint_list[joint_list.ospar_id == 77]"
   ]
  },
  {
   "cell_type": "code",
   "execution_count": 15,
   "metadata": {},
   "outputs": [
    {
     "name": "stdout",
     "output_type": "stream",
     "text": [
      "Swiss mlw codes that are not in the OSPAR defs:\n",
      "['G112', 'G23', 'G30', 'G35', 'G38', 'G78', 'G79', 'G81', 'G89', 'G93', 'G117', 'G7', 'G74', 'G82', 'G153', 'G156', 'G126', 'G208', 'G21', 'G131', 'G142', 'G24', 'G31', 'G80', 'G203', 'G194', 'G87', 'G25', 'G61', 'G98', 'G188', 'G8', 'G167', 'G155', 'G83', 'G157', 'G91', 'G12', 'G193', 'G22', 'G90', 'G149', 'G195', 'G201', 'G118', 'G114', 'G135', 'G161', 'G170', 'G106', 'G113', 'G123', 'G181', 'G197', 'G75', 'G103', 'G109', 'G39', 'G105', 'G48', 'G55', 'G202', 'G88', 'G205', 'G64', 'G92', 'G11', 'G102', 'G146', 'G52', 'G119', 'G122', 'G36', 'G115', 'G129', 'G62', 'G2', 'G136', 'G943', 'G139', 'G6', 'G185', 'G111', 'G214', 'G116', 'G143', 'G104', 'G94', 'G84', 'G108', 'G999', 'G107', 'G132', 'G173']\n"
     ]
    }
   ],
   "source": [
    "# find the mwl_codes in use in switzerland that are not included in the joint list\n",
    "no_match_ospar_mlw = [x for x in swiss_pcodes_used if x not in joint_list.mlw_code.unique()]\n",
    "print(F\"Swiss mlw codes that are not in the OSPAR defs:\\n{no_match_ospar_mlw}\")"
   ]
  },
  {
   "cell_type": "code",
   "execution_count": 16,
   "metadata": {},
   "outputs": [
    {
     "data": {
      "text/plain": [
       "code\n",
       "G213    181\n",
       "G214    111\n",
       "G135     54\n",
       "G137     54\n",
       "G138     57\n",
       "       ... \n",
       "G125     49\n",
       "G133     97\n",
       "G211    105\n",
       "G161     69\n",
       "G165     72\n",
       "Name: ospar_id, Length: 80, dtype: int64"
      ]
     },
     "execution_count": 16,
     "metadata": {},
     "output_type": "execute_result"
    }
   ],
   "source": [
    "# map mlw_code to ospar given the swiss data\n",
    "swl = scodes_used.loc[(scodes_used.ospar_id != 0)]['ospar_id']"
   ]
  },
  {
   "cell_type": "code",
   "execution_count": 17,
   "metadata": {},
   "outputs": [
    {
     "data": {
      "text/plain": [
       "Index(['G213', 'G137', 'G138', 'G141', 'G140', 'G145', 'G204', 'G207', 'G200',\n",
       "       'G210',\n",
       "       ...\n",
       "       'G125', 'G128', 'G159', 'G165', 'G164', 'G163', 'G162', 'G172', 'G171',\n",
       "       'G160'],\n",
       "      dtype='object', name='mlw_code', length=103)"
      ]
     },
     "execution_count": 17,
     "metadata": {},
     "output_type": "execute_result"
    }
   ],
   "source": [
    "# remove any records where the mlw code is invalid:\n",
    "joint_list_mlw = joint_list[joint_list.mlw_code != 'nan']\n",
    "\n",
    "# set the index to the mlw code:\n",
    "joint_list_mlw.set_index('mlw_code', inplace=True)\n",
    "\n",
    "# get just the ospar id\n",
    "joint_list_mlw_keys = joint_list_mlw['ospar_id']\n",
    "joint_list_mlw_keys.index"
   ]
  },
  {
   "cell_type": "code",
   "execution_count": 18,
   "metadata": {},
   "outputs": [
    {
     "data": {
      "text/plain": [
       "ospar_id    77\n",
       "Name: G178, dtype: int64"
      ]
     },
     "execution_count": 18,
     "metadata": {},
     "output_type": "execute_result"
    }
   ],
   "source": [
    "# compbine the two sets of definitions start with the mlw code:\n",
    "joint_list_defs = list(set(list(joint_list_mlw_keys.index) + list(swl.index)))\n",
    "\n",
    "# make a dataframe, use mlw code as index:\n",
    "use_these_defs = pd.DataFrame(index=joint_list_defs)\n",
    "\n",
    "\n",
    "def make_ospar_defs(x, defs1, defs2):\n",
    "    # favor the definitions from fleet\n",
    "    try:\n",
    "        new_def = defs1.loc[x]\n",
    "    except:\n",
    "        # fall back on the swiss deffs\n",
    "        new_def = defs2.loc[x]\n",
    "    return new_def\n",
    "\n",
    "\n",
    "use_these_defs['ospar_id'] = use_these_defs.index.map(lambda x:make_ospar_defs(x, joint_list_mlw_keys, swl) )\n",
    "use_these_defs.fillna(0, inplace=True)\n",
    "use_these_defs.loc['G178']"
   ]
  },
  {
   "cell_type": "code",
   "execution_count": 19,
   "metadata": {},
   "outputs": [
    {
     "name": "stdout",
     "output_type": "stream",
     "text": [
      "There are 137 definitions.\n"
     ]
    }
   ],
   "source": [
    "print(F\"There are {len(use_these_defs)} definitions.\")"
   ]
  },
  {
   "cell_type": "code",
   "execution_count": 20,
   "metadata": {},
   "outputs": [
    {
     "data": {
      "text/html": [
       "<div>\n",
       "<style scoped>\n",
       "    .dataframe tbody tr th:only-of-type {\n",
       "        vertical-align: middle;\n",
       "    }\n",
       "\n",
       "    .dataframe tbody tr th {\n",
       "        vertical-align: top;\n",
       "    }\n",
       "\n",
       "    .dataframe thead th {\n",
       "        text-align: right;\n",
       "    }\n",
       "</style>\n",
       "<table border=\"1\" class=\"dataframe\">\n",
       "  <thead>\n",
       "    <tr style=\"text-align: right;\">\n",
       "      <th></th>\n",
       "      <th>ospar_id</th>\n",
       "    </tr>\n",
       "  </thead>\n",
       "  <tbody>\n",
       "    <tr>\n",
       "      <th>G124</th>\n",
       "      <td>48</td>\n",
       "    </tr>\n",
       "    <tr>\n",
       "      <th>G125</th>\n",
       "      <td>49</td>\n",
       "    </tr>\n",
       "    <tr>\n",
       "      <th>G26</th>\n",
       "      <td>16</td>\n",
       "    </tr>\n",
       "    <tr>\n",
       "      <th>G128</th>\n",
       "      <td>52</td>\n",
       "    </tr>\n",
       "    <tr>\n",
       "      <th>G31</th>\n",
       "      <td>19</td>\n",
       "    </tr>\n",
       "    <tr>\n",
       "      <th>G184</th>\n",
       "      <td>87</td>\n",
       "    </tr>\n",
       "    <tr>\n",
       "      <th>G87</th>\n",
       "      <td>48</td>\n",
       "    </tr>\n",
       "    <tr>\n",
       "      <th>G214</th>\n",
       "      <td>111</td>\n",
       "    </tr>\n",
       "    <tr>\n",
       "      <th>G11</th>\n",
       "      <td>7</td>\n",
       "    </tr>\n",
       "    <tr>\n",
       "      <th>G27</th>\n",
       "      <td>64</td>\n",
       "    </tr>\n",
       "    <tr>\n",
       "      <th>G21</th>\n",
       "      <td>15</td>\n",
       "    </tr>\n",
       "    <tr>\n",
       "      <th>G30</th>\n",
       "      <td>19</td>\n",
       "    </tr>\n",
       "    <tr>\n",
       "      <th>G29</th>\n",
       "      <td>18</td>\n",
       "    </tr>\n",
       "    <tr>\n",
       "      <th>G75</th>\n",
       "      <td>117</td>\n",
       "    </tr>\n",
       "    <tr>\n",
       "      <th>G101</th>\n",
       "      <td>121</td>\n",
       "    </tr>\n",
       "  </tbody>\n",
       "</table>\n",
       "</div>"
      ],
      "text/plain": [
       "      ospar_id\n",
       "G124        48\n",
       "G125        49\n",
       "G26         16\n",
       "G128        52\n",
       "G31         19\n",
       "G184        87\n",
       "G87         48\n",
       "G214       111\n",
       "G11          7\n",
       "G27         64\n",
       "G21         15\n",
       "G30         19\n",
       "G29         18\n",
       "G75        117\n",
       "G101       121"
      ]
     },
     "execution_count": 20,
     "metadata": {},
     "output_type": "execute_result"
    }
   ],
   "source": [
    "use_these_defs.iloc[:15]"
   ]
  },
  {
   "cell_type": "code",
   "execution_count": 36,
   "metadata": {},
   "outputs": [
    {
     "data": {
      "text/html": [
       "<div>\n",
       "<style scoped>\n",
       "    .dataframe tbody tr th:only-of-type {\n",
       "        vertical-align: middle;\n",
       "    }\n",
       "\n",
       "    .dataframe tbody tr th {\n",
       "        vertical-align: top;\n",
       "    }\n",
       "\n",
       "    .dataframe thead th {\n",
       "        text-align: right;\n",
       "    }\n",
       "</style>\n",
       "<table border=\"1\" class=\"dataframe\">\n",
       "  <thead>\n",
       "    <tr style=\"text-align: right;\">\n",
       "      <th></th>\n",
       "      <th>code</th>\n",
       "      <th>material</th>\n",
       "      <th>description</th>\n",
       "      <th>source</th>\n",
       "      <th>source_two</th>\n",
       "      <th>source_three</th>\n",
       "      <th>parent_code</th>\n",
       "      <th>direct</th>\n",
       "      <th>single_use</th>\n",
       "      <th>micro</th>\n",
       "      <th>ospar_id</th>\n",
       "    </tr>\n",
       "  </thead>\n",
       "  <tbody>\n",
       "    <tr>\n",
       "      <th>0</th>\n",
       "      <td>G212</td>\n",
       "      <td>Chemicals</td>\n",
       "      <td>Oil nodules or coal fragments -- not from a BBQ</td>\n",
       "      <td>Undefined</td>\n",
       "      <td>Where does it come from</td>\n",
       "      <td>none</td>\n",
       "      <td>Parent code</td>\n",
       "      <td>False</td>\n",
       "      <td>False</td>\n",
       "      <td>False</td>\n",
       "      <td>0</td>\n",
       "    </tr>\n",
       "    <tr>\n",
       "      <th>4</th>\n",
       "      <td>G136</td>\n",
       "      <td>Cloth</td>\n",
       "      <td>Shoes</td>\n",
       "      <td>Clothing</td>\n",
       "      <td>Where does it come from</td>\n",
       "      <td>none</td>\n",
       "      <td>Parent code</td>\n",
       "      <td>True</td>\n",
       "      <td>False</td>\n",
       "      <td>False</td>\n",
       "      <td>0</td>\n",
       "    </tr>\n",
       "    <tr>\n",
       "      <th>7</th>\n",
       "      <td>G139</td>\n",
       "      <td>Cloth</td>\n",
       "      <td>Backpacks</td>\n",
       "      <td>Utility items</td>\n",
       "      <td>Recreation</td>\n",
       "      <td>none</td>\n",
       "      <td>Parent code</td>\n",
       "      <td>True</td>\n",
       "      <td>False</td>\n",
       "      <td>False</td>\n",
       "      <td>0</td>\n",
       "    </tr>\n",
       "    <tr>\n",
       "      <th>10</th>\n",
       "      <td>G142</td>\n",
       "      <td>Cloth</td>\n",
       "      <td>Rope , string or nets</td>\n",
       "      <td>Utility items</td>\n",
       "      <td>Recreation</td>\n",
       "      <td>none</td>\n",
       "      <td>Parent code</td>\n",
       "      <td>True</td>\n",
       "      <td>False</td>\n",
       "      <td>False</td>\n",
       "      <td>0</td>\n",
       "    </tr>\n",
       "    <tr>\n",
       "      <th>11</th>\n",
       "      <td>G143</td>\n",
       "      <td>Cloth</td>\n",
       "      <td>Sails and canvas</td>\n",
       "      <td>Utility items</td>\n",
       "      <td>Recreation</td>\n",
       "      <td>none</td>\n",
       "      <td>Parent code</td>\n",
       "      <td>True</td>\n",
       "      <td>False</td>\n",
       "      <td>False</td>\n",
       "      <td>0</td>\n",
       "    </tr>\n",
       "    <tr>\n",
       "      <th>...</th>\n",
       "      <td>...</td>\n",
       "      <td>...</td>\n",
       "      <td>...</td>\n",
       "      <td>...</td>\n",
       "      <td>...</td>\n",
       "      <td>...</td>\n",
       "      <td>...</td>\n",
       "      <td>...</td>\n",
       "      <td>...</td>\n",
       "      <td>...</td>\n",
       "      <td>...</td>\n",
       "    </tr>\n",
       "    <tr>\n",
       "      <th>253</th>\n",
       "      <td>G168</td>\n",
       "      <td>Wood</td>\n",
       "      <td>Wood boards</td>\n",
       "      <td>Undefined</td>\n",
       "      <td>Where does it come from</td>\n",
       "      <td>0</td>\n",
       "      <td>Parent code</td>\n",
       "      <td>True</td>\n",
       "      <td>False</td>\n",
       "      <td>False</td>\n",
       "      <td>0</td>\n",
       "    </tr>\n",
       "    <tr>\n",
       "      <th>254</th>\n",
       "      <td>G169</td>\n",
       "      <td>Wood</td>\n",
       "      <td>Beams, dunnage</td>\n",
       "      <td>Undefined</td>\n",
       "      <td>Where does it come from</td>\n",
       "      <td>0</td>\n",
       "      <td>Parent code</td>\n",
       "      <td>True</td>\n",
       "      <td>False</td>\n",
       "      <td>False</td>\n",
       "      <td>0</td>\n",
       "    </tr>\n",
       "    <tr>\n",
       "      <th>255</th>\n",
       "      <td>G170</td>\n",
       "      <td>Wood</td>\n",
       "      <td>Wood (processed)</td>\n",
       "      <td>Undefined</td>\n",
       "      <td>Where does it come from</td>\n",
       "      <td>0</td>\n",
       "      <td>Parent code</td>\n",
       "      <td>True</td>\n",
       "      <td>False</td>\n",
       "      <td>False</td>\n",
       "      <td>0</td>\n",
       "    </tr>\n",
       "    <tr>\n",
       "      <th>258</th>\n",
       "      <td>G173</td>\n",
       "      <td>Wood</td>\n",
       "      <td>Other</td>\n",
       "      <td>Undefined</td>\n",
       "      <td>Where does it come from</td>\n",
       "      <td>0</td>\n",
       "      <td>Parent code</td>\n",
       "      <td>True</td>\n",
       "      <td>False</td>\n",
       "      <td>False</td>\n",
       "      <td>0</td>\n",
       "    </tr>\n",
       "    <tr>\n",
       "      <th>259</th>\n",
       "      <td>G916</td>\n",
       "      <td>Wood</td>\n",
       "      <td>Pencils and pieces</td>\n",
       "      <td>Utility items</td>\n",
       "      <td>Where does it come from</td>\n",
       "      <td>none</td>\n",
       "      <td>G170</td>\n",
       "      <td>True</td>\n",
       "      <td>False</td>\n",
       "      <td>False</td>\n",
       "      <td>0</td>\n",
       "    </tr>\n",
       "  </tbody>\n",
       "</table>\n",
       "<p>123 rows × 11 columns</p>\n",
       "</div>"
      ],
      "text/plain": [
       "     code   material                                      description  \\\n",
       "0    G212  Chemicals  Oil nodules or coal fragments -- not from a BBQ   \n",
       "4    G136      Cloth                                            Shoes   \n",
       "7    G139      Cloth                                        Backpacks   \n",
       "10   G142      Cloth                            Rope , string or nets   \n",
       "11   G143      Cloth                                 Sails and canvas   \n",
       "..    ...        ...                                              ...   \n",
       "253  G168       Wood                                      Wood boards   \n",
       "254  G169       Wood                                   Beams, dunnage   \n",
       "255  G170       Wood                                 Wood (processed)   \n",
       "258  G173       Wood                                            Other   \n",
       "259  G916       Wood                               Pencils and pieces   \n",
       "\n",
       "            source               source_two source_three  parent_code  direct  \\\n",
       "0        Undefined  Where does it come from         none  Parent code   False   \n",
       "4         Clothing  Where does it come from         none  Parent code    True   \n",
       "7    Utility items               Recreation         none  Parent code    True   \n",
       "10   Utility items               Recreation         none  Parent code    True   \n",
       "11   Utility items               Recreation         none  Parent code    True   \n",
       "..             ...                      ...          ...          ...     ...   \n",
       "253      Undefined  Where does it come from            0  Parent code    True   \n",
       "254      Undefined  Where does it come from            0  Parent code    True   \n",
       "255      Undefined  Where does it come from            0  Parent code    True   \n",
       "258      Undefined  Where does it come from            0  Parent code    True   \n",
       "259  Utility items  Where does it come from         none         G170    True   \n",
       "\n",
       "     single_use  micro  ospar_id  \n",
       "0         False  False         0  \n",
       "4         False  False         0  \n",
       "7         False  False         0  \n",
       "10        False  False         0  \n",
       "11        False  False         0  \n",
       "..          ...    ...       ...  \n",
       "253       False  False         0  \n",
       "254       False  False         0  \n",
       "255       False  False         0  \n",
       "258       False  False         0  \n",
       "259       False  False         0  \n",
       "\n",
       "[123 rows x 11 columns]"
      ]
     },
     "execution_count": 36,
     "metadata": {},
     "output_type": "execute_result"
    }
   ],
   "source": [
    "# apply the those to the swiss codes:\n",
    "def apply_ospar_defs(x, defs1):\n",
    "    try:\n",
    "        new_def = defs1.loc[x][0]\n",
    "    except:\n",
    "        new_def = 0\n",
    "    \n",
    "    return new_def\n",
    "swiss_codes['ospar_id'] = swiss_codes.code.map(lambda x: apply_ospar_defs(x, use_these_defs))\n",
    "swiss_codes[swiss_codes['ospar_id'] == 0]"
   ]
  },
  {
   "cell_type": "code",
   "execution_count": 22,
   "metadata": {},
   "outputs": [
    {
     "data": {
      "text/plain": [
       "Index(['G136', 'G139', 'G142', 'G143', 'G202', 'G203', 'G205', 'G208', 'G185',\n",
       "       'G193', 'G195', 'G197', 'G146', 'G149', 'G156', 'G157', 'G102', 'G103',\n",
       "       'G104', 'G105', 'G106', 'G107', 'G108', 'G109', 'G111', 'G112', 'G113',\n",
       "       'G114', 'G115', 'G116', 'G117', 'G118', 'G119', 'G122', 'G123', 'G2',\n",
       "       'G23', 'G39', 'G48', 'G52', 'G55', 'G61', 'G62', 'G64', 'G80', 'G83',\n",
       "       'G84', 'G89', 'G90', 'G92', 'G94', 'G943', 'G126', 'G129', 'G131',\n",
       "       'G132', 'G999', 'G167', 'G170', 'G173'],\n",
       "      dtype='object', name='code')"
      ]
     },
     "execution_count": 22,
     "metadata": {},
     "output_type": "execute_result"
    }
   ],
   "source": [
    "swiss_surveys.date = pd.to_datetime(swiss_surveys.date)\n",
    "scodes_used[scodes_used.ospar_id == 0].index"
   ]
  },
  {
   "cell_type": "code",
   "execution_count": 37,
   "metadata": {},
   "outputs": [
    {
     "data": {
      "text/plain": [
       "11960"
      ]
     },
     "execution_count": 37,
     "metadata": {},
     "output_type": "execute_result"
    }
   ],
   "source": [
    "# this is quite a few items:\n",
    "swiss_surveys[(swiss_surveys.date >= start_date)&(swiss_surveys.date <= end_date)&(swiss_surveys.code.isin(swiss_codes[swiss_codes.ospar_id == 0].code.unique()))].quantity.sum()"
   ]
  },
  {
   "cell_type": "code",
   "execution_count": 38,
   "metadata": {},
   "outputs": [
    {
     "data": {
      "text/plain": [
       "material                          Glass\n",
       "description                 Light bulbs\n",
       "source                    Utility items\n",
       "source_two      Where does it come from\n",
       "source_three                          0\n",
       "parent_code                 Parent code\n",
       "direct                             True\n",
       "single_use                        False\n",
       "micro                             False\n",
       "ospar_id                              0\n",
       "Name: G202, dtype: object"
      ]
     },
     "execution_count": 38,
     "metadata": {},
     "output_type": "execute_result"
    }
   ],
   "source": [
    "# check against orginal data should be zero\n",
    "swiss_codes.set_index('code', inplace=True)\n",
    "swiss_codes.loc['G202']"
   ]
  },
  {
   "cell_type": "code",
   "execution_count": 39,
   "metadata": {},
   "outputs": [
    {
     "data": {
      "text/plain": [
       "material                          Paper\n",
       "description             Paper fragments\n",
       "source                        Undefined\n",
       "source_two      Where does it come from\n",
       "source_three                          0\n",
       "parent_code                 Parent code\n",
       "direct                             True\n",
       "single_use                        False\n",
       "micro                             False\n",
       "ospar_id                              0\n",
       "Name: G156, dtype: object"
      ]
     },
     "execution_count": 39,
     "metadata": {},
     "output_type": "execute_result"
    }
   ],
   "source": [
    "swiss_codes.loc['G156']"
   ]
  },
  {
   "cell_type": "code",
   "execution_count": 40,
   "metadata": {},
   "outputs": [
    {
     "data": {
      "text/plain": [
       "array([ 48,  49,  16,  52,  19,  87, 111,   7,  64,  15,  18, 117, 121,\n",
       "       102,  69,  89, 116,  62,  99,  27,  57,  35,  20,  54,   4,  22,\n",
       "        45,  70, 118,  42,  98,  47,  83,   6,  14,  39, 104,  23,  26,\n",
       "        13,  67, 120,  95,  88,  66,  43,  41,  46,  50, 114,  94,  75,\n",
       "        11, 101,   2,  93, 108,  24,  44,  37,  56,  91,  59,   9,  84,\n",
       "        76,   8,  36,  33,   5,  38,  86,  74,  29,  55,  10,  79,  77,\n",
       "        40, 113,  31,  90,  68,  32,  81,   1,  82, 119,  53, 105,  97,\n",
       "        25, 115, 112,  12,  21,   3,  73,  71,  60,  78,  72,  80,  17,\n",
       "        28, 100,  61,  30, 103,  63])"
      ]
     },
     "execution_count": 40,
     "metadata": {},
     "output_type": "execute_result"
    }
   ],
   "source": [
    "use_these_defs.ospar_id.unique()"
   ]
  },
  {
   "cell_type": "code",
   "execution_count": 41,
   "metadata": {},
   "outputs": [],
   "source": [
    "update_codes={\n",
    "    'G136':59,\n",
    "    'G139':54,\n",
    "    'G142':59,\n",
    "    'G143':59,\n",
    "    'G202':92,\n",
    "    'G203':96,\n",
    "    'G205':96,\n",
    "    'G208':93,\n",
    "    'G185':89,\n",
    "    'G193':83,\n",
    "    'G195':89,\n",
    "    'G197':89,\n",
    "    'G146':61,\n",
    "    'G149':62,\n",
    "    'G156':67,\n",
    "    'G157':67,\n",
    "    'G102':44,\n",
    "    'G2':2,\n",
    "    'G23':15,\n",
    "    'G39':25,\n",
    "    'G48':32,\n",
    "    'G52':115,\n",
    "    'G55':35,\n",
    "    'G61':48,\n",
    "    'G62':37,\n",
    "    'G64':14,\n",
    "    'G80':47,\n",
    "    'G83':47,\n",
    "    'G84':48,\n",
    "    'G89':48,\n",
    "    'G90':48,\n",
    "    'G92':48,\n",
    "    'G94':48,\n",
    "    'G943':48,\n",
    "    'G129':52,\n",
    "    'G131':53,\n",
    "    'G132':53,\n",
    "    'G167':74,\n",
    "    'G170':74,\n",
    "    'G173':74,\n",
    "    'G999':0,\n",
    "    'G212':0,\n",
    "    'G206':0,\n",
    "    'G209':0,\n",
    "    'G183':0,\n",
    "    'G189':0,\n",
    "    'G192':0,\n",
    "    'G196':0,\n",
    "    'G110':0,\n",
    "    'G120':0,\n",
    "    'G121':0,\n",
    "    'G51':0,\n",
    "    'G57':34,\n",
    "    \n",
    "}\n",
    "\n",
    "micro = {x:117 for x in ['G103','G104', 'G105', 'G106', 'G107', 'G108', 'G109', 'G111', 'G112', 'G113', 'G114', 'G115', 'G116', 'G117', 'G118', 'G119','G120', 'G121', 'G122', 'G123']}\n",
    "codes_to_update = {**update_codes, **micro}\n",
    "codes_to_update = [{'mlw_code':k,  'ospar_id':v} for k,v in codes_to_update.items()]\n",
    "codes_to_update = pd.DataFrame(codes_to_update)\n",
    "ctu = codes_to_update.set_index('mlw_code')\n",
    "new_ospar_keys = ctu.append(use_these_defs)"
   ]
  },
  {
   "cell_type": "code",
   "execution_count": 42,
   "metadata": {},
   "outputs": [
    {
     "data": {
      "text/plain": [
       "74"
      ]
     },
     "execution_count": 42,
     "metadata": {},
     "output_type": "execute_result"
    }
   ],
   "source": [
    "new_ospar_keys.loc['G173'][0]"
   ]
  },
  {
   "cell_type": "code",
   "execution_count": 47,
   "metadata": {},
   "outputs": [
    {
     "data": {
      "text/html": [
       "<div>\n",
       "<style scoped>\n",
       "    .dataframe tbody tr th:only-of-type {\n",
       "        vertical-align: middle;\n",
       "    }\n",
       "\n",
       "    .dataframe tbody tr th {\n",
       "        vertical-align: top;\n",
       "    }\n",
       "\n",
       "    .dataframe thead th {\n",
       "        text-align: right;\n",
       "    }\n",
       "</style>\n",
       "<table border=\"1\" class=\"dataframe\">\n",
       "  <thead>\n",
       "    <tr style=\"text-align: right;\">\n",
       "      <th></th>\n",
       "      <th>description</th>\n",
       "    </tr>\n",
       "    <tr>\n",
       "      <th>code</th>\n",
       "      <th></th>\n",
       "    </tr>\n",
       "  </thead>\n",
       "  <tbody>\n",
       "    <tr>\n",
       "      <th>G126</th>\n",
       "      <td>Balls</td>\n",
       "    </tr>\n",
       "    <tr>\n",
       "      <th>G999</th>\n",
       "      <td>No objects found on this survey</td>\n",
       "    </tr>\n",
       "  </tbody>\n",
       "</table>\n",
       "</div>"
      ],
      "text/plain": [
       "                          description\n",
       "code                                 \n",
       "G126                            Balls\n",
       "G999  No objects found on this survey"
      ]
     },
     "execution_count": 47,
     "metadata": {},
     "output_type": "execute_result"
    }
   ],
   "source": [
    "swiss_codes.ospar_id = swiss_codes.index.map(lambda x: apply_ospar_defs(x,new_ospar_keys))\n",
    "\n",
    "# these are the codes to fix from the results in the current date range\n",
    "swiss_codes[(swiss_codes.ospar_id == 0)&(swiss_codes.parent_code == 'Parent code')&(swiss_codes.index.isin(scodes_used.index))][['description']]"
   ]
  },
  {
   "cell_type": "markdown",
   "metadata": {},
   "source": [
    "### Choose the correct definition for MLW codes that have many OSPAR ids.\n",
    "\n",
    "The EU is putting together a list of harmonized codes that makes it easier to switch between different systems. We will try and consult that list before making any hasty decisions.\n",
    "\n",
    "### Account for equivalencies for dutch child codes\n",
    "\n",
    "Both projects use a coding system for items of local concern (sub codes or child codes) we need to find each projects analog and use appropriate OSPAR code.\n",
    "\n"
   ]
  },
  {
   "cell_type": "code",
   "execution_count": 32,
   "metadata": {},
   "outputs": [],
   "source": [
    "## !!! refresh the data from the hammerdirt api here:\n",
    "\n",
    "# a = requests.get('https://mwshovel.pythonanywhere.com/api/surveys/daily-totals/code-totals/swiss/')\n",
    "# b = requests.get('https://mwshovel.pythonanywhere.com/api/list-of-beaches/swiss/')\n",
    "# c = requests.get('https://mwshovel.pythonanywhere.com/api/mlw-codes/list/')\n",
    "\n",
    "# # the surveys need to be unpacked:\n",
    "# swiss_surveys = ut.unpack_survey_results(a.json())\n",
    "# swiss_surveys = pd.DataFrame(swiss_surveys)\n",
    "\n",
    "# # adding location date column\n",
    "# swiss_surveys['loc_date'] = list(zip(swiss_surveys['location'], swiss_surveys['date']))\n",
    "\n",
    "# # hold the original\n",
    "# x = a.json()\n",
    "\n",
    "# print(\"survey columns\")\n",
    "# print(swiss_surveys.columns)\n",
    "\n",
    "# swiss_beaches = pd.DataFrame(b.json())\n",
    "# print(\"beach columns\")\n",
    "# print(swiss_beaches.columns)\n",
    "\n",
    "# print(\"code columns\")\n",
    "# swiss_codes = pd.DataFrame(c.json())\n",
    "# print(swiss_codes.columns)\n",
    "\n",
    "# swiss_surveys.to_csv(data+'/hammerdirt_data.csv')\n",
    "# swiss_beaches.to_csv(beaches+'/hammerdirt_beaches.csv')\n",
    "# swiss_codes.to_csv(codes+'/swiss_codes.csv')\n"
   ]
  }
 ],
 "metadata": {
  "kernelspec": {
   "display_name": "Python 3",
   "language": "python",
   "name": "python3"
  },
  "language_info": {
   "codemirror_mode": {
    "name": "ipython",
    "version": 3
   },
   "file_extension": ".py",
   "mimetype": "text/x-python",
   "name": "python",
   "nbconvert_exporter": "python",
   "pygments_lexer": "ipython3",
   "version": "3.8.3"
  }
 },
 "nbformat": 4,
 "nbformat_minor": 4
}
