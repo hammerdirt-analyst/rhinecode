{
 "cells": [
  {
   "cell_type": "markdown",
   "metadata": {},
   "source": [
    "### Harmonize litter codes\n",
    "\n",
    "The data being used is from two seperate projects. The data from Rhine outflow was collected and identified using the OSPAR coding system. The data from the Rhine source was collected and identified using the MLW system.\n",
    "\n",
    "While the data collection process is the same, the coding system is not. There are more codes in the MLW coding method than in the OSPAR method. Both systems are identifying the same objects, the MLW system allows for more precise identification. For example in the MLW system plastic lids are seperated into three types\n",
    "\n",
    "1. lids from drinks and foode type itmes\n",
    "2. lids from non food items\n",
    "3. lid from unknown source\n",
    "\n",
    "The OSPAR method only gives one possible choice: 'plastic lids'. The MLW/MSFD coding system works well for defining local results and identifying specific object types, precious infformation for municpalities and organizations that are seeking to reudce thes objects in the environment.\n",
    "\n",
    "The relationship of MLW codes to OSPAR codes is 'many to one', this means that one OSPAR code may translate to many different MLW codes. Given this realtionship it is impossible to convert from OSPAR to MLW accurately, however we can convert MLW to OSPAR without losing any of the details.\n",
    "\n",
    "#### Tasks\n",
    "\n",
    "1. Identify codes in the definitions files that do not match an OSPAR or MLW code\n",
    "2. Identify codes that were generated for local purposes and reporting\n",
    "3. Identify the codes in the Swiss data that do not have an appropriate OSPAR code\n",
    "4. Map OSPAR code values to MLW values using the data provided by David Fleet\n",
    "5. For any MLW codes not in the fleet data use the MLW master list to identify the correct OSPAR id\n",
    "6. Map results from point five to the Swiss codes\n",
    "7. Aggregate and test survey results before and after applyin ospar id\n",
    "8. Make preliminary top ten\n",
    "\n",
    "https://indicit-europa.eu/cms/wp-content/uploads/2017/05/guidance_monitoring_marine_litter_2013.pdf\n",
    "\n",
    "https://www.ospar.org/documents?v=7260"
   ]
  },
  {
   "cell_type": "code",
   "execution_count": 1,
   "metadata": {},
   "outputs": [],
   "source": [
    "# sys things\n",
    "import os\n",
    "import sys\n",
    "import json\n",
    "\n",
    "# networks\n",
    "import requests\n",
    "\n",
    "# data\n",
    "import pandas as pd\n",
    "import numpy as np\n",
    "import scipy\n",
    "import math\n",
    "import matplotlib as mpl\n",
    "import matplotlib.pyplot as plt\n",
    "import seaborn as sns\n",
    "\n",
    "import resources.utilities.utility_functions as ut"
   ]
  },
  {
   "cell_type": "markdown",
   "metadata": {},
   "source": [
    "### Setup and housekeeping\n",
    "\n",
    "Retireve the data, set the start and end dates, make a directory to store outpur for the project and standardize the column names from the two sets of data."
   ]
  },
  {
   "cell_type": "code",
   "execution_count": 2,
   "metadata": {},
   "outputs": [
    {
     "name": "stdout",
     "output_type": "stream",
     "text": [
      "\n",
      "look for resources here\n",
      "\n",
      "resources/surveydata resources/locationdata resources/mlwcodedefs resources/geodata output\n"
     ]
    }
   ],
   "source": [
    "# get folder extesions\n",
    "data, beaches, codes, geo, output=ut.make_local_paths()\n",
    "project_directory = ut.make_project_folder(output, \"harmonized_results\")\n",
    "\n",
    "\n",
    "# code data\n",
    "dutch_codes = pd.read_csv(codes+'/dutch_codes.csv')\n",
    "swiss_codes = pd.read_csv(codes+'/swiss_codes.csv')\n",
    "\n",
    "start_date = \"2017-07-04\"\n",
    "end_date = \"2019-04-24\"\n",
    "\n",
    "# this list was recieved from david fleet: one of the authors of the monitoring guide\n",
    "joint_list = pd.read_csv(F\"{codes}/jointcodes/ospar_mlw_fleet.csv\")\n",
    "\n",
    "# housekeeping\n",
    "dutch_codes.fillna(0, inplace=True)\n",
    "dutch_codes.rename(columns={'OSPAR_ID':'ospar_id', 'Description':'description'}, inplace=True)\n",
    "swiss_codes.rename(columns={'ospar_code':'ospar_id'}, inplace=True)\n",
    "swiss_codes.drop('Unnamed: 0', axis=1,inplace=True)\n",
    "\n",
    "# survey_data\n",
    "dutch_surveys = pd.read_csv(data+'/dataset_macrolitter_NL.csv')\n",
    "\n",
    "# use the aggregated hd data. This accounts for the custom codes used in Switzerland\n",
    "swiss_surveys = pd.read_csv(data+'/aggregated_hd_surveys.csv')\n",
    "\n",
    "# location data\n",
    "swiss_beaches = pd.read_csv(beaches+'/hammerdirt_beaches.csv')\n",
    "\n",
    "print(\"\\nlook for resources here\\n\")\n",
    "print(data, beaches, codes, geo, output)"
   ]
  },
  {
   "cell_type": "markdown",
   "metadata": {},
   "source": [
    "#### columns standardized"
   ]
  },
  {
   "cell_type": "code",
   "execution_count": 3,
   "metadata": {},
   "outputs": [
    {
     "name": "stdout",
     "output_type": "stream",
     "text": [
      "\n",
      "\n",
      "Columns from cleaned up dutch data\n",
      "\n",
      "Index(['ID', 'description', 'category', 'ospar_id'], dtype='object')\n",
      "\n",
      "\n",
      "\n",
      "Columns from cleaned up swiss data\n",
      "\n",
      "Index(['code', 'material', 'description', 'source', 'source_two',\n",
      "       'source_three', 'parent_code', 'direct', 'single_use', 'micro',\n",
      "       'ospar_id'],\n",
      "      dtype='object')\n"
     ]
    }
   ],
   "source": [
    "print(F\"\\n\\nColumns from cleaned up dutch data\\n\\n{dutch_codes.columns}\\n\")\n",
    "print()\n",
    "\n",
    "print(F\"\\nColumns from cleaned up swiss data\\n\\n{swiss_codes.columns}\")\n"
   ]
  },
  {
   "cell_type": "markdown",
   "metadata": {},
   "source": [
    "## Dutch codes\n",
    "\n",
    "The dutch codes use the OSPAR coding system with a few codes added for local purposes. The local codes have a decimal place, OSPAR codes generally do not have decimal places, for example in the dutch data plastic bottles are differentiated by size and label.\n",
    "\n",
    "__OSPAR id for bottles is 4__\n",
    "\n",
    "_In the dutch data there are three codes 4.1, 4.2 and 4.3 each responding to the criteria established by the researcher._\n",
    "\n",
    "#### Tasks\n",
    "\n",
    "1. Create an identifier for child codes, make a column for that\n",
    "2. Standardize the ospar_id column (get rid of child codes)\n",
    "3. group the codes according to parent/child"
   ]
  },
  {
   "cell_type": "code",
   "execution_count": 4,
   "metadata": {},
   "outputs": [
    {
     "data": {
      "text/html": [
       "<div>\n",
       "<style scoped>\n",
       "    .dataframe tbody tr th:only-of-type {\n",
       "        vertical-align: middle;\n",
       "    }\n",
       "\n",
       "    .dataframe tbody tr th {\n",
       "        vertical-align: top;\n",
       "    }\n",
       "\n",
       "    .dataframe thead th {\n",
       "        text-align: right;\n",
       "    }\n",
       "</style>\n",
       "<table border=\"1\" class=\"dataframe\">\n",
       "  <thead>\n",
       "    <tr style=\"text-align: right;\">\n",
       "      <th></th>\n",
       "      <th>ID</th>\n",
       "      <th>description</th>\n",
       "      <th>category</th>\n",
       "      <th>ospar_id</th>\n",
       "    </tr>\n",
       "  </thead>\n",
       "  <tbody>\n",
       "    <tr>\n",
       "      <th>0</th>\n",
       "      <td>plastic_6_packringen</td>\n",
       "      <td>Six pack ring</td>\n",
       "      <td>PO soft</td>\n",
       "      <td>1.0</td>\n",
       "    </tr>\n",
       "    <tr>\n",
       "      <th>1</th>\n",
       "      <td>plastic_tassen</td>\n",
       "      <td>Bag</td>\n",
       "      <td>PO soft</td>\n",
       "      <td>2.0</td>\n",
       "    </tr>\n",
       "    <tr>\n",
       "      <th>2</th>\n",
       "      <td>plastic_kleine_plastic_tasjes</td>\n",
       "      <td>Small bag</td>\n",
       "      <td>PO soft</td>\n",
       "      <td>3.0</td>\n",
       "    </tr>\n",
       "    <tr>\n",
       "      <th>3</th>\n",
       "      <td>plastic_drankflessen_groterdan_halveliter</td>\n",
       "      <td>Bottle (&gt;= 0.5 L)</td>\n",
       "      <td>PET</td>\n",
       "      <td>4.1</td>\n",
       "    </tr>\n",
       "    <tr>\n",
       "      <th>4</th>\n",
       "      <td>plastic_drankflessen_kleinerdan_halveliter</td>\n",
       "      <td>Bottle (&lt; 0.5 L)</td>\n",
       "      <td>PET</td>\n",
       "      <td>4.2</td>\n",
       "    </tr>\n",
       "    <tr>\n",
       "      <th>5</th>\n",
       "      <td>plastic_wikkels_van_drankflessen</td>\n",
       "      <td>Bottle label</td>\n",
       "      <td>PO soft</td>\n",
       "      <td>4.3</td>\n",
       "    </tr>\n",
       "    <tr>\n",
       "      <th>6</th>\n",
       "      <td>plastic_verpakking_van_schoonmaakmiddelen</td>\n",
       "      <td>Cleaning product packaging</td>\n",
       "      <td>PO hard</td>\n",
       "      <td>5.0</td>\n",
       "    </tr>\n",
       "    <tr>\n",
       "      <th>7</th>\n",
       "      <td>plastic_voedselverpakkingen_frietbakjes_etc</td>\n",
       "      <td>Food packaging</td>\n",
       "      <td>Polystyrene</td>\n",
       "      <td>6.0</td>\n",
       "    </tr>\n",
       "    <tr>\n",
       "      <th>8</th>\n",
       "      <td>plastic_cosmeticaverpakkingen</td>\n",
       "      <td>Cosmetics packaging</td>\n",
       "      <td>PO hard</td>\n",
       "      <td>7.0</td>\n",
       "    </tr>\n",
       "    <tr>\n",
       "      <th>9</th>\n",
       "      <td>plastic_motorolieverpakking_groterdan50cm</td>\n",
       "      <td>Motor oil packaging (&gt;= 50 cm)</td>\n",
       "      <td>PO hard</td>\n",
       "      <td>9.0</td>\n",
       "    </tr>\n",
       "  </tbody>\n",
       "</table>\n",
       "</div>"
      ],
      "text/plain": [
       "                                            ID  \\\n",
       "0                         plastic_6_packringen   \n",
       "1                               plastic_tassen   \n",
       "2                plastic_kleine_plastic_tasjes   \n",
       "3    plastic_drankflessen_groterdan_halveliter   \n",
       "4   plastic_drankflessen_kleinerdan_halveliter   \n",
       "5             plastic_wikkels_van_drankflessen   \n",
       "6    plastic_verpakking_van_schoonmaakmiddelen   \n",
       "7  plastic_voedselverpakkingen_frietbakjes_etc   \n",
       "8                plastic_cosmeticaverpakkingen   \n",
       "9    plastic_motorolieverpakking_groterdan50cm   \n",
       "\n",
       "                      description     category  ospar_id  \n",
       "0                   Six pack ring      PO soft       1.0  \n",
       "1                             Bag      PO soft       2.0  \n",
       "2                       Small bag      PO soft       3.0  \n",
       "3               Bottle (>= 0.5 L)          PET       4.1  \n",
       "4                Bottle (< 0.5 L)          PET       4.2  \n",
       "5                    Bottle label      PO soft       4.3  \n",
       "6      Cleaning product packaging      PO hard       5.0  \n",
       "7                  Food packaging  Polystyrene       6.0  \n",
       "8             Cosmetics packaging      PO hard       7.0  \n",
       "9  Motor oil packaging (>= 50 cm)      PO hard       9.0  "
      ]
     },
     "execution_count": 4,
     "metadata": {},
     "output_type": "execute_result"
    }
   ],
   "source": [
    "# the first ten ducth codes\n",
    "dutch_codes.iloc[:10]"
   ]
  },
  {
   "cell_type": "code",
   "execution_count": 5,
   "metadata": {},
   "outputs": [
    {
     "name": "stdout",
     "output_type": "stream",
     "text": [
      "\n",
      "This is the OSPAR code list from the dutch data.\n",
      "\n",
      "OSPAR codes that could not be typed to 'int' were counted as 0.\n",
      "\n",
      "Any code with an ospar value of 0 was excluded\n",
      "\n",
      "\n",
      "[   1    2    3    4    5    6    7    9   10   13   14   15   16   20\n",
      "   21   24   25  113   31   32   33   36   38   40   42   43   44  117\n",
      "   46   48 1172  462   47   22   19  472  212  481   11   39    8   17\n",
      "   35   49   52   53   54   55   57   59   60   61   63   64   65   66\n",
      "   67   62   68   69   72   73   74   75   81   78   79   83   77   84\n",
      "   88   76   86   80   82  120   89   90   91   92   93   98  982  102\n",
      "   97   99   18  100  101  103  104  105]\n",
      "\n",
      "These are the detail codes (child codes) used to better define the object:\n",
      "\n",
      "[  4 117  46   6  47  22  19   2  43  38  39  62  67  81 102   1]\n",
      "\n",
      "\n"
     ]
    }
   ],
   "source": [
    "# process the dutch codes:\n",
    "\n",
    "\n",
    "# convert all ospar_id values to int and store in a column called parent code\n",
    "dutch_codes['parent_code'] = dutch_codes.ospar_id.round(0)\n",
    "dutch_codes['parent_code'] = dutch_codes['parent_code'].astype('int')\n",
    "\n",
    "# the local codes are decimal representations of the original ospar id\n",
    "# take advantage of that to create a column that is the result of the difference\n",
    "# between the 'parent_code' and the 'opsar_id' in the data set\n",
    "dutch_codes['child_code'] = dutch_codes.ospar_id - dutch_codes.parent_code\n",
    "\n",
    "\n",
    "# collect the child codes\n",
    "child_codes = dutch_codes.loc[dutch_codes.child_code > 0]\n",
    "ccodes = child_codes.parent_code.unique()\n",
    "\n",
    "# all the codes with no remainder or where child_code = 0\n",
    "parent_codes = dutch_codes.loc[dutch_codes.child_code == 0]\n",
    "\n",
    "# this is the parent codes with no child code\n",
    "pcodes = parent_codes.parent_code.unique()\n",
    "\n",
    "# all the dutch codes that are not child codes:\n",
    "# this all the parent codes\n",
    "dcodesall = dutch_codes.parent_code.unique()\n",
    "\n",
    "print(\"\"\"\n",
    "This is the OSPAR code list from the dutch data.\\n\n",
    "OSPAR codes that could not be typed to 'int' were counted as 0.\\n\n",
    "Any code with an ospar value of 0 was excluded\\n\n",
    "\"\"\")\n",
    "print(dcodesall)\n",
    "print(F\"\\nThese are the detail codes (child codes) used to better define the object:\\n\\n{ccodes}\\n\\n\")"
   ]
  },
  {
   "cell_type": "code",
   "execution_count": 6,
   "metadata": {},
   "outputs": [
    {
     "data": {
      "text/html": [
       "<div>\n",
       "<style scoped>\n",
       "    .dataframe tbody tr th:only-of-type {\n",
       "        vertical-align: middle;\n",
       "    }\n",
       "\n",
       "    .dataframe tbody tr th {\n",
       "        vertical-align: top;\n",
       "    }\n",
       "\n",
       "    .dataframe thead th {\n",
       "        text-align: right;\n",
       "    }\n",
       "</style>\n",
       "<table border=\"1\" class=\"dataframe\">\n",
       "  <thead>\n",
       "    <tr style=\"text-align: right;\">\n",
       "      <th></th>\n",
       "      <th>ID</th>\n",
       "      <th>description</th>\n",
       "      <th>category</th>\n",
       "      <th>ospar_id</th>\n",
       "      <th>parent_code</th>\n",
       "      <th>child_code</th>\n",
       "    </tr>\n",
       "  </thead>\n",
       "  <tbody>\n",
       "    <tr>\n",
       "      <th>0</th>\n",
       "      <td>plastic_6_packringen</td>\n",
       "      <td>Six pack ring</td>\n",
       "      <td>PO soft</td>\n",
       "      <td>1.0</td>\n",
       "      <td>1</td>\n",
       "      <td>0.0</td>\n",
       "    </tr>\n",
       "    <tr>\n",
       "      <th>1</th>\n",
       "      <td>plastic_tassen</td>\n",
       "      <td>Bag</td>\n",
       "      <td>PO soft</td>\n",
       "      <td>2.0</td>\n",
       "      <td>2</td>\n",
       "      <td>0.0</td>\n",
       "    </tr>\n",
       "    <tr>\n",
       "      <th>2</th>\n",
       "      <td>plastic_kleine_plastic_tasjes</td>\n",
       "      <td>Small bag</td>\n",
       "      <td>PO soft</td>\n",
       "      <td>3.0</td>\n",
       "      <td>3</td>\n",
       "      <td>0.0</td>\n",
       "    </tr>\n",
       "    <tr>\n",
       "      <th>3</th>\n",
       "      <td>plastic_drankflessen_groterdan_halveliter</td>\n",
       "      <td>Bottle (&gt;= 0.5 L)</td>\n",
       "      <td>PET</td>\n",
       "      <td>4.1</td>\n",
       "      <td>4</td>\n",
       "      <td>0.1</td>\n",
       "    </tr>\n",
       "    <tr>\n",
       "      <th>4</th>\n",
       "      <td>plastic_drankflessen_kleinerdan_halveliter</td>\n",
       "      <td>Bottle (&lt; 0.5 L)</td>\n",
       "      <td>PET</td>\n",
       "      <td>4.2</td>\n",
       "      <td>4</td>\n",
       "      <td>0.2</td>\n",
       "    </tr>\n",
       "    <tr>\n",
       "      <th>5</th>\n",
       "      <td>plastic_wikkels_van_drankflessen</td>\n",
       "      <td>Bottle label</td>\n",
       "      <td>PO soft</td>\n",
       "      <td>4.3</td>\n",
       "      <td>4</td>\n",
       "      <td>0.3</td>\n",
       "    </tr>\n",
       "    <tr>\n",
       "      <th>6</th>\n",
       "      <td>plastic_verpakking_van_schoonmaakmiddelen</td>\n",
       "      <td>Cleaning product packaging</td>\n",
       "      <td>PO hard</td>\n",
       "      <td>5.0</td>\n",
       "      <td>5</td>\n",
       "      <td>0.0</td>\n",
       "    </tr>\n",
       "    <tr>\n",
       "      <th>7</th>\n",
       "      <td>plastic_voedselverpakkingen_frietbakjes_etc</td>\n",
       "      <td>Food packaging</td>\n",
       "      <td>Polystyrene</td>\n",
       "      <td>6.0</td>\n",
       "      <td>6</td>\n",
       "      <td>0.0</td>\n",
       "    </tr>\n",
       "    <tr>\n",
       "      <th>8</th>\n",
       "      <td>plastic_cosmeticaverpakkingen</td>\n",
       "      <td>Cosmetics packaging</td>\n",
       "      <td>PO hard</td>\n",
       "      <td>7.0</td>\n",
       "      <td>7</td>\n",
       "      <td>0.0</td>\n",
       "    </tr>\n",
       "    <tr>\n",
       "      <th>9</th>\n",
       "      <td>plastic_motorolieverpakking_groterdan50cm</td>\n",
       "      <td>Motor oil packaging (&gt;= 50 cm)</td>\n",
       "      <td>PO hard</td>\n",
       "      <td>9.0</td>\n",
       "      <td>9</td>\n",
       "      <td>0.0</td>\n",
       "    </tr>\n",
       "  </tbody>\n",
       "</table>\n",
       "</div>"
      ],
      "text/plain": [
       "                                            ID  \\\n",
       "0                         plastic_6_packringen   \n",
       "1                               plastic_tassen   \n",
       "2                plastic_kleine_plastic_tasjes   \n",
       "3    plastic_drankflessen_groterdan_halveliter   \n",
       "4   plastic_drankflessen_kleinerdan_halveliter   \n",
       "5             plastic_wikkels_van_drankflessen   \n",
       "6    plastic_verpakking_van_schoonmaakmiddelen   \n",
       "7  plastic_voedselverpakkingen_frietbakjes_etc   \n",
       "8                plastic_cosmeticaverpakkingen   \n",
       "9    plastic_motorolieverpakking_groterdan50cm   \n",
       "\n",
       "                      description     category  ospar_id  parent_code  \\\n",
       "0                   Six pack ring      PO soft       1.0            1   \n",
       "1                             Bag      PO soft       2.0            2   \n",
       "2                       Small bag      PO soft       3.0            3   \n",
       "3               Bottle (>= 0.5 L)          PET       4.1            4   \n",
       "4                Bottle (< 0.5 L)          PET       4.2            4   \n",
       "5                    Bottle label      PO soft       4.3            4   \n",
       "6      Cleaning product packaging      PO hard       5.0            5   \n",
       "7                  Food packaging  Polystyrene       6.0            6   \n",
       "8             Cosmetics packaging      PO hard       7.0            7   \n",
       "9  Motor oil packaging (>= 50 cm)      PO hard       9.0            9   \n",
       "\n",
       "   child_code  \n",
       "0         0.0  \n",
       "1         0.0  \n",
       "2         0.0  \n",
       "3         0.1  \n",
       "4         0.2  \n",
       "5         0.3  \n",
       "6         0.0  \n",
       "7         0.0  \n",
       "8         0.0  \n",
       "9         0.0  "
      ]
     },
     "execution_count": 6,
     "metadata": {},
     "output_type": "execute_result"
    }
   ],
   "source": [
    "# the dutch data with the new columns\n",
    "dutch_codes.iloc[:10]"
   ]
  },
  {
   "cell_type": "markdown",
   "metadata": {},
   "source": [
    "### Compare the dutch codes to the data provided by David Fleet\n",
    "\n",
    "Identify any Dutch codes that do not match the OSPAR definitions. The fleet data is the standard, any OSPAR codes in the Dutch data that are not in the fleet data need to be indentified."
   ]
  },
  {
   "cell_type": "code",
   "execution_count": 7,
   "metadata": {},
   "outputs": [],
   "source": [
    "# process the joint_list:\n",
    "# housekeeping\n",
    "joint_list.rename(columns={'OSPAR-ID':'ospar_id','G-Code':'mlw_code'}, inplace=True)\n",
    "joint_list['mlw_code'] = joint_list.mlw_code.astype('str')\n",
    "joint_list.fillna(0, inplace=True)\n",
    "\n",
    "# make a column of pairs (MLW, OSPAR)\n",
    "joint_list['paired'] = list(zip(joint_list.mlw_code,joint_list.ospar_id))\n",
    "\n",
    "# map values in both directions\n",
    "jlistkeys = joint_list[['mlw_code','ospar_id']].copy()\n",
    "\n",
    "# set up a mapper:\n",
    "mlwkeyed = {x[0]:x[1] for x in list(joint_list.paired.unique())}\n",
    "# osparkeyed = {x[1]:x[0] for x in list(joint_list.paired.unique())}"
   ]
  },
  {
   "cell_type": "code",
   "execution_count": 8,
   "metadata": {},
   "outputs": [
    {
     "name": "stdout",
     "output_type": "stream",
     "text": [
      "These are the ducth codes that are not in the OSPAR definitions:\n",
      "[1172, 462, 472, 212, 481, 982]\n"
     ]
    }
   ],
   "source": [
    "dutch_codes_not_in_ospar = [x for x in dutch_codes.parent_code.unique() if x not in joint_list.ospar_id.unique()]\n",
    "\n",
    "print(F\"These are the ducth codes that are not in the OSPAR definitions:\\n{dutch_codes_not_in_ospar }\")"
   ]
  },
  {
   "cell_type": "markdown",
   "metadata": {},
   "source": [
    "### The codes in the Dutch data that do not match the data from fleet:"
   ]
  },
  {
   "cell_type": "code",
   "execution_count": 9,
   "metadata": {},
   "outputs": [
    {
     "name": "stdout",
     "output_type": "stream",
     "text": [
      "\n",
      "\n",
      "    ospar_id             description\n",
      "34    1172.0  Foam fragment (< 5 cm)\n",
      "35     462.0  Foam fragment (>=5 cm)\n",
      "41     472.0          Foam (> 50 cm)\n",
      "42     212.0                Foam cup\n",
      "44     481.0            Water filter\n",
      "99     982.0      Carton cotton swab\n",
      "\n",
      "\n"
     ]
    }
   ],
   "source": [
    "print(F\"\\n\\n{dutch_codes[dutch_codes.ospar_id.isin(dutch_codes_not_in_ospar)][['ospar_id','description']]}\\n\\n\")"
   ]
  },
  {
   "cell_type": "markdown",
   "metadata": {},
   "source": [
    "## Swiss codes\n",
    "\n",
    "The Swiss codes use the MLW coding system with a some additional local codes. The survey results have been have been aggregate to MLW standard codes. However there is not a matching OSPAR id for all the MLW codes present in the aggregated swiss survey results.\n",
    "\n",
    "#### Tasks\n",
    "\n",
    "1. Identify and mark all non valid OSPAR codes\n",
    "2. Identify parent and child codes\n",
    "3. Identify the codes present in the survey data\n",
    "4. Compare the number of unique MLW codes from step 3 to the number of unique MLW codes in the fleet data\n",
    "5. Identify the MLW codes from the swiss data that are not in the fleet data\n",
    "6. Identify the OSPAR codes from the swiss data that are not in the fleet data\n",
    "7. Combine the MLW-OSPAR definitions from the two data sets. Give priority to definitions from the fleet data"
   ]
  },
  {
   "cell_type": "code",
   "execution_count": 10,
   "metadata": {},
   "outputs": [],
   "source": [
    "# process the swiss codes\n",
    "\n",
    "\n",
    "# housekeeping\n",
    "def remove_nonintegers(x):\n",
    "    if x in ['none','Ospar...']:\n",
    "        new_def = 0\n",
    "    else:\n",
    "        new_def = x\n",
    "    \n",
    "    return new_def\n",
    "\n",
    "\n",
    "swiss_codes['ospar_id'] = swiss_codes.ospar_id.map(lambda x: remove_nonintegers(x))\n",
    "swiss_codes.fillna(0, inplace=True)\n",
    "swiss_codes['ospar_id'] = swiss_codes.ospar_id.astype('int')\n",
    "\n",
    "# get child and parent codes:\n",
    "swiss_codes_parent = swiss_codes.loc[swiss_codes.parent_code == 'Parent code'].copy()\n",
    "swiss_codes_child = swiss_codes.loc[swiss_codes.parent_code != 'Parent code'].copy()\n",
    "\n",
    "# identify the codes that have actually been used:\n",
    "swiss_pcodes_used = swiss_surveys[swiss_surveys.quantity > 0].code.unique()\n",
    "\n",
    "# make a list of the codes in use:\n",
    "scodes_used = swiss_codes_parent.loc[swiss_codes_parent.code.isin(swiss_pcodes_used)].copy()\n",
    "scodes_used.set_index('code', inplace=True)\n",
    "scodes_used.fillna(0, inplace=True)"
   ]
  },
  {
   "cell_type": "code",
   "execution_count": 11,
   "metadata": {},
   "outputs": [
    {
     "name": "stdout",
     "output_type": "stream",
     "text": [
      "\n",
      "\n",
      "The number of unique MLW codes in the swiss survey data:\n",
      "180\n",
      "\n",
      "\n",
      "The number of unique MLW codes in the fleet data:\n",
      "104\n",
      "\n"
     ]
    }
   ],
   "source": [
    "print(F\"\\n\\nThe number of unique MLW codes in the swiss survey data:\\n{len(swiss_pcodes_used)}\\n\")\n",
    "print(F\"\\nThe number of unique MLW codes in the fleet data:\\n{len(joint_list['mlw_code'].unique())}\\n\")"
   ]
  },
  {
   "cell_type": "code",
   "execution_count": 12,
   "metadata": {},
   "outputs": [
    {
     "name": "stdout",
     "output_type": "stream",
     "text": [
      "\n",
      "\n",
      "Swiss mlw codes that are not in the OSPAR defs:\n",
      "\n",
      "['G112', 'G23', 'G30', 'G35', 'G38', 'G78', 'G79', 'G81', 'G89', 'G93', 'G117', 'G7', 'G74', 'G82', 'G153', 'G156', 'G126', 'G208', 'G21', 'G131', 'G142', 'G24', 'G31', 'G80', 'G203', 'G194', 'G87', 'G25', 'G61', 'G98', 'G188', 'G8', 'G167', 'G155', 'G83', 'G157', 'G91', 'G12', 'G193', 'G22', 'G90', 'G149', 'G195', 'G201', 'G118', 'G114', 'G135', 'G161', 'G170', 'G106', 'G113', 'G123', 'G181', 'G197', 'G75', 'G103', 'G109', 'G39', 'G105', 'G48', 'G55', 'G202', 'G88', 'G205', 'G64', 'G92', 'G11', 'G102', 'G146', 'G52', 'G119', 'G122', 'G36', 'G115', 'G129', 'G62', 'G2', 'G136', 'G943', 'G139', 'G6', 'G185', 'G111', 'G214', 'G116', 'G143', 'G104', 'G94', 'G84', 'G108', 'G999', 'G107', 'G132', 'G173']\n",
      "\n",
      "\n"
     ]
    }
   ],
   "source": [
    "# find the mwl_codes in use in switzerland that are not included in the joint list\n",
    "no_match_ospar_mlw = [x for x in swiss_pcodes_used if x not in joint_list.mlw_code.unique()]\n",
    "print(F\"\\n\\nSwiss mlw codes that are not in the OSPAR defs:\\n\\n{no_match_ospar_mlw}\\n\\n\")"
   ]
  },
  {
   "cell_type": "code",
   "execution_count": 13,
   "metadata": {},
   "outputs": [],
   "source": [
    "# find the ospar codes in use in switzerland that are not included in the joint list\n",
    "no_match_ospar = [x for x in scodes_used.loc[(scodes_used.ospar_id != 0)]['ospar_id'].unique() if x not in joint_list.ospar_id.unique()]"
   ]
  },
  {
   "cell_type": "markdown",
   "metadata": {},
   "source": [
    "### Combine the MLW-OSPAR definitions from the two data sets. Give priority to definitions from the fleet data"
   ]
  },
  {
   "cell_type": "code",
   "execution_count": 14,
   "metadata": {},
   "outputs": [],
   "source": [
    "# map mlw_code to ospar given the swiss data\n",
    "# and get rid of any OSPAR codes that do not match\n",
    "\n",
    "exclude_these = [0, *no_match_ospar]\n",
    "swl = scodes_used.loc[(~scodes_used.ospar_id.isin(exclude_these))]['ospar_id']\n",
    "# remove any records where the mlw code is invalid:\n",
    "joint_list_mlw = joint_list[joint_list.mlw_code != 'nan']\n",
    "\n",
    "# set the index to the mlw code:\n",
    "joint_list_mlw.set_index('mlw_code', inplace=True)\n",
    "\n",
    "# get just the ospar id\n",
    "joint_list_mlw_keys = joint_list_mlw['ospar_id']"
   ]
  },
  {
   "cell_type": "code",
   "execution_count": 15,
   "metadata": {},
   "outputs": [],
   "source": [
    "# combine the two sets of definitions start with the mlw code:\n",
    "joint_list_defs = list(set(list(joint_list_mlw_keys.index) + list(swl.index)))\n",
    "\n",
    "# make a dataframe, use mlw code as index:\n",
    "use_these_defs = pd.DataFrame(index=joint_list_defs)\n",
    "\n",
    "\n",
    "# simple method to apply the different definitions\n",
    "def make_ospar_defs(x, defs1, defs2):\n",
    "    # favor the definitions from fleet\n",
    "    try:\n",
    "        new_def = defs1.loc[x]\n",
    "    except:\n",
    "        # fall back on the swiss deffs\n",
    "        new_def = defs2.loc[x]\n",
    "    return new_def\n",
    "\n",
    "# apply the method, any swiss ospar id will be replaced with the opsar id from the fleet data\n",
    "use_these_defs['ospar_id'] = use_these_defs.index.map(lambda x:make_ospar_defs(x, joint_list_mlw_keys, swl))\n",
    "\n",
    "# use the zero value to mark not translated codes\n",
    "use_these_defs.fillna(0, inplace=True)"
   ]
  },
  {
   "cell_type": "code",
   "execution_count": 16,
   "metadata": {},
   "outputs": [
    {
     "name": "stdout",
     "output_type": "stream",
     "text": [
      "\n",
      "\n",
      "There are 0 invalid definitions.\n",
      "\n"
     ]
    }
   ],
   "source": [
    "print(F\"\\n\\nThere are {len(use_these_defs[use_these_defs.ospar_id == 0])} invalid definitions.\\n\")"
   ]
  },
  {
   "cell_type": "markdown",
   "metadata": {},
   "source": [
    "### Apply the new deifnitions to the swiss data"
   ]
  },
  {
   "cell_type": "code",
   "execution_count": 17,
   "metadata": {},
   "outputs": [
    {
     "name": "stdout",
     "output_type": "stream",
     "text": [
      "\n",
      "\n",
      "After applying the new definitions there are 60 swiss codes without an OSPAR id\n",
      "\n",
      "\n",
      "The swiss mlw codes with no valid ospar definition:\n",
      "\n",
      "Index(['G136', 'G139', 'G142', 'G143', 'G202', 'G203', 'G205', 'G208', 'G185',\n",
      "       'G193', 'G195', 'G197', 'G146', 'G149', 'G156', 'G157', 'G102', 'G103',\n",
      "       'G104', 'G105', 'G106', 'G107', 'G108', 'G109', 'G111', 'G112', 'G113',\n",
      "       'G114', 'G115', 'G116', 'G117', 'G118', 'G119', 'G122', 'G123', 'G2',\n",
      "       'G23', 'G39', 'G48', 'G52', 'G55', 'G61', 'G62', 'G64', 'G80', 'G83',\n",
      "       'G84', 'G89', 'G90', 'G92', 'G94', 'G943', 'G126', 'G129', 'G131',\n",
      "       'G132', 'G999', 'G167', 'G170', 'G173'],\n",
      "      dtype='object', name='code')\n",
      "\n",
      "\n"
     ]
    }
   ],
   "source": [
    "# apply the those to the swiss codes:\n",
    "def apply_ospar_defs(x, defs1):\n",
    "    try:\n",
    "        new_def = defs1.loc[x][0]\n",
    "    except:\n",
    "        new_def = 0\n",
    "    \n",
    "    return new_def\n",
    "scodes_used['ospar_id'] = scodes_used.index.map(lambda x: apply_ospar_defs(x, use_these_defs))\n",
    "\n",
    "print(F\"\\n\\nAfter applying the new definitions there are {len(scodes_used[scodes_used['ospar_id'] == 0])} swiss codes without an OSPAR id\\n\\n\")\n",
    "print(F\"The swiss mlw codes with no valid ospar definition:\\n\\n{scodes_used[scodes_used.ospar_id == 0].index}\\n\\n\")"
   ]
  },
  {
   "cell_type": "code",
   "execution_count": 18,
   "metadata": {},
   "outputs": [
    {
     "name": "stdout",
     "output_type": "stream",
     "text": [
      "\n",
      "\n",
      "This amounts to 11960 objects\n",
      "\n"
     ]
    }
   ],
   "source": [
    "a_val = swiss_surveys[(swiss_surveys.date >= start_date)&(swiss_surveys.date <= end_date)&(swiss_surveys.code.isin(scodes_used[scodes_used.ospar_id == 0].index))].quantity.sum()\n",
    "\n",
    "print(F\"\\n\\nThis amounts to {a_val} objects\\n\")"
   ]
  },
  {
   "cell_type": "code",
   "execution_count": 19,
   "metadata": {},
   "outputs": [
    {
     "data": {
      "text/plain": [
       "material                          Glass\n",
       "description                 Light bulbs\n",
       "source                    Utility items\n",
       "source_two      Where does it come from\n",
       "source_three                          0\n",
       "parent_code                 Parent code\n",
       "direct                             True\n",
       "single_use                        False\n",
       "micro                             False\n",
       "ospar_id                              0\n",
       "Name: G202, dtype: object"
      ]
     },
     "execution_count": 19,
     "metadata": {},
     "output_type": "execute_result"
    }
   ],
   "source": [
    "# check against orginal data should be zero\n",
    "swiss_codes.set_index('code', inplace=True)\n",
    "swiss_codes.loc['G202']"
   ]
  },
  {
   "cell_type": "code",
   "execution_count": 20,
   "metadata": {},
   "outputs": [
    {
     "data": {
      "text/plain": [
       "material                          Paper\n",
       "description             Paper fragments\n",
       "source                        Undefined\n",
       "source_two      Where does it come from\n",
       "source_three                          0\n",
       "parent_code                 Parent code\n",
       "direct                             True\n",
       "single_use                        False\n",
       "micro                             False\n",
       "ospar_id                              0\n",
       "Name: G156, dtype: object"
      ]
     },
     "execution_count": 20,
     "metadata": {},
     "output_type": "execute_result"
    }
   ],
   "source": [
    "swiss_codes.loc['G156']"
   ]
  },
  {
   "cell_type": "code",
   "execution_count": 21,
   "metadata": {},
   "outputs": [
    {
     "data": {
      "text/plain": [
       "array([ 73,   7,  98,  23,  19,   2,  97,  57,  29,   4,  48, 115,  75,\n",
       "        53,  39,  78, 119,  81,  74, 117,  30,  14,  36,  76,  70,  47,\n",
       "        49,  32, 100, 112,  40, 121,  89, 118,  46, 103,  93,  54,  22,\n",
       "        16,  83,  90,  67,  60, 104,  41,  50,  42,   6,  26,  15,  69,\n",
       "        95, 101,  11,   1,  61,  84,  13,  24,  31,   5,  68,  55, 113,\n",
       "        27,  21,  12,  45,  33, 105,  10,  82,  62,  63,  94,  77,  79,\n",
       "        37,  43, 114, 116,  38,  18,  66,  20,  28,   9,  64, 120, 102,\n",
       "        87,  86,   8,  17, 108,  80,  88,  44,  91,  35,  25,  59,  52,\n",
       "       111,  71,  56,  99,  72,   3])"
      ]
     },
     "execution_count": 21,
     "metadata": {},
     "output_type": "execute_result"
    }
   ],
   "source": [
    "use_these_defs.ospar_id.unique()"
   ]
  },
  {
   "cell_type": "markdown",
   "metadata": {},
   "source": [
    "### Update the definitions for the swiss mlw codes that have no valid ospar id\n",
    "\n",
    "The source for these defintions is here: https://indicit-europa.eu/cms/wp-content/uploads/2017/05/guidance_monitoring_marine_litter_2013.pdf\n",
    "\n",
    "_Remember! these are mlw codes that were not included in the fleet data and had no valid ospar id from the swiss data_"
   ]
  },
  {
   "cell_type": "code",
   "execution_count": 22,
   "metadata": {},
   "outputs": [],
   "source": [
    "# create a dictionary os it can be used as a map\n",
    "update_codes={\n",
    "    'G136':59,\n",
    "    'G139':54,\n",
    "    'G142':59,\n",
    "    'G143':59,\n",
    "    'G202':92,\n",
    "    'G203':96,\n",
    "    'G205':96,\n",
    "    'G208':93,\n",
    "    'G185':89,\n",
    "    'G193':83,\n",
    "    'G195':89,\n",
    "    'G197':89,\n",
    "    'G146':61,\n",
    "    'G149':62,\n",
    "    'G156':67,\n",
    "    'G157':67,\n",
    "    'G102':44,\n",
    "    'G2':2,\n",
    "    'G23':15,\n",
    "    'G39':25,\n",
    "    'G48':32,\n",
    "    'G52':115,\n",
    "    'G55':35,\n",
    "    'G61':48,\n",
    "    'G62':37,\n",
    "    'G64':14,\n",
    "    'G80':47,\n",
    "    'G83':47,\n",
    "    'G84':48,\n",
    "    'G89':48,\n",
    "    'G90':48,\n",
    "    'G92':48,\n",
    "    'G94':48,\n",
    "    'G943':48,\n",
    "    'G129':52,\n",
    "    'G131':53,\n",
    "    'G132':53,\n",
    "    'G167':74,\n",
    "    'G170':74,\n",
    "    'G173':74,\n",
    "    'G999':0,\n",
    "    'G212':0,\n",
    "    'G206':0,\n",
    "    'G209':0,\n",
    "    'G183':0,\n",
    "    'G189':0,\n",
    "    'G192':0,\n",
    "    'G196':0,\n",
    "    'G110':0,\n",
    "    'G120':0,\n",
    "    'G121':0,\n",
    "    'G51':0,\n",
    "    'G57':34,\n",
    "    'G126':53\n",
    "    \n",
    "}\n",
    "\n",
    "# the ospar code fot things less than 5mm is 117\n",
    "# the different MLW codes for things less than 5mm are all assigned this code\n",
    "micro = {x:117 for x in ['G103','G104', 'G105', 'G106', 'G107', 'G108', 'G109', 'G111', 'G112', 'G113', 'G114', 'G115', 'G116', 'G117', 'G118', 'G119','G120', 'G121', 'G122', 'G123']}\n",
    "\n",
    "# combine those two dicts\n",
    "codes_to_update = {**update_codes, **micro}\n",
    "\n",
    "# convert to a list of dicts and prot to df\n",
    "codes_to_update = [{'mlw_code':k,  'ospar_id':v} for k,v in codes_to_update.items()]\n",
    "codes_to_update = pd.DataFrame(codes_to_update)\n",
    "\n",
    "# combine the two definition files\n",
    "ctu = codes_to_update.set_index('mlw_code')\n",
    "new_ospar_keys = ctu.append(use_these_defs)"
   ]
  },
  {
   "cell_type": "code",
   "execution_count": 23,
   "metadata": {},
   "outputs": [
    {
     "name": "stdout",
     "output_type": "stream",
     "text": [
      "\n",
      "\n",
      "This/these can be dropped ['G999']\n",
      "\n",
      "\n"
     ]
    }
   ],
   "source": [
    "swiss_codes.ospar_id = swiss_codes.index.map(lambda x: apply_ospar_defs(x,new_ospar_keys))\n",
    "\n",
    "# these are the codes to fix from the results in the current date range\n",
    "\n",
    "print(F\"\\n\\nThis/these can be dropped {swiss_codes[(swiss_codes.ospar_id == 0)&(swiss_codes.parent_code == 'Parent code')&(swiss_codes.index.isin(scodes_used.index))][['description']].index.values}\\n\\n\")\n"
   ]
  },
  {
   "cell_type": "markdown",
   "metadata": {},
   "source": [
    "## Aggregate and test results"
   ]
  },
  {
   "cell_type": "markdown",
   "metadata": {},
   "source": [
    "#### test the swiss data"
   ]
  },
  {
   "cell_type": "code",
   "execution_count": 24,
   "metadata": {},
   "outputs": [
    {
     "name": "stdout",
     "output_type": "stream",
     "text": [
      "\n",
      "\n",
      " The start quantity: 57942, the ending quantity: 57942\n",
      "\n",
      "\n"
     ]
    }
   ],
   "source": [
    "ch_dated = swiss_surveys[(swiss_surveys.date >= start_date)&(swiss_surveys.date <= end_date)].copy()\n",
    "ch_dated['ospar_id'] = ch_dated.code.map(lambda x: apply_ospar_defs(x,new_ospar_keys))\n",
    "\n",
    "start_q = swiss_surveys[(swiss_surveys.date >= start_date)&(swiss_surveys.date <= end_date)].quantity.sum()\n",
    "end_q = ch_dated.quantity.sum()\n",
    "\n",
    "print(F\"\\n\\n The start quantity: {start_q}, the ending quantity: {end_q}\\n\\n\")"
   ]
  },
  {
   "cell_type": "code",
   "execution_count": 25,
   "metadata": {},
   "outputs": [
    {
     "name": "stdout",
     "output_type": "stream",
     "text": [
      "\n",
      "\n",
      "The number of records in q_day = 658, it should equal the number of times that q_day_dated is equal to q_day: 658\n",
      "\n"
     ]
    }
   ],
   "source": [
    "# group by loc_date and compare values\n",
    "\n",
    "q_day_dated = ch_dated.groupby('loc_date').pcs_m.sum()\n",
    "q_day =  swiss_surveys[(swiss_surveys.date >= start_date)&(swiss_surveys.date <= end_date)].groupby('loc_date').pcs_m.sum()\n",
    "\n",
    "print(F\"\\n\\nThe number of records in q_day = {len(q_day)}, it should equal the number of times that q_day_dated is equal to q_day: {sum(q_day == q_day_dated)}\\n\")"
   ]
  },
  {
   "cell_type": "markdown",
   "metadata": {},
   "source": [
    "#### test the dutch data"
   ]
  },
  {
   "cell_type": "code",
   "execution_count": 26,
   "metadata": {},
   "outputs": [],
   "source": [
    "# make a map of ospar deifnitions from the dutch codes\n",
    "dutch_map = dutch_codes[['ID','ospar_id']]\n",
    "dutch_map.set_index('ID', inplace=True)"
   ]
  },
  {
   "cell_type": "code",
   "execution_count": 27,
   "metadata": {},
   "outputs": [
    {
     "name": "stdout",
     "output_type": "stream",
     "text": [
      "\n",
      "These are the objects in the survey results that did not harmonize:\n",
      "\n",
      " []\n",
      "\n"
     ]
    }
   ],
   "source": [
    "# apply the map to the harmonized survey results\n",
    "use_these = pd.read_csv(F\"{output}/harmonized_results/dutch_surveys_h.csv\")\n",
    "use_these['ospar_id'] = use_these.object.map(lambda x:apply_ospar_defs(x,dutch_map) )\n",
    "\n",
    "print(F\"\\nThese are the objects in the survey results that did not harmonize:\\n\\n {use_these[use_these.ospar_id == 0].object.unique()}\\n\")"
   ]
  },
  {
   "cell_type": "markdown",
   "metadata": {},
   "source": [
    "#### make preliminary top ten"
   ]
  },
  {
   "cell_type": "code",
   "execution_count": 28,
   "metadata": {},
   "outputs": [],
   "source": [
    "# group and sort by code values:\n",
    "code_totals_dutch = use_these.groupby('ospar_id').quantity.sum()\n",
    "code_totals_swiss = ch_dated.groupby('ospar_id').quantity.sum()\n",
    "topten_d = code_totals_dutch.sort_values(ascending=False)\n",
    "topten_ch = code_totals_swiss.sort_values(ascending=False)"
   ]
  },
  {
   "cell_type": "code",
   "execution_count": 29,
   "metadata": {},
   "outputs": [
    {
     "data": {
      "image/png": "[encoded data removed]",
      "text/plain": [
       "<Figure size 504x504 with 2 Axes>"
      ]
     },
     "metadata": {
      "needs_background": "light"
     },
     "output_type": "display_data"
    }
   ],
   "source": [
    "# set some params\n",
    "title_k = {'loc':'left', 'pad':12, 'linespacing':1.5, 'fontsize':12}\n",
    "xlab_k = {'labelpad':12, 'fontsize':12}\n",
    "xlab_k14 = {'labelpad':14, 'fontsize':14}\n",
    "\n",
    "# plot that\n",
    "\n",
    "fig, axs = plt.subplots(1,2, figsize=(7,7))\n",
    "\n",
    "sns.barplot(data=topten_d.iloc[:10], x=topten_d.iloc[:10].index, y=topten_d.iloc[:10], ax=axs[0])\n",
    "sns.barplot(data=topten_ch.iloc[:10], x=topten_ch.iloc[:10].index, y=topten_ch.iloc[:10], ax=axs[1])\n",
    "xticklabels =topten_d.iloc[:10].index.values\n",
    "axs[0].set_title('Dutch', **title_k)\n",
    "axs[0].set_xticklabels(xticklabels, rotation = 45, ha=\"center\")\n",
    "axs[0].set_xlabel('OSPAR id', **xlab_k14)\n",
    "axs[0].set_ylabel('Quantity', **xlab_k14)\n",
    "\n",
    "xticklabels =topten_ch.iloc[:10].index.values\n",
    "axs[1].set_title('Switzerland', **title_k)\n",
    "axs[1].set_xticklabels(xticklabels, rotation = 45, ha=\"center\")\n",
    "axs[1].set_xlabel('OSPAR id', **xlab_k14)\n",
    "axs[1].set_ylabel('Quantity', **xlab_k14)\n",
    "plt.tight_layout()\n",
    "plt.subplots_adjust(left=None, bottom=None, right=None, top=0.85, wspace=None, hspace=None)\n",
    "plt.suptitle(\"Top ten OSPAR codes, including local variants\", y=.97, ha='left',x=.1)\n",
    "fname = F\"{project_directory}/initial_topten_results.jpg\"\n",
    "plt.savefig(fname, dpi=300,)\n",
    "\n",
    "plt.show()\n"
   ]
  },
  {
   "cell_type": "code",
   "execution_count": 30,
   "metadata": {},
   "outputs": [
    {
     "data": {
      "text/plain": [
       "parent_code    21\n",
       "Name: 21.0, dtype: int64"
      ]
     },
     "execution_count": 30,
     "metadata": {},
     "output_type": "execute_result"
    }
   ],
   "source": [
    "# make a top ten without local variants\n",
    "ospar_to_ospar = dutch_codes[[ 'ospar_id', 'parent_code']].drop_duplicates()\n",
    "ospar_to_ospar.set_index('ospar_id', drop=True, inplace=True)\n",
    "ospar_to_ospar.loc[21]"
   ]
  },
  {
   "cell_type": "code",
   "execution_count": 31,
   "metadata": {},
   "outputs": [],
   "source": [
    "def anosparmap(x, defs):\n",
    "    try:\n",
    "        val = defs.loc[x][0]\n",
    "    except:\n",
    "        val = 0\n",
    "        print(x)\n",
    "    return val\n",
    "\n",
    "use_these['new_id'] = use_these.ospar_id.map(lambda x:  anosparmap(x, ospar_to_ospar))"
   ]
  },
  {
   "cell_type": "code",
   "execution_count": 32,
   "metadata": {},
   "outputs": [],
   "source": [
    "# group and sort by code values:\n",
    "code_totals_dutch = use_these.groupby('new_id').quantity.sum()\n",
    "code_totals_swiss = ch_dated.groupby('ospar_id').quantity.sum()\n",
    "topten_d = code_totals_dutch.sort_values(ascending=False)\n",
    "topten_ch = code_totals_swiss.sort_values(ascending=False)"
   ]
  },
  {
   "cell_type": "code",
   "execution_count": 33,
   "metadata": {},
   "outputs": [
    {
     "data": {
      "image/png": "[encoded data removed]",
      "text/plain": [
       "<Figure size 504x504 with 2 Axes>"
      ]
     },
     "metadata": {
      "needs_background": "light"
     },
     "output_type": "display_data"
    }
   ],
   "source": [
    "# set some params\n",
    "title_k = {'loc':'left', 'pad':12, 'linespacing':1.5, 'fontsize':12}\n",
    "xlab_k = {'labelpad':12, 'fontsize':12}\n",
    "xlab_k14 = {'labelpad':14, 'fontsize':14}\n",
    "\n",
    "# plot that\n",
    "\n",
    "fig, axs = plt.subplots(1,2, figsize=(7,7))\n",
    "\n",
    "sns.barplot(data=topten_d.iloc[:10], x=topten_d.iloc[:10].index, y=topten_d.iloc[:10], ax=axs[0])\n",
    "sns.barplot(data=topten_ch.iloc[:10], x=topten_ch.iloc[:10].index, y=topten_ch.iloc[:10], ax=axs[1])\n",
    "xticklabels =topten_d.iloc[:10].index.values\n",
    "axs[0].set_title('Top ten OSPAR codes Dutch', **title_k)\n",
    "axs[0].set_xticklabels(xticklabels, rotation = 45, ha=\"center\")\n",
    "axs[0].set_xlabel('OSPAR id', **xlab_k14)\n",
    "axs[0].set_ylabel('Quantity', **xlab_k14)\n",
    "\n",
    "xticklabels =topten_ch.iloc[:10].index.values\n",
    "axs[1].set_title('Top ten OSPAR codes Switzerland', **title_k)\n",
    "axs[1].set_xticklabels(xticklabels, rotation = 45, ha=\"center\")\n",
    "axs[1].set_xlabel('OSPAR id', **xlab_k14)\n",
    "axs[1].set_ylabel('Quantity', **xlab_k14)\n",
    "plt.tight_layout()\n",
    "plt.subplots_adjust(left=None, bottom=None, right=None, top=0.85, wspace=None, hspace=None)\n",
    "plt.suptitle(\"Top ten OSPAR codes, aggregated local variants\", y=.97, ha='left',x=.1)\n",
    "fname = F\"{project_directory}/initial_topten_results_agg.jpg\"\n",
    "plt.savefig(fname, dpi=300,)\n",
    "\n",
    "plt.show()\n"
   ]
  },
  {
   "cell_type": "code",
   "execution_count": 34,
   "metadata": {},
   "outputs": [
    {
     "data": {
      "text/plain": [
       "Index(['ID', 'description', 'category', 'ospar_id', 'parent_code',\n",
       "       'child_code'],\n",
       "      dtype='object')"
      ]
     },
     "execution_count": 34,
     "metadata": {},
     "output_type": "execute_result"
    }
   ],
   "source": [
    "dutch_codes.columns"
   ]
  },
  {
   "cell_type": "code",
   "execution_count": 35,
   "metadata": {},
   "outputs": [],
   "source": [
    "# these are the Swiss codes with appropriate correct ospar id\n",
    "codes\n",
    "scodes_project = swiss_codes[swiss_codes.index.isin(scodes_used.index)]\n",
    "scodes_project.to_csv(F\"{codes}/swiss_codes_keyed_ospar.csv\")"
   ]
  },
  {
   "cell_type": "markdown",
   "metadata": {},
   "source": [
    "### Choose the correct definition for MLW codes that have many OSPAR ids.\n",
    "\n",
    "The EU is putting together a list of harmonized codes that makes it easier to switch between different systems. We will try and consult that list before making any hasty decisions.\n",
    "\n",
    "### Account for equivalencies for dutch child codes\n",
    "\n",
    "Both projects use a coding system for items of local concern (sub codes or child codes) we need to find each projects analog and use appropriate OSPAR code.\n",
    "\n"
   ]
  },
  {
   "cell_type": "code",
   "execution_count": 36,
   "metadata": {},
   "outputs": [],
   "source": [
    "## !!! refresh the data from the hammerdirt api here:\n",
    "\n",
    "# a = requests.get('https://mwshovel.pythonanywhere.com/api/surveys/daily-totals/code-totals/swiss/')\n",
    "# b = requests.get('https://mwshovel.pythonanywhere.com/api/list-of-beaches/swiss/')\n",
    "# c = requests.get('https://mwshovel.pythonanywhere.com/api/mlw-codes/list/')\n",
    "\n",
    "# # the surveys need to be unpacked:\n",
    "# swiss_surveys = ut.unpack_survey_results(a.json())\n",
    "# swiss_surveys = pd.DataFrame(swiss_surveys)\n",
    "\n",
    "# # adding location date column\n",
    "# swiss_surveys['loc_date'] = list(zip(swiss_surveys['location'], swiss_surveys['date']))\n",
    "\n",
    "# # hold the original\n",
    "# x = a.json()\n",
    "\n",
    "# print(\"survey columns\")\n",
    "# print(swiss_surveys.columns)\n",
    "\n",
    "# swiss_beaches = pd.DataFrame(b.json())\n",
    "# print(\"beach columns\")\n",
    "# print(swiss_beaches.columns)\n",
    "\n",
    "# print(\"code columns\")\n",
    "# swiss_codes = pd.DataFrame(c.json())\n",
    "# print(swiss_codes.columns)\n",
    "\n",
    "# swiss_surveys.to_csv(data+'/hammerdirt_data.csv')\n",
    "# swiss_beaches.to_csv(beaches+'/hammerdirt_beaches.csv')\n",
    "# swiss_codes.to_csv(codes+'/swiss_codes.csv')\n"
   ]
  }
 ],
 "metadata": {
  "kernelspec": {
   "display_name": "Python 3",
   "language": "python",
   "name": "python3"
  },
  "language_info": {
   "codemirror_mode": {
    "name": "ipython",
    "version": 3
   },
   "file_extension": ".py",
   "mimetype": "text/x-python",
   "name": "python",
   "nbconvert_exporter": "python",
   "pygments_lexer": "ipython3",
   "version": "3.8.3"
  }
 },
 "nbformat": 4,
 "nbformat_minor": 4
}
