{
 "cells": [
  {
   "cell_type": "markdown",
   "metadata": {},
   "source": [
    "### general tenplate\n",
    "\n",
    "\n",
    "Fetches data from the local source and esyablishes the following variables:\n",
    "\n",
    "1. dutch_codes\n",
    "2. swiss_codes\n",
    "3. dutch_surveys\n",
    "4. swiss_surveys\n",
    "5. swiss_beaches\n",
    "\n",
    "\n",
    "Establishes directory variables for fetching and putting to all subdirectories:\n",
    "\n",
    "1. data\n",
    "2. beaches\n",
    "3. codes\n",
    "4. geo\n",
    "5. output\n",
    "\n",
    "provides a script to update the remote data."
   ]
  },
  {
   "cell_type": "code",
   "execution_count": 1,
   "metadata": {},
   "outputs": [],
   "source": [
    "# sys things\n",
    "import os\n",
    "import sys\n",
    "import json\n",
    "\n",
    "# networks\n",
    "import requests\n",
    "\n",
    "# data\n",
    "import pandas as pd\n",
    "import numpy as np\n",
    "import scipy\n",
    "import math\n",
    "import seaborn as sns\n",
    "\n",
    "import resources.utilities.utility_functions as ut"
   ]
  },
  {
   "cell_type": "code",
   "execution_count": 2,
   "metadata": {},
   "outputs": [
    {
     "name": "stdout",
     "output_type": "stream",
     "text": [
      "resources/surveydata resources/locationdata resources/mlwcodedefs resources/geodata output\n"
     ]
    }
   ],
   "source": [
    "# get folder extesions\n",
    "data, beaches, codes, geo, output=ut.make_local_paths()\n",
    "print(data, beaches, codes, geo, output)"
   ]
  },
  {
   "cell_type": "code",
   "execution_count": 42,
   "metadata": {},
   "outputs": [],
   "source": [
    "# code data\n",
    "dutch_codes = pd.read_csv(codes+'/dutch_codes.csv')\n",
    "dutch_codes.fillna(0, inplace=True)\n",
    "# housekeeping\n",
    "dutch_codes.rename(columns={'OSPAR_ID':'ospar_id', 'Description':'description'}, inplace=True)\n",
    "swiss_codes = pd.read_csv(codes+'/swiss_codes.csv')\n",
    "swiss_codes.rename(columns={'ospar_code':'ospar_id'}, inplace=True)\n",
    "swiss_codes.fillna(0, inplace=True)\n",
    "\n",
    "# survey_data\n",
    "dutch_surveys = pd.read_csv(data+'/dataset_macrolitter_NL.csv')\n",
    "swiss_surveys = pd.read_csv(data+'/hammerdirt_data.csv')\n",
    "#housekeeping\n",
    "\n",
    "\n",
    "# location data\n",
    "swiss_beaches = pd.read_csv(beaches+'/hammerdirt_beaches.csv')"
   ]
  },
  {
   "cell_type": "code",
   "execution_count": 43,
   "metadata": {},
   "outputs": [],
   "source": [
    "# process the ducth codes:\n",
    "# identify codes that are common to both 'ospar_id' columns\n",
    "dutch_codes['parent_code'] = dutch_codes.ospar_id.round(0)\n",
    "dutch_codes['child_code'] = dutch_codes.ospar_id - dutch_codes.parent_code\n",
    "\n",
    "# the number of child codes:\n",
    "\n",
    "child_codes = dutch_codes.loc[dutch_codes.child_code > 0]\n",
    "ccodes = child_codes.parent_code.unique()\n",
    "\n",
    "# all the codes with no remainder:\n",
    "parent_codes = dutch_codes.loc[dutch_codes.child_code == 0]\n",
    "pcodes = parent_codes.parent_code.unique()\n",
    "\n",
    "dcodesall = dutch_codes.parent_code.unique()"
   ]
  },
  {
   "cell_type": "code",
   "execution_count": 57,
   "metadata": {},
   "outputs": [
    {
     "name": "stdout",
     "output_type": "stream",
     "text": [
      "True\n"
     ]
    }
   ],
   "source": [
    "# process the swiss codes\n",
    "scodesall = swiss_codes.ospar_id.unique()\n",
    "\n",
    "def drop_bad_codes(x):\n",
    "    try:\n",
    "        the_x = int(x)\n",
    "    except:\n",
    "        the_x = 0\n",
    "    else:\n",
    "        pass     \n",
    "    finally:\n",
    "        return the_x \n",
    "\n",
    "fixed_swiss_codes = [drop_bad_codes(x) for x in scodesall]\n",
    "swiss_codes['ospar_id']=swiss_codes.ospar_id.map(lambda x: drop_bad_codes(x))\n",
    "\n",
    "# make sur they match:\n",
    "print(fixed_swiss_codes == list(swiss_codes.ospar_id.unique()))"
   ]
  },
  {
   "cell_type": "code",
   "execution_count": 72,
   "metadata": {},
   "outputs": [
    {
     "name": "stdout",
     "output_type": "stream",
     "text": [
      "The ospar codes unaccounted for\n",
      "\n",
      "[0, 181, 111, 56, 94, 96, 118, 12, 23, 114, 45]\n",
      "\n",
      "\n",
      "The MLW codes unaccounted for\n",
      "\n",
      "['G212' 'G213' 'G214' 'G136' 'G139' 'G140' 'G142' 'G143' 'G202' 'G203'\n",
      " 'G204' 'G205' 'G206' 'G207' 'G208' 'G209' 'G210' 'G917' 'G921' 'G174'\n",
      " 'G179' 'G180' 'G183' 'G184' 'G185' 'G186' 'G187' 'G189' 'G190' 'G191'\n",
      " 'G192' 'G193' 'G195' 'G196' 'G197' 'G198' 'G199' 'G146' 'G147' 'G148'\n",
      " 'G149' 'G150' 'G154' 'G156' 'G157' 'G158' 'G101' 'G102' 'G103' 'G104'\n",
      " 'G105' 'G106' 'G107' 'G108' 'G109' 'G110' 'G111' 'G112' 'G113' 'G114'\n",
      " 'G115' 'G116' 'G117' 'G118' 'G119' 'G120' 'G121' 'G122' 'G123' 'G124'\n",
      " 'G13' 'G14' 'G15' 'G16' 'G17' 'G18' 'G19' 'G2' 'G23' 'G36' 'G37' 'G39'\n",
      " 'G42' 'G43' 'G44' 'G45' 'G46' 'G47' 'G48' 'G49' 'G5' 'G50' 'G51' 'G52'\n",
      " 'G53' 'G54' 'G55' 'G56' 'G57' 'G58' 'G59' 'G60' 'G61' 'G62' 'G63' 'G64'\n",
      " 'G65' 'G68' 'G69' 'G70' 'G71' 'G72' 'G73' 'G74' 'G77' 'G80' 'G83' 'G84'\n",
      " 'G85' 'G86' 'G89' 'G90' 'G909' 'G92' 'G925' 'G926' 'G927' 'G928' 'G930'\n",
      " 'G931' 'G932' 'G933' 'G934' 'G935' 'G937' 'G938' 'G939' 'G94' 'G940'\n",
      " 'G942' 'G943' 'G944' 'G97' 'G99' 'G126' 'G127' 'G128' 'G129' 'G130'\n",
      " 'G131' 'G132' 'G134' 'G998' 'G999' 'G159' 'G160' 'G162' 'G163' 'G164'\n",
      " 'G166' 'G167' 'G168' 'G169' 'G170' 'G171' 'G172' 'G173' 'G916']\n"
     ]
    }
   ],
   "source": [
    "# codes in swisscode not in dutch codes:\n",
    "noncodes = [ x for x in fixed_swiss_codes if x not in dcodesall]\n",
    "\n",
    "print(\"The ospar codes unaccounted for\\n\")\n",
    "print(noncodes)\n",
    "print(\"\\n\")\n",
    "\n",
    "# code defininitions for noncodes:\n",
    "noncodesdf = swiss_codes.loc[swiss_codes.ospar_id.isin(noncodes)]\n",
    "\n",
    "# mlw codes not accounted for:\n",
    "\n",
    "print(\"The MLW codes unaccounted for\\n\")\n",
    "print(noncodesdf.code.unique())"
   ]
  },
  {
   "cell_type": "code",
   "execution_count": 5,
   "metadata": {},
   "outputs": [],
   "source": [
    "## !!! refresh the data from the hammerdirt api here:\n",
    "\n",
    "# a = requests.get('https://mwshovel.pythonanywhere.com/api/surveys/daily-totals/code-totals/swiss/')\n",
    "# b = requests.get('https://mwshovel.pythonanywhere.com/api/list-of-beaches/swiss/')\n",
    "# c = requests.get('https://mwshovel.pythonanywhere.com/api/mlw-codes/list/')\n",
    "\n",
    "# # the surveys need to be unpacked:\n",
    "# swiss_surveys = ut.unpack_survey_results(a.json())\n",
    "# swiss_surveys = pd.DataFrame(swiss_surveys)\n",
    "\n",
    "# # adding location date column\n",
    "# swiss_surveys['loc_date'] = list(zip(swiss_surveys['location'], swiss_surveys['date']))\n",
    "\n",
    "# # hold the original\n",
    "# x = a.json()\n",
    "\n",
    "# print(\"survey columns\")\n",
    "# print(swiss_surveys.columns)\n",
    "\n",
    "# swiss_beaches = pd.DataFrame(b.json())\n",
    "# print(\"beach columns\")\n",
    "# print(swiss_beaches.columns)\n",
    "\n",
    "# print(\"code columns\")\n",
    "# swiss_codes = pd.DataFrame(c.json())\n",
    "# print(swiss_codes.columns)\n",
    "\n",
    "# swiss_surveys.to_csv(data+'/hammerdirt_data.csv')\n",
    "# swiss_beaches.to_csv(beaches+'/hammerdirt_beaches.csv')\n",
    "# swiss_codes.to_csv(codes+'/swiss_codes.csv')\n"
   ]
  }
 ],
 "metadata": {
  "kernelspec": {
   "display_name": "Python 3",
   "language": "python",
   "name": "python3"
  },
  "language_info": {
   "codemirror_mode": {
    "name": "ipython",
    "version": 3
   },
   "file_extension": ".py",
   "mimetype": "text/x-python",
   "name": "python",
   "nbconvert_exporter": "python",
   "pygments_lexer": "ipython3",
   "version": "3.8.3"
  }
 },
 "nbformat": 4,
 "nbformat_minor": 4
}
