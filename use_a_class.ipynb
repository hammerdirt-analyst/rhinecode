{
 "cells": [
  {
   "cell_type": "code",
   "execution_count": 1,
   "metadata": {},
   "outputs": [],
   "source": [
    "# sys, file and nav packages:\n",
    "import os\n",
    "import datetime as dt\n",
    "import csv\n",
    "\n",
    "# math packages:\n",
    "import pandas as pd\n",
    "import math\n",
    "import numpy as np\n",
    "import datetime as dt \n",
    "\n",
    "from scipy import stats\n",
    "from scipy.stats import kendalltau, pearsonr, spearmanr\n",
    "# from scipy.stats import gamma\n",
    "# from scipy.stats import beta\n",
    "# from scipy.stats import binom\n",
    "# from scipy.stats import bernoulli\n",
    "\n",
    "# import statsmodels.api as sm\n",
    "# from statsmodels.graphics.gofplots import qqplot_2samples\n",
    "# from statsmodels.distributions.empirical_distribution import ECDF\n",
    "\n",
    "# charting:\n",
    "import matplotlib as mpl\n",
    "import matplotlib.pyplot as plt\n",
    "import matplotlib.dates as mdates\n",
    "from matplotlib import ticker\n",
    "import matplotlib.ticker as mtick\n",
    "import seaborn as sns\n",
    "# from matplotlib.gridspec import GridSpec\n",
    "# from matplotlib import cm\n",
    "# from matplotlib.colors import ListedColormap, LinearSegmentedColormap, Colormap\n",
    "\n",
    "# mapping\n",
    "# import geopandas as gpd\n",
    "\n",
    "# home brew utitilties\n",
    "import resources.utilities.utility_functions as ut\n",
    "import resources.utilities.abundance_classes as ac\n",
    "\n",
    "# documenting\n",
    "from IPython.display import display, Markdown, Latex, HTML\n",
    "\n",
    "\n",
    "# returns the p_value for each test\n",
    "def kendall_pval(x,y):\n",
    "    return kendalltau(x,y)[1]\n",
    "\n",
    "def pearsonr_pval(x,y):\n",
    "    return pearsonr(x,y)[1]\n",
    "\n",
    "def spearmanr_pval(x,y):\n",
    "    return spearmanr(x,y)[1]\n",
    "\n",
    "# table kwargs\n",
    "table_k = dict(loc=\"top left\", bbox=(0,0,1,1), colWidths=[.5, .5], cellLoc='center')\n",
    "tablecenter_k = dict(loc=\"top left\", bbox=(0,0,1,1), cellLoc='center')\n",
    "tabtickp_k = dict(axis='both', which='both', bottom=False, top=False, left=False, right=False, labelleft=False, labelbottom=False)\n",
    "\n",
    "# chart kwargs\n",
    "title_k = {'loc':'left', 'pad':14, 'linespacing':1.5, 'fontsize':12}\n",
    "title_k14 = {'loc':'left', 'pad':16, 'linespacing':1.5, 'fontsize':14}\n",
    "xlab_k = {'labelpad':10, 'fontsize':12}\n",
    "ylab_k = {'labelpad':14, 'fontsize':14}\n",
    "\n",
    "\n",
    "# # use these to format date axis in charts\n",
    "# weeks = mdates.WeekdayLocator(byweekday=1, interval=4)\n",
    "# # onedayweek = mdates.DayLocator(bymonthday=1, interval=1)\n",
    "# # everytwoweeks = mdates.WeekdayLocator(byweekday=1, interval=4)\n",
    "\n",
    "# months = mdates.MonthLocator(bymonth=[3,6,9,12])\n",
    "# bimonthly = mdates.MonthLocator(bymonth=[1,3,5,7,9,11])\n",
    "# allmonths = mdates.MonthLocator()\n",
    "# wks_fmt = mdates.DateFormatter('%d')\n",
    "# mths_fmt = mdates.DateFormatter('%b')\n",
    "\n",
    "# map marker size:\n",
    "survey_data, location_data, code_defs, geo_data, output = ut.make_local_paths()"
   ]
  },
  {
   "cell_type": "markdown",
   "metadata": {},
   "source": [
    "### Discussion:\n",
    "\n",
    "Based on the \n",
    "#### geographic spread\n",
    "\n",
    "While \n",
    "#### abundance - regional differences\n",
    "\n",
    "After tobacco objects, Polystrene pieces are ~13% of the total objects found, followed by plastic sheeting ~5%, and waste water ~5%. The most numerous objects are different for each water feature. For example on Lac Léman, Brienzersee and Lago Maggiore polystyrene and food products replace tobacco products as the the most numerous objects __\\(figure 3, 4 and 5\\)__.\n",
    "\n",
    "#### influences\n",
    "\n",
    "results suggest \n",
    "\n",
    "#### just cigarette butts\n",
    "\n",
    "Considered individually\n",
    "### Conclusion\n",
    "\n",
    "Considered "
   ]
  },
  {
   "cell_type": "code",
   "execution_count": 2,
   "metadata": {},
   "outputs": [],
   "source": [
    "# set some parameters:\n",
    "start_date = '2020-04-01'\n",
    "end_date = '2021-04-01'\n",
    "\n",
    "startyearmonth = '{}/{}'.format(start_date[5:7], start_date[:4])\n",
    "endyearmonth = '{}/{}'.format(end_date[5:7], end_date[:4]) \n",
    "\n",
    "# decide which data to use\n",
    "aggregated = False\n",
    "\n",
    "\n",
    "# collect the names:\n",
    "# group_names = list(these_groups.keys())\n",
    "\n",
    "# choose a lake:\n",
    "# lake = 'Lac Léman'\n",
    "# coi = 'Neuchâtel'\n",
    "# bassin_label = 'Aare'\n",
    "# bassin = ['Aare', 'Aare|Nidau-Büren-Kanal','Schüss', 'Neuenburgersee', 'Thunersee','Bielersee', 'Brienzersee','La Thièle']\n",
    "# bassin_lmn = ['Rhône', 'Lac Léman']\n",
    "# samples_all = 'All samples'\n",
    "\n",
    "\n",
    "\n",
    "# define a significant event:\n",
    "sig = .9\n",
    "one_minus_sig = (1-sig)\n",
    "\n",
    "# define explanatory variables:\n",
    "expv = ['population','streets','buildings','rivs']\n",
    "\n",
    "# name the folder:\n",
    "name_of_project = 'setup_class_methods'\n",
    "\n",
    "# use this to store things:\n",
    "project_directory = ut.make_project_folder(output, name_of_project)\n",
    "\n",
    "# keep track of output\n",
    "files_generated = []\n",
    "figure_num = 0\n",
    "data_num = 0\n",
    "\n",
    "def add_output(**kwargs):\n",
    "    files_generated.append({'tag':kwargs['tag'], 'number':kwargs['figure_num'], 'file':kwargs['file'],'type':kwargs['a_type']})\n",
    "    if kwargs['a_type'] == 'data':\n",
    "        kwargs['data'].to_csv(F\"{kwargs['file']}.csv\", index=False)\n",
    "    else:\n",
    "        plt.savefig(F\"{kwargs['file']}.jpeg\", dpi=300)"
   ]
  },
  {
   "cell_type": "code",
   "execution_count": 3,
   "metadata": {},
   "outputs": [],
   "source": [
    "# get the data\n",
    "dutch_surveys = pd.read_csv(F\"{output}/harmonized_results/dutch_harmonized.csv\")\n",
    "\n",
    "dutch_beaches = pd.read_csv(F\"{output}/harmonized_results/dutch_admin_h.csv\")\n",
    "\n",
    "dutch_codes = pd.read_csv(F\"{code_defs}/new_dutch_codes.csv\")\n",
    "\n",
    "\n",
    "# the dutch codes set the start and end\n",
    "start_date = dutch_surveys['date'].min()\n",
    "end_date = dutch_surveys['date'].max()"
   ]
  },
  {
   "cell_type": "code",
   "execution_count": 4,
   "metadata": {},
   "outputs": [],
   "source": [
    "# use the aggregated hd data. This accounts for the custom codes used in Switzerland\n",
    "swiss_surveys = pd.read_csv(survey_data+'/aggregated_hd_surveys.csv')\n",
    "\n",
    "# these are the water features that drain to the Rhine:\n",
    "water_names = ['Aare', 'Sihl', 'Reuss', 'Rhein', 'Limmat', 'Seez','Zurichsee','Quatre Cantons', 'Vorderrhein', 'Zugersee','Glatt', 'Goldach', 'Greifensee','Bodensee', 'Chriesbach', 'Emme', 'Neuenburgersee', 'Walensee' ]\n",
    "\n",
    "months_of_surveys = [9,10,11,4,5,6]\n",
    "\n",
    "dutch_water_names = []\n",
    "# format the date and slice the data \n",
    "swiss_surveys['date'] = pd.to_datetime(swiss_surveys['date'], format='%Y-%m-%d')\n",
    "swissDf = swiss_surveys[(swiss_surveys.date >= start_date)&(swiss_surveys.date <= end_date)].copy()\n",
    "\n",
    "# location data\n",
    "swiss_beaches = pd.read_csv(location_data+'/hammerdirt_beaches.csv')\n",
    "\n",
    "# code data from switzerland\n",
    "swiss_codes = pd.read_csv(F\"{code_defs}/swiss_codes_keyed_ospar.csv\")"
   ]
  },
  {
   "cell_type": "markdown",
   "metadata": {},
   "source": [
    "### Harmonize data results for class methods"
   ]
  },
  {
   "cell_type": "code",
   "execution_count": 5,
   "metadata": {},
   "outputs": [
    {
     "name": "stdout",
     "output_type": "stream",
     "text": [
      "Index(['location', 'latitude', 'longitude', 'city', 'country', 'water_name',\n",
      "       'water', 'lat_lon', 'slug', 'Gebiedscode'],\n",
      "      dtype='object')\n",
      "Index(['slug', 'location', 'latitude', 'longitude', 'city', 'post', 'country',\n",
      "       'water', 'water_name', 'city_slug', 'water_name_slug', 'is_2020'],\n",
      "      dtype='object')\n"
     ]
    }
   ],
   "source": [
    "print(dutch_beaches.columns)\n",
    "print(swiss_beaches.columns)"
   ]
  },
  {
   "cell_type": "code",
   "execution_count": 6,
   "metadata": {},
   "outputs": [],
   "source": [
    "dutch_surveys['date'] = pd.to_datetime(dutch_surveys.date, format=\"%Y-%m-%d\")"
   ]
  },
  {
   "cell_type": "code",
   "execution_count": 7,
   "metadata": {},
   "outputs": [],
   "source": [
    "swiss_beaches.set_index('slug', inplace=True)\n",
    "\n",
    "# assign the water feature type to each result\n",
    "\n",
    "# make maps\n",
    "lakes = swiss_beaches.loc[swiss_beaches.water == 'l'].index\n",
    "rivers = swiss_beaches.loc[swiss_beaches.water == 'r'].index\n",
    "\n",
    "# apply maps:\n",
    "swissDf.loc[swissDf.location.isin(lakes), 'water'] = 'l'\n",
    "swissDf.loc[swissDf.location.isin(rivers), 'water'] = 'r'"
   ]
  },
  {
   "cell_type": "code",
   "execution_count": 8,
   "metadata": {},
   "outputs": [
    {
     "data": {
      "text/plain": [
       "Index(['loc_date', 'date', 'pcs_m', 'quantity', 'location', 'water_name',\n",
       "       'water', 'code', 'region'],\n",
       "      dtype='object')"
      ]
     },
     "execution_count": 8,
     "metadata": {},
     "output_type": "execute_result"
    }
   ],
   "source": [
    "# key in the ospar id to the swiss surveys\n",
    "swiss_codes.set_index('code', inplace=True)\n",
    "\n",
    "# map that value\n",
    "os_mlw_map = swiss_codes.ospar_id\n",
    "\n",
    "# apply map\n",
    "swissDf['ospar_id'] = swissDf.code.map(lambda x: os_mlw_map.loc[x] )\n",
    "\n",
    "# swap the code values\n",
    "swiss_surveys = swissDf[swissDf.water_name.isin(water_names)].drop('code', axis=1)\n",
    "swiss_surveys.rename(columns={'ospar_id':'code'}, inplace=True)\n",
    "\n",
    "# identify the swiss surveys as a group\n",
    "swiss_surveys['region'] = 'CH'\n",
    "swiss_surveys.columns"
   ]
  },
  {
   "cell_type": "code",
   "execution_count": 9,
   "metadata": {},
   "outputs": [],
   "source": [
    "swiss_surveys['month'] = swiss_surveys['date'].dt.month"
   ]
  },
  {
   "cell_type": "code",
   "execution_count": 10,
   "metadata": {},
   "outputs": [
    {
     "data": {
      "text/plain": [
       "Index(['location', 'date', 'loc_date', 'water_name', 'code', 'quantity',\n",
       "       'pcs_m'],\n",
       "      dtype='object')"
      ]
     },
     "execution_count": 10,
     "metadata": {},
     "output_type": "execute_result"
    }
   ],
   "source": [
    "dutch_surveys.columns"
   ]
  },
  {
   "cell_type": "code",
   "execution_count": 11,
   "metadata": {},
   "outputs": [],
   "source": [
    "# key the ospar code value into the dutch surveys\n",
    "current_codes = dutch_surveys.code.unique()\n",
    "\n",
    "# make a column to store the new code\n",
    "dutch_surveys['new_code'] = 0\n",
    "\n",
    "# make a map\n",
    "d_c_map = dutch_codes[['ID', 'parent_code']]\n",
    "d_c_map.set_index('ID', drop=True, inplace=True)\n",
    "\n",
    "# apply map\n",
    "for a_code in current_codes:\n",
    "    dutch_surveys.loc[dutch_surveys.code==a_code, 'new_code']= d_c_map.loc[a_code][0]\n",
    "\n",
    "# swap out the columns\n",
    "dutch_surveys.drop('code', inplace=True, axis=1)\n",
    "dutch_surveys.rename(columns={'new_code':'code'}, inplace=True)\n",
    "\n",
    "# identify the surveys as a whole\n",
    "dutch_surveys['region'] ='NL'\n",
    "dutch_surveys['water']='r'"
   ]
  },
  {
   "cell_type": "code",
   "execution_count": 12,
   "metadata": {},
   "outputs": [],
   "source": [
    "surveys_all = pd.concat([swiss_surveys, dutch_surveys])\n",
    "surveys_all['month'] = surveys_all.date.dt.month"
   ]
  },
  {
   "cell_type": "code",
   "execution_count": 13,
   "metadata": {},
   "outputs": [
    {
     "data": {
      "text/plain": [
       "region\n",
       "CH     33929.0\n",
       "NL    151006.0\n",
       "Name: quantity, dtype: float64"
      ]
     },
     "execution_count": 13,
     "metadata": {},
     "output_type": "execute_result"
    }
   ],
   "source": [
    "surveys_all.groupby('region').quantity.sum()"
   ]
  },
  {
   "cell_type": "code",
   "execution_count": 14,
   "metadata": {},
   "outputs": [
    {
     "name": "stdout",
     "output_type": "stream",
     "text": [
      "33929 151006.0\n",
      "395 382\n"
     ]
    }
   ],
   "source": [
    "print(swiss_surveys.quantity.sum(), dutch_surveys.quantity.sum())\n",
    "\n",
    "s_samps = swiss_surveys.loc_date.nunique()\n",
    "d_samps = dutch_surveys.loc_date.nunique()\n",
    "print(s_samps, d_samps)"
   ]
  },
  {
   "cell_type": "code",
   "execution_count": 15,
   "metadata": {},
   "outputs": [
    {
     "data": {
      "text/plain": [
       "region\n",
       "CH    395\n",
       "NL    382\n",
       "Name: loc_date, dtype: int64"
      ]
     },
     "execution_count": 15,
     "metadata": {},
     "output_type": "execute_result"
    }
   ],
   "source": [
    "surveys_all.groupby('region').loc_date.nunique()"
   ]
  },
  {
   "cell_type": "code",
   "execution_count": 16,
   "metadata": {},
   "outputs": [
    {
     "name": "stdout",
     "output_type": "stream",
     "text": [
      "added exp vs\n"
     ]
    }
   ],
   "source": [
    "# these are the columns that the class method expects to see:\n",
    "these_cols = ['loc_date', 'location', 'water_name','water', 'date','month', 'region']\n",
    "\n",
    "a = ac.PreprocessData(surveys_all, dutch_beaches,these_cols=these_cols)"
   ]
  },
  {
   "cell_type": "code",
   "execution_count": 17,
   "metadata": {},
   "outputs": [],
   "source": [
    "catchment_cols = ['region','water_name','water','loc_date', 'location', 'date', 'month']\n",
    "\n",
    "clas_kwargs = dict(\n",
    "#     code_group_data=group_names_locations,\n",
    "#     new_code_group=frag_plas,\n",
    "#     levels=levels,\n",
    "#     catchment_features=bassin,\n",
    "    end_date=end_date,\n",
    "    start_date=start_date,\n",
    "#     code_group_loc=output,\n",
    "    catchment_cols=catchment_cols)\n"
   ]
  },
  {
   "cell_type": "code",
   "execution_count": 18,
   "metadata": {},
   "outputs": [
    {
     "name": "stdout",
     "output_type": "stream",
     "text": [
      "made code totals\n"
     ]
    }
   ],
   "source": [
    "b = ac.CatchmentArea(a.processed, swiss_beaches, **clas_kwargs)"
   ]
  },
  {
   "cell_type": "markdown",
   "metadata": {},
   "source": [
    "### Geographic spread and frequency"
   ]
  },
  {
   "cell_type": "code",
   "execution_count": 19,
   "metadata": {},
   "outputs": [],
   "source": [
    "# wfoams = ['G81', 'G82', 'G117']\n",
    "# yfoams = ['G74', 'G73', 'G75']\n",
    "# pand = ['G900', 'G901', 'G902']\n",
    "# candy = ['G30']\n",
    "# personal_hygiene = dfCodes.loc[dfCodes.source == 'Personal hygiene'].index.to_numpy()\n",
    "# tobacco_codes = dfCodes.loc[dfCodes.source == 'Tobacco'].index.to_numpy()\n",
    "\n",
    "# make a copy of the data to work with\n",
    "\n",
    "# eliminate the OSPAR code 117, these objects were not counted in Switzerland 2017\n",
    "som_data = b.bassin_data[b.bassin_data.code != 117].copy()\n",
    "\n",
    "# use only the data that was gathered in the following months\n",
    "som_data = som_data.loc[som_data.month.isin(months_of_surveys)]\n",
    "\n",
    "data_num+=1\n",
    "# 'tag':kwargs['tag'], 'number':kwargs['figure_num'], 'file':kwargs['file'],'type':kwargs['a_type']\n",
    "a_tag = 'data used for all calculations'\n",
    "\n",
    "file = F\"{project_directory}/all_data_used.csv\"\n",
    "a_type='data'\n",
    "\n",
    "add_output(tag=a_tag, figure_num=data_num, a_type=a_type, file=file, data=som_data)"
   ]
  },
  {
   "cell_type": "code",
   "execution_count": 20,
   "metadata": {},
   "outputs": [
    {
     "name": "stdout",
     "output_type": "stream",
     "text": [
      "The number of samples, number of locations, the total number of objects and the number of cities:\n",
      "\n",
      "1. number of samples: 243\n",
      "2. number of locations: 141\n",
      "3. number of objects: 24023.0\n",
      "4. number of features: 20\n",
      "\n",
      "\n",
      "The data is limited to all samples on or after 2017-07-04 and up to 2019-04-24\n"
     ]
    }
   ],
   "source": [
    "number_of_samples = len(som_data.loc_date.unique())\n",
    "number_of_locations = len(som_data.location.unique())\n",
    "number_of_objects = som_data.quantity.sum()\n",
    "number_of_features = len(som_data.water_name.unique())\n",
    "print(F\"The number of samples, number of locations, the total number of objects and the number of cities:\\n\\n1. number of samples: {number_of_samples}\\n2. number of locations: {number_of_locations}\\n3. number of objects: {number_of_objects}\\n4. number of features: {number_of_features}\\n\")\n",
    "print(F\"\\nThe data is limited to all samples on or after {start_date} and up to {end_date}\")"
   ]
  },
  {
   "cell_type": "code",
   "execution_count": 21,
   "metadata": {},
   "outputs": [
    {
     "name": "stdout",
     "output_type": "stream",
     "text": [
      "There are 20 different water features:\n",
      "\n",
      "[array(['Aare', 'Bodensee', 'Chriesbach', 'Emme', 'Glatt', 'Goldach',\n",
      "       'Greifensee', 'Limmat', 'Neuenburgersee', 'Reuss', 'Rhein', 'Sihl',\n",
      "       'Quatre Cantons', 'Vorderrhein', 'Walensee', 'Zurichsee',\n",
      "       'Zugersee'], dtype=object)\n",
      " array(['Waal', 'Maas', 'Nederrijn'], dtype=object)]\n"
     ]
    }
   ],
   "source": [
    "print(F\"There are {len(som_data.water_name.unique())} different water features:\\n\\n{som_data.groupby('region').water_name.unique().to_numpy()}\")"
   ]
  },
  {
   "cell_type": "code",
   "execution_count": 22,
   "metadata": {},
   "outputs": [
    {
     "name": "stdout",
     "output_type": "stream",
     "text": [
      "The number of locations and the number of samples per location:\n",
      "\n",
      "                # of locations  # of samples\n",
      "water_name                                  \n",
      "Aare                         9            24\n",
      "Bodensee                     3             8\n",
      "Chriesbach                   1             3\n",
      "Emme                         3             6\n",
      "Glatt                        1             1\n",
      "Goldach                      1             2\n",
      "Greifensee                   3             5\n",
      "Limmat                       5            14\n",
      "Maas                        50            54\n",
      "Nederrijn                    1             1\n",
      "Neuenburgersee               1             2\n",
      "Quatre Cantons               3             9\n",
      "Reuss                        3             7\n",
      "Rhein                        5            14\n",
      "Sihl                         6            12\n",
      "Vorderrhein                  1             3\n",
      "Waal                        34            50\n",
      "Walensee                     1             2\n",
      "Zugersee                     2             5\n",
      "Zurichsee                    8            21\n"
     ]
    }
   ],
   "source": [
    "# the number of locations by feature\n",
    "num_loc_feature = som_data.groupby('water_name', as_index=False).location.nunique()\n",
    "num_loc_feature_d = som_data.groupby('water_name', as_index=False).agg({'location':'nunique', 'loc_date':'nunique'})\n",
    "num_loc_feature_d.rename(columns={'location':'# of locations', 'loc_date':'# of samples'}, inplace=True)\n",
    "print(F\"The number of locations and the number of samples per location:\\n\\n{num_loc_feature_d.set_index('water_name')}\")"
   ]
  },
  {
   "cell_type": "code",
   "execution_count": 23,
   "metadata": {},
   "outputs": [],
   "source": [
    "som_data['fail'] = som_data.quantity > 0"
   ]
  },
  {
   "cell_type": "code",
   "execution_count": 24,
   "metadata": {},
   "outputs": [
    {
     "data": {
      "text/html": [
       "<div>\n",
       "<style scoped>\n",
       "    .dataframe tbody tr th:only-of-type {\n",
       "        vertical-align: middle;\n",
       "    }\n",
       "\n",
       "    .dataframe tbody tr th {\n",
       "        vertical-align: top;\n",
       "    }\n",
       "\n",
       "    .dataframe thead th {\n",
       "        text-align: right;\n",
       "    }\n",
       "</style>\n",
       "<table border=\"1\" class=\"dataframe\">\n",
       "  <thead>\n",
       "    <tr style=\"text-align: right;\">\n",
       "      <th></th>\n",
       "      <th>code</th>\n",
       "      <th>quantity</th>\n",
       "    </tr>\n",
       "  </thead>\n",
       "  <tbody>\n",
       "    <tr>\n",
       "      <th>51</th>\n",
       "      <td>64</td>\n",
       "      <td>3289.0</td>\n",
       "    </tr>\n",
       "    <tr>\n",
       "      <th>36</th>\n",
       "      <td>46</td>\n",
       "      <td>1046.0</td>\n",
       "    </tr>\n",
       "    <tr>\n",
       "      <th>75</th>\n",
       "      <td>93</td>\n",
       "      <td>763.0</td>\n",
       "    </tr>\n",
       "    <tr>\n",
       "      <th>16</th>\n",
       "      <td>19</td>\n",
       "      <td>597.0</td>\n",
       "    </tr>\n",
       "    <tr>\n",
       "      <th>53</th>\n",
       "      <td>67</td>\n",
       "      <td>527.0</td>\n",
       "    </tr>\n",
       "    <tr>\n",
       "      <th>62</th>\n",
       "      <td>77</td>\n",
       "      <td>367.0</td>\n",
       "    </tr>\n",
       "    <tr>\n",
       "      <th>31</th>\n",
       "      <td>40</td>\n",
       "      <td>313.0</td>\n",
       "    </tr>\n",
       "    <tr>\n",
       "      <th>71</th>\n",
       "      <td>89</td>\n",
       "      <td>304.0</td>\n",
       "    </tr>\n",
       "    <tr>\n",
       "      <th>38</th>\n",
       "      <td>48</td>\n",
       "      <td>251.0</td>\n",
       "    </tr>\n",
       "    <tr>\n",
       "      <th>46</th>\n",
       "      <td>59</td>\n",
       "      <td>233.0</td>\n",
       "    </tr>\n",
       "  </tbody>\n",
       "</table>\n",
       "</div>"
      ],
      "text/plain": [
       "    code  quantity\n",
       "51    64    3289.0\n",
       "36    46    1046.0\n",
       "75    93     763.0\n",
       "16    19     597.0\n",
       "53    67     527.0\n",
       "62    77     367.0\n",
       "31    40     313.0\n",
       "71    89     304.0\n",
       "38    48     251.0\n",
       "46    59     233.0"
      ]
     },
     "execution_count": 24,
     "metadata": {},
     "output_type": "execute_result"
    }
   ],
   "source": [
    "\n",
    "dutch_top_ten = som_data[som_data.region == 'NL'].groupby(['code'], as_index=False).quantity.sum().sort_values(by='quantity',ascending=False)\n",
    "swiss_top_ten = som_data[som_data.region == 'CH'].groupby(['code'], as_index=False).quantity.sum().sort_values(by='quantity',ascending=False)\n",
    "# dutch_top_ten['% of total'] = dutch_top_ten.quantity/dutch_total\n",
    "swiss_top_ten.sort_values(by='quantity', ascending=False)[:10]"
   ]
  },
  {
   "cell_type": "code",
   "execution_count": 25,
   "metadata": {},
   "outputs": [
    {
     "data": {
      "text/html": [
       "<div>\n",
       "<style scoped>\n",
       "    .dataframe tbody tr th:only-of-type {\n",
       "        vertical-align: middle;\n",
       "    }\n",
       "\n",
       "    .dataframe tbody tr th {\n",
       "        vertical-align: top;\n",
       "    }\n",
       "\n",
       "    .dataframe thead th {\n",
       "        text-align: right;\n",
       "    }\n",
       "</style>\n",
       "<table border=\"1\" class=\"dataframe\">\n",
       "  <thead>\n",
       "    <tr style=\"text-align: right;\">\n",
       "      <th></th>\n",
       "      <th>code</th>\n",
       "      <th>quantity</th>\n",
       "    </tr>\n",
       "  </thead>\n",
       "  <tbody>\n",
       "    <tr>\n",
       "      <th>34</th>\n",
       "      <td>46</td>\n",
       "      <td>2925.0</td>\n",
       "    </tr>\n",
       "    <tr>\n",
       "      <th>17</th>\n",
       "      <td>19</td>\n",
       "      <td>1225.0</td>\n",
       "    </tr>\n",
       "    <tr>\n",
       "      <th>48</th>\n",
       "      <td>64</td>\n",
       "      <td>794.0</td>\n",
       "    </tr>\n",
       "    <tr>\n",
       "      <th>60</th>\n",
       "      <td>78</td>\n",
       "      <td>770.0</td>\n",
       "    </tr>\n",
       "    <tr>\n",
       "      <th>13</th>\n",
       "      <td>15</td>\n",
       "      <td>663.0</td>\n",
       "    </tr>\n",
       "    <tr>\n",
       "      <th>24</th>\n",
       "      <td>32</td>\n",
       "      <td>518.0</td>\n",
       "    </tr>\n",
       "    <tr>\n",
       "      <th>3</th>\n",
       "      <td>4</td>\n",
       "      <td>491.0</td>\n",
       "    </tr>\n",
       "    <tr>\n",
       "      <th>36</th>\n",
       "      <td>48</td>\n",
       "      <td>459.0</td>\n",
       "    </tr>\n",
       "    <tr>\n",
       "      <th>43</th>\n",
       "      <td>59</td>\n",
       "      <td>442.0</td>\n",
       "    </tr>\n",
       "    <tr>\n",
       "      <th>73</th>\n",
       "      <td>93</td>\n",
       "      <td>434.0</td>\n",
       "    </tr>\n",
       "  </tbody>\n",
       "</table>\n",
       "</div>"
      ],
      "text/plain": [
       "    code  quantity\n",
       "34    46    2925.0\n",
       "17    19    1225.0\n",
       "48    64     794.0\n",
       "60    78     770.0\n",
       "13    15     663.0\n",
       "24    32     518.0\n",
       "3      4     491.0\n",
       "36    48     459.0\n",
       "43    59     442.0\n",
       "73    93     434.0"
      ]
     },
     "execution_count": 25,
     "metadata": {},
     "output_type": "execute_result"
    }
   ],
   "source": [
    "dutch_top_ten.sort_values(by='quantity', ascending=False)[:10]"
   ]
  },
  {
   "cell_type": "code",
   "execution_count": 26,
   "metadata": {},
   "outputs": [
    {
     "data": {
      "text/plain": [
       "[64, 67, 4, 77, 78, 15, 19, 89, 93, 32, 40, 46, 48, 59]"
      ]
     },
     "execution_count": 26,
     "metadata": {},
     "output_type": "execute_result"
    }
   ],
   "source": [
    "dtt_c = dutch_top_ten[:10].code.values\n",
    "dutch_total = dutch_top_ten.quantity.sum()\n",
    "dutch_top_ten['% of total'] = dutch_top_ten.quantity/dutch_total\n",
    "\n",
    "stt_c = swiss_top_ten[:10].code.values\n",
    "swiss_total = swiss_top_ten.quantity.sum()\n",
    "swiss_top_ten['% of total'] = swiss_top_ten.quantity/dutch_total\n",
    "\n",
    "# the top ten for each region\n",
    "coi_d = dutch_top_ten[dutch_top_ten.code.isin(dtt_c)]\n",
    "coi_s = swiss_top_ten[swiss_top_ten.code.isin(stt_c)]\n",
    "\n",
    "# the combined top ten\n",
    "\n",
    "combined = list(set(stt_c)|set(dtt_c))\n",
    "combined"
   ]
  },
  {
   "cell_type": "code",
   "execution_count": 27,
   "metadata": {},
   "outputs": [],
   "source": [
    "coi_all = som_data[som_data.code.isin(combined)].copy()\n",
    "\n",
    "# group all the records by loc_date and code\n",
    "coi_all = coi_all.groupby(['loc_date','region','water', 'water_name', 'location', 'code'], as_index=False).agg({'quantity':'sum', 'pcs_m':'sum'})"
   ]
  },
  {
   "cell_type": "code",
   "execution_count": 28,
   "metadata": {},
   "outputs": [
    {
     "data": {
      "text/plain": [
       "array(['CH', 'NL'], dtype=object)"
      ]
     },
     "execution_count": 28,
     "metadata": {},
     "output_type": "execute_result"
    }
   ],
   "source": [
    "coi_all.region.unique()"
   ]
  },
  {
   "cell_type": "code",
   "execution_count": 29,
   "metadata": {},
   "outputs": [],
   "source": [
    "\n",
    "\n",
    "# check for zero values \n",
    "coi_all['fail'] = coi_all.quantity == 0\n",
    "coi_wt = coi_all.groupby(['water_name', 'code'], as_index=False).agg({'quantity':'sum', 'pcs_m':'mean', 'fail':'sum', 'loc_date':'count'})\n",
    "coi_lr = coi_all.groupby(['water', 'code'], as_index=False).agg({'quantity':'sum', 'pcs_m':'mean', 'fail':'sum', 'loc_date':'count'})\n",
    "coi_at = coi_all.groupby(['region', 'code'], as_index=False).agg({'quantity':'sum', 'pcs_m':'mean', 'fail':'sum', 'loc_date':'count'})\n",
    "\n",
    "# get the quantity as a % of the total\n",
    "coi_at['% of total'] = coi_at.quantity/coi_at.quantity.sum()\n",
    "coi_wt['% of total'] = coi_wt.quantity/coi_wt.quantity.sum()\n",
    "coi_lr['% of total'] = coi_lr.quantity/coi_lr.quantity.sum()\n",
    "# get the rate at which the oobject was found\n",
    "coi_at['% found'] = coi_at.fail/coi_at.loc_date\n",
    "coi_wt['% found'] = coi_wt.fail/coi_wt.loc_date\n",
    "coi_lr['% found'] = coi_lr.fail/coi_lr.loc_date\n",
    "# the product of % of total * % found\n",
    "coi_at['magnitude'] = coi_at['% found']*coi_at['% of total']\n",
    "coi_wt['magnitude'] = coi_wt['% found']*coi_wt['% of total']\n",
    "coi_lr['magnitude'] = coi_lr['% found']*coi_lr['% of total']"
   ]
  },
  {
   "cell_type": "code",
   "execution_count": 30,
   "metadata": {},
   "outputs": [
    {
     "data": {
      "text/plain": [
       "array(['CH', 'NL'], dtype=object)"
      ]
     },
     "execution_count": 30,
     "metadata": {},
     "output_type": "execute_result"
    }
   ],
   "source": [
    "coi_all.region.unique()"
   ]
  },
  {
   "cell_type": "code",
   "execution_count": 31,
   "metadata": {},
   "outputs": [
    {
     "data": {
      "image/png": "[encoded data removed]",
      "text/plain": [
       "<Figure size 576x864 with 8 Axes>"
      ]
     },
     "metadata": {
      "needs_background": "light"
     },
     "output_type": "display_data"
    }
   ],
   "source": [
    "fig, axs = plt.subplots(2,2, figsize=(8,12))\n",
    "\n",
    "heat_map_data = coi_at[['region', 'code', '% of total']].pivot(index='code', columns='region')\n",
    "sns.heatmap(data=heat_map_data, cmap='rocket_r', linewidth=.1, ax=axs[0,0])\n",
    "axs[0,0].tick_params(axis='y', labelrotation=0)\n",
    "axs[0,0].set_ylabel(\"Ospar id\", **ylab_k)\n",
    "axs[0,0].set_xlabel(\"\")\n",
    "axs[0,0].set_title(\"% of total by country\", **title_k)\n",
    "\n",
    "heat_map_data = coi_at[['region', 'code', 'pcs_m']].pivot(index='code', columns='region')\n",
    "sns.heatmap(data=heat_map_data, cmap='rocket_r', linewidth=.1, ax=axs[0,1])\n",
    "axs[0,1].tick_params(axis='y', labelrotation=0)\n",
    "axs[0,1].set_ylabel(\"Ospar id\", **ylab_k)\n",
    "axs[0,1].set_xlabel(\"\")\n",
    "axs[0,1].set_title(\"median pieces per meter\", **title_k)\n",
    "\n",
    "heat_map_data = coi_at[['region', 'code', '% found']].pivot(index='code', columns='region')\n",
    "sns.heatmap(data=heat_map_data, cmap='rocket_r', linewidth=.1, ax=axs[1,0])\n",
    "axs[1,0].tick_params(axis='y', labelrotation=0)\n",
    "axs[1,0].set_ylabel(\"Ospar id\", **ylab_k)\n",
    "axs[1,0].set_xlabel(\"\")\n",
    "axs[1,0].set_title(\"% of surveys > 0\", **title_k)\n",
    "\n",
    "heat_map_data = coi_at[['region', 'code', 'magnitude']].pivot(index='code', columns='region')\n",
    "sns.heatmap(data=heat_map_data, cmap='rocket_r', linewidth=.1, ax=axs[1,1])\n",
    "axs[1,1].tick_params(axis='y', labelrotation=0)\n",
    "axs[1,1].set_ylabel(\"Ospar id\", **ylab_k)\n",
    "axs[1,1].set_xlabel(\"\")\n",
    "axs[1,1].set_title(\"(% of total) * (% found)\", **title_k)\n",
    "\n",
    "plt.tight_layout()\n",
    "file_name = F\"{project_directory}/combined_top_ten_country.jpg\"\n",
    "plt.savefig(file_name, dpi=300)\n",
    "\n",
    "plt.show()\n",
    "plt.close()"
   ]
  },
  {
   "cell_type": "code",
   "execution_count": 32,
   "metadata": {},
   "outputs": [
    {
     "data": {
      "image/png": "[encoded data removed]",
      "text/plain": [
       "<Figure size 576x864 with 8 Axes>"
      ]
     },
     "metadata": {
      "needs_background": "light"
     },
     "output_type": "display_data"
    }
   ],
   "source": [
    "fig, axs = plt.subplots(2,2, figsize=(8,12))\n",
    "\n",
    "heat_map_data = coi_lr[['water', 'code', '% of total']].pivot(index='code', columns='water')\n",
    "sns.heatmap(data=heat_map_data, cmap='rocket_r', linewidth=.1, ax=axs[0,0])\n",
    "axs[0,0].tick_params(axis='y', labelrotation=0)\n",
    "axs[0,0].set_ylabel(\"Ospar id\", **ylab_k)\n",
    "axs[0,0].set_xlabel(\"\")\n",
    "axs[0,0].set_title(\"% of total by lake of river\", **title_k)\n",
    "\n",
    "heat_map_data = coi_lr[['water', 'code', 'pcs_m']].pivot(index='code', columns='water')\n",
    "sns.heatmap(data=heat_map_data, cmap='rocket_r', linewidth=.1, ax=axs[0,1])\n",
    "axs[0,1].tick_params(axis='y', labelrotation=0)\n",
    "axs[0,1].set_ylabel(\"Ospar id\", **ylab_k)\n",
    "axs[0,1].set_xlabel(\"\")\n",
    "axs[0,1].set_title(\"median pieces per meter\", **title_k)\n",
    "\n",
    "heat_map_data = coi_lr[['water', 'code', '% found']].pivot(index='code', columns='water')\n",
    "sns.heatmap(data=heat_map_data, cmap='rocket_r', linewidth=.1, ax=axs[1,0])\n",
    "axs[1,0].tick_params(axis='y', labelrotation=0)\n",
    "axs[1,0].set_ylabel(\"Ospar id\", **ylab_k)\n",
    "axs[1,0].set_xlabel(\"\")\n",
    "axs[1,0].set_title(\"% of surveys > 0\", **title_k)\n",
    "\n",
    "heat_map_data = coi_lr[['water', 'code', 'magnitude']].pivot(index='code', columns='water')\n",
    "sns.heatmap(data=heat_map_data, cmap='rocket_r', linewidth=.1, ax=axs[1,1])\n",
    "axs[1,1].tick_params(axis='y', labelrotation=0)\n",
    "axs[1,1].set_ylabel(\"Ospar id\", **ylab_k)\n",
    "axs[1,1].set_xlabel(\"\")\n",
    "axs[1,1].set_title(\"(% of total) * (% found)\", **title_k)\n",
    "\n",
    "plt.tight_layout()\n",
    "file_name = F\"{project_directory}/combined_top_ten_lake_river.jpg\"\n",
    "plt.savefig(file_name, dpi=300)\n",
    "\n",
    "plt.show()\n",
    "plt.close()"
   ]
  },
  {
   "cell_type": "code",
   "execution_count": 33,
   "metadata": {},
   "outputs": [
    {
     "data": {
      "image/png": "[encoded data removed]",
      "text/plain": [
       "<Figure size 576x576 with 2 Axes>"
      ]
     },
     "metadata": {
      "needs_background": "light"
     },
     "output_type": "display_data"
    }
   ],
   "source": [
    "fig, axs = plt.subplots(figsize=(8,8))\n",
    "\n",
    "heat_map_data = coi_wt[['water_name', 'code', '% of total']].pivot(index='water_name', columns='code')\n",
    "\n",
    "\n",
    "sns.heatmap(data=heat_map_data, cmap='rocket_r', ax=axs, linewidth=.1)\n",
    "axs.tick_params(axis='y', labelrotation=0)\n",
    "axs.set_ylabel(\"Ospar id\", **ylab_k)\n",
    "axs.set_xlabel(\"\")\n",
    "axs.set_title(\"% of total by water feature\", **title_k)\n",
    "labels = axs.get_xticklabels()\n",
    "labels = [x.get_text().split('-')[-1] for x in labels]\n",
    "axs.set_xticklabels(labels)\n",
    "\n",
    "plt.tight_layout()\n",
    "file_name = F\"{project_directory}/top_ten_percent_feature.jpg\"\n",
    "plt.savefig(file_name, dpi=300)\n",
    "plt.show()\n",
    "plt.close()"
   ]
  },
  {
   "cell_type": "code",
   "execution_count": 34,
   "metadata": {},
   "outputs": [
    {
     "data": {
      "image/png": "[encoded data removed]",
      "text/plain": [
       "<Figure size 576x576 with 2 Axes>"
      ]
     },
     "metadata": {
      "needs_background": "light"
     },
     "output_type": "display_data"
    }
   ],
   "source": [
    "fig, axs = plt.subplots(figsize=(8,8))\n",
    "\n",
    "heat_map_data = coi_wt[['water_name', 'code', 'pcs_m']].pivot(index='water_name', columns='code')\n",
    "\n",
    "\n",
    "sns.heatmap(data=heat_map_data, cmap='rocket_r', linewidth=.1, ax=axs)\n",
    "axs.tick_params(axis='y', labelrotation=0)\n",
    "axs.set_ylabel(\"Ospar id\", **ylab_k)\n",
    "axs.set_xlabel(\"\")\n",
    "axs.set_title(\"average pieces per meter by water feature\", **title_k)\n",
    "labels = axs.get_xticklabels()\n",
    "labels = [x.get_text().split('-')[-1] for x in labels]\n",
    "axs.set_xticklabels(labels)\n",
    "\n",
    "plt.tight_layout()\n",
    "file_name = F\"{project_directory}/top_ten_pcsm_feature.jpg\"\n",
    "plt.savefig(file_name, dpi=300)\n",
    "plt.show()\n",
    "plt.close()"
   ]
  },
  {
   "cell_type": "code",
   "execution_count": 35,
   "metadata": {},
   "outputs": [
    {
     "data": {
      "image/png": "[encoded data removed]",
      "text/plain": [
       "<Figure size 576x576 with 2 Axes>"
      ]
     },
     "metadata": {
      "needs_background": "light"
     },
     "output_type": "display_data"
    }
   ],
   "source": [
    "fig, axs = plt.subplots(figsize=(8,8))\n",
    "\n",
    "heat_map_data = coi_wt[['water_name', 'code', '% found']].pivot(index='water_name', columns='code')\n",
    "\n",
    "\n",
    "sns.heatmap(data=heat_map_data, cmap='rocket_r',linewidth=.1, ax=axs)\n",
    "axs.tick_params(axis='y', labelrotation=0)\n",
    "axs.set_ylabel(\"Ospar id\", **ylab_k)\n",
    "axs.set_xlabel(\"\")\n",
    "axs.set_title(\"% of surveys where at least one was found by water feature\", **title_k)\n",
    "labels = axs.get_xticklabels()\n",
    "labels = [x.get_text().split('-')[-1] for x in labels]\n",
    "axs.set_xticklabels(labels)\n",
    "\n",
    "plt.tight_layout()\n",
    "file_name = F\"{project_directory}/more_than_one_found_survey.jpg\"\n",
    "plt.savefig(file_name, dpi=300)\n",
    "plt.show()\n",
    "plt.close()"
   ]
  },
  {
   "cell_type": "code",
   "execution_count": 36,
   "metadata": {},
   "outputs": [
    {
     "data": {
      "image/png": "[encoded data removed]",
      "text/plain": [
       "<Figure size 576x576 with 2 Axes>"
      ]
     },
     "metadata": {
      "needs_background": "light"
     },
     "output_type": "display_data"
    }
   ],
   "source": [
    "fig, axs = plt.subplots(figsize=(8,8))\n",
    "\n",
    "heat_map_data = coi_wt[['water_name', 'code', 'magnitude']].pivot(index='water_name', columns='code')\n",
    "\n",
    "\n",
    "sns.heatmap(data=heat_map_data, cmap='rocket_r',linewidth=.1, ax=axs)\n",
    "axs.tick_params(axis='y', labelrotation=0)\n",
    "axs.set_ylabel(\"Ospar id\", **ylab_k)\n",
    "axs.set_xlabel(\"\")\n",
    "axs.set_title(\"magnitude of result by water feature\", **title_k)\n",
    "labels = axs.get_xticklabels()\n",
    "labels = [x.get_text().split('-')[-1] for x in labels]\n",
    "axs.set_xticklabels(labels)\n",
    "\n",
    "plt.tight_layout()\n",
    "file_name = F\"{project_directory}/features_magnitude.jpg\"\n",
    "plt.savefig(file_name, dpi=300)\n",
    "plt.show()\n",
    "plt.close()"
   ]
  },
  {
   "cell_type": "markdown",
   "metadata": {},
   "source": [
    "### Abundance: number of objects and percent of total"
   ]
  },
  {
   "cell_type": "code",
   "execution_count": 37,
   "metadata": {},
   "outputs": [
    {
     "name": "stdout",
     "output_type": "stream",
     "text": [
      "The files generated by this workbook:\n",
      "\n"
     ]
    },
    {
     "data": {
      "text/plain": [
       "[{'tag': 'data used for all calculations',\n",
       "  'number': 1,\n",
       "  'file': 'output/setup_class_methods/all_data_used.csv',\n",
       "  'type': 'data'}]"
      ]
     },
     "execution_count": 37,
     "metadata": {},
     "output_type": "execute_result"
    }
   ],
   "source": [
    "print(\"The files generated by this workbook:\\n\")\n",
    "files_generated"
   ]
  },
  {
   "cell_type": "markdown",
   "metadata": {},
   "source": [
    "#### Hopefully that just worked for you\n",
    "\n",
    "if not contact analyst@hammerdirt.ch"
   ]
  },
  {
   "cell_type": "code",
   "execution_count": null,
   "metadata": {},
   "outputs": [],
   "source": []
  }
 ],
 "metadata": {
  "kernelspec": {
   "display_name": "Python 3",
   "language": "python",
   "name": "python3"
  },
  "language_info": {
   "codemirror_mode": {
    "name": "ipython",
    "version": 3
   },
   "file_extension": ".py",
   "mimetype": "text/x-python",
   "name": "python",
   "nbconvert_exporter": "python",
   "pygments_lexer": "ipython3",
   "version": "3.8.3"
  }
 },
 "nbformat": 4,
 "nbformat_minor": 4
}
