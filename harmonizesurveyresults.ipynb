{
 "cells": [
  {
   "cell_type": "markdown",
   "metadata": {},
   "source": [
    "### Harmonize survey results\n",
    "\n",
    "#### Seperates the survey data into object counts, uses location and date as survey identifier.\n",
    "\n",
    "\n",
    "Fetches data from the local source and esyablishes the following variables:\n",
    "\n",
    "1. dutch_codes\n",
    "2. swiss_codes\n",
    "3. dutch_surveys\n",
    "4. swiss_surveys\n",
    "5. swiss_beaches\n",
    "\n",
    "\n",
    "Establishes directory variables for fetching and putting to all subdirectories:\n",
    "\n",
    "1. data\n",
    "2. beaches\n",
    "3. codes\n",
    "4. geo\n",
    "5. output\n",
    "\n",
    "provides a script to update the remote data."
   ]
  },
  {
   "cell_type": "code",
   "execution_count": 1,
   "metadata": {},
   "outputs": [],
   "source": [
    "# sys things\n",
    "import os\n",
    "import sys\n",
    "import json\n",
    "\n",
    "# networks\n",
    "import requests\n",
    "\n",
    "# data\n",
    "import pandas as pd\n",
    "import numpy as np\n",
    "import datetime as dt\n",
    "import scipy\n",
    "from statsmodels.distributions.empirical_distribution import ECDF\n",
    "from scipy.stats import kendalltau, pearsonr, spearmanr\n",
    "import math\n",
    "\n",
    "# charting:\n",
    "import matplotlib as mpl\n",
    "import matplotlib.pyplot as plt\n",
    "import matplotlib.dates as mdates\n",
    "from matplotlib import ticker\n",
    "import matplotlib.ticker as mtick\n",
    "import seaborn as sns\n",
    "from matplotlib.gridspec import GridSpec\n",
    "from IPython.display import display, Markdown, Latex, HTML\n",
    "\n",
    "# mapping\n",
    "import geopandas as gpd\n",
    "\n",
    "# home brew utitilties\n",
    "import resources.utilities.utility_functions as ut\n",
    "\n",
    "# documenting\n",
    "from IPython.display import Markdown as md\n",
    "\n",
    "\n",
    "# returns the p_value for each test\n",
    "def kendall_pval(x,y):\n",
    "    return kendalltau(x,y)[1]\n",
    "\n",
    "def pearsonr_pval(x,y):\n",
    "    return pearsonr(x,y)[1]\n",
    "\n",
    "def spearmanr_pval(x,y):\n",
    "    return spearmanr(x,y)[1]\n",
    "\n",
    "# convenience functions for tables\n",
    "def make_table_grids(anax):\n",
    "    anax.grid(False)\n",
    "    anax.spines[\"top\"].set_visible(False)\n",
    "    anax.spines[\"right\"].set_visible(False)\n",
    "    anax.spines[\"bottom\"].set_visible(False)\n",
    "    anax.spines[\"left\"].set_visible(False)\n",
    "    return(anax)\n",
    "\n",
    "def table_fonts(a_table, size=12):\n",
    "    a_table.auto_set_font_size(False)\n",
    "    a_table.set_fontsize(size)\n",
    "\n",
    "# standard formats already in use for charts, these will gradually\n",
    "# define the chart style or output format for the app\n",
    "# you can just apply these as kwargs to different elements...\n",
    "# table kwargs\n",
    "table_k = dict(loc=\"top left\", bbox=(0,0,1,1), colWidths=[.5, .5], cellLoc='center')\n",
    "tablecenter_k = dict(loc=\"top left\", bbox=(0,0,1,1), cellLoc='center')\n",
    "tabtickp_k = dict(axis='both', which='both', bottom=False, top=False, left=False, right=False, labelleft=False, labelbottom=False)\n",
    "\n",
    "# chart kwargs\n",
    "title_k = {'loc':'left', 'pad':12, 'linespacing':1.5, 'fontsize':12}\n",
    "title_k14 = {'loc':'left', 'pad':12, 'linespacing':1.5, 'fontsize':14}\n",
    "title_k20 = {'loc':'left', 'pad':10, 'linespacing':1.5, 'fontsize':12, 'color':'dodgerblue'}\n",
    "title_k17 = {'loc':'left', 'pad':10, 'linespacing':1.5, 'fontsize':12, 'color':'salmon'}\n",
    "titler_k20 = {'loc':'right', 'pad':10, 'linespacing':1.5, 'fontsize':12, 'color':'dodgerblue'}\n",
    "titler_k17 = {'loc':'right', 'pad':10, 'linespacing':1.5, 'fontsize':12, 'color':'salmon'}\n",
    "xlab_k = {'labelpad':10, 'fontsize':12}\n",
    "ylab_k = {'labelpad':14, 'fontsize':14}\n",
    "titler_k = {'loc':'right', 'pad':10, 'linespacing':1.5, 'fontsize':12}\n",
    "label45r = {'rotation':45, 'ha':'right'}\n",
    "label45c = {'rotation':45, 'ha':'center'}\n",
    "\n",
    "# use these to format date axis in charts\n",
    "weeks = mdates.WeekdayLocator(byweekday=1, interval=4)\n",
    "onedayweek = mdates.DayLocator(bymonthday=1, interval=1)\n",
    "everytwoweeks = mdates.WeekdayLocator(byweekday=1, interval=4)\n",
    "\n",
    "months = mdates.MonthLocator(bymonth=[3,6,9,12])\n",
    "bimonthly = mdates.MonthLocator(bymonth=[1,3,5,7,9,11])\n",
    "allmonths = mdates.MonthLocator()\n",
    "wks_fmt = mdates.DateFormatter('%d')\n",
    "mths_fmt = mdates.DateFormatter('%b')"
   ]
  },
  {
   "cell_type": "code",
   "execution_count": 2,
   "metadata": {},
   "outputs": [
    {
     "name": "stdout",
     "output_type": "stream",
     "text": [
      "look for resources here\n",
      "\n",
      "resources/surveydata resources/locationdata resources/mlwcodedefs resources/geodata output\n"
     ]
    }
   ],
   "source": [
    "# get folder extesions\n",
    "data, beaches, codes, geo, output=ut.make_local_paths()\n",
    "print(\"look for resources here\\n\")\n",
    "print(data, beaches, codes, geo, output)"
   ]
  },
  {
   "cell_type": "code",
   "execution_count": 3,
   "metadata": {},
   "outputs": [
    {
     "name": "stdout",
     "output_type": "stream",
     "text": [
      "put stuff here:\n",
      "\n",
      "output/harmonized_results\n"
     ]
    }
   ],
   "source": [
    "project_directory = ut.make_project_folder(output, \"harmonized_results\")\n",
    "print(\"put stuff here:\\n\")\n",
    "print(project_directory)"
   ]
  },
  {
   "cell_type": "code",
   "execution_count": 4,
   "metadata": {},
   "outputs": [],
   "source": [
    "# survey_data\n",
    "dutch_surveys = pd.read_csv(data+'/dataset_macrolitter_NL.csv')\n",
    "\n",
    "# use the aggregated hd data. This accounts for the custom codes used in Switzerland\n",
    "swiss_surveys = pd.read_csv(data+'/aggregated_hd_surveys.csv')\n",
    "\n",
    "# location data\n",
    "swiss_beaches = pd.read_csv(beaches+'/hammerdirt_beaches.csv')"
   ]
  },
  {
   "cell_type": "code",
   "execution_count": 5,
   "metadata": {},
   "outputs": [
    {
     "name": "stdout",
     "output_type": "stream",
     "text": [
      "Columns from cleaned up dutch data\n",
      "\n",
      "Index(['Unnamed: 0', 'Gebiedscode', 'Rivier', 'Coordinaten', 'Lat', 'Lon',\n",
      "       'meting', 'date', 'doy', 'dop',\n",
      "       ...\n",
      "       'sanitair_tissues_wc_papier', 'sanitair_toiletverfrissers',\n",
      "       'sanitair_overig_sanitair', 'medisch_verpakkingen', 'medisch_spuiten',\n",
      "       'medisch_overig_medisch', 'Unnamed: 121', 'Totaal', 'Items/km',\n",
      "       'granulaat_korrels'],\n",
      "      dtype='object', length=125)\n",
      "\n",
      "Columns from cleaned up swiss data\n",
      "\n",
      "Index(['loc_date', 'code', 'date', 'pcs_m', 'quantity', 'location',\n",
      "       'water_name'],\n",
      "      dtype='object')\n"
     ]
    }
   ],
   "source": [
    "print(\"Columns from cleaned up dutch data\\n\")\n",
    "print(dutch_surveys.columns)\n",
    "\n",
    "print(\"\\nColumns from cleaned up swiss data\\n\")\n",
    "print(swiss_surveys.columns)"
   ]
  },
  {
   "cell_type": "code",
   "execution_count": 6,
   "metadata": {},
   "outputs": [
    {
     "name": "stdout",
     "output_type": "stream",
     "text": [
      "the first ten rows are admin data\n",
      "\n",
      "Index(['Unnamed: 0', 'Gebiedscode', 'Rivier', 'Coordinaten', 'Lat', 'Lon',\n",
      "       'meting', 'date', 'doy', 'dop'],\n",
      "      dtype='object')\n",
      "\n",
      "the next 115 is code data\n",
      "\n",
      "Index(['plastic_6_packringen', 'plastic_tassen',\n",
      "       'plastic_kleine_plastic_tasjes',\n",
      "       'plastic_drankflessen_groterdan_halveliter',\n",
      "       'plastic_drankflessen_kleinerdan_halveliter',\n",
      "       'plastic_wikkels_van_drankflessen',\n",
      "       'plastic_verpakking_van_schoonmaakmiddelen',\n",
      "       'plastic_voedselverpakkingen_frietbakjes_etc',\n",
      "       'plastic_cosmeticaverpakkingen',\n",
      "       'plastic_motorolieverpakking_groterdan50cm',\n",
      "       ...\n",
      "       'sanitair_tissues_wc_papier', 'sanitair_toiletverfrissers',\n",
      "       'sanitair_overig_sanitair', 'medisch_verpakkingen', 'medisch_spuiten',\n",
      "       'medisch_overig_medisch', 'Unnamed: 121', 'Totaal', 'Items/km',\n",
      "       'granulaat_korrels'],\n",
      "      dtype='object', length=115)\n",
      "\n",
      "one row is equal to one survey\n"
     ]
    }
   ],
   "source": [
    "print(\"the first ten rows are admin data\\n\")\n",
    "print(dutch_surveys.columns[:10])\n",
    "print(\"\\nthe next 115 is code data\\n\")\n",
    "print(dutch_surveys.columns[10:])\n",
    "print(\"\\none row is equal to one survey\")"
   ]
  },
  {
   "cell_type": "code",
   "execution_count": 7,
   "metadata": {},
   "outputs": [
    {
     "name": "stdout",
     "output_type": "stream",
     "text": [
      "This is the number of rows\n",
      "\n",
      "391\n",
      "\n",
      "This is the number of unique 'Gebiedscode' values\n",
      "\n",
      "212\n"
     ]
    }
   ],
   "source": [
    "print(\"This is the number of rows\\n\")\n",
    "print(len(dutch_surveys))\n",
    "print(\"\\nThis is the number of unique 'Gebiedscode' values\\n\")\n",
    "print(len(dutch_surveys.Gebiedscode.unique()))"
   ]
  },
  {
   "cell_type": "code",
   "execution_count": 8,
   "metadata": {},
   "outputs": [],
   "source": [
    "# key the Gebiedscode to an int\n",
    "count_gebied = {n:i+1 for i,n in enumerate(dutch_surveys.Gebiedscode.unique())}\n",
    "\n",
    "# grab only the object count columns and the river\n",
    "obj_counts = dutch_surveys.columns[10:-4]"
   ]
  },
  {
   "cell_type": "code",
   "execution_count": 9,
   "metadata": {},
   "outputs": [],
   "source": [
    "dutch_surveys['new date'] = dutch_surveys.date.map(lambda x: F\"{x}\")\n",
    "\n",
    "def make_this_a_date(x):\n",
    "    a_date = F\"{x}\"\n",
    "#     print(a_date[:4])\n",
    "#     print(len(a_date))\n",
    "    if len(a_date) == 8:\n",
    "        new_date = F\"{a_date[:4]}-{a_date[4:6]}-{a_date[6:]}\"\n",
    "#         print(new_date)\n",
    "        try:\n",
    "            a_date = dt.datetime.strptime(new_date, \"%Y-%m-%d\").date()\n",
    "        except:\n",
    "            a_date = 'nothing'\n",
    "#         print(a_date)\n",
    "    else:\n",
    "        a_date = 'nothing'\n",
    "        \n",
    "    return a_date\n",
    "\n",
    "dutch_surveys['this date'] = dutch_surveys['new date'].map(lambda x: make_this_a_date(x))\n",
    "no_date_dutch_surveys =dutch_surveys[dutch_surveys['this date'] == 'nothing'].copy()\n",
    "dutch_surveys = dutch_surveys[dutch_surveys['this date'] != 'nothing'].copy()\n",
    "dutch_surveys['date'] = dutch_surveys['this date']\n"
   ]
  },
  {
   "cell_type": "code",
   "execution_count": 10,
   "metadata": {},
   "outputs": [
    {
     "name": "stdout",
     "output_type": "stream",
     "text": [
      "This is the admin data plus a name tag and a loc_date tag\n",
      "\n"
     ]
    },
    {
     "data": {
      "text/html": [
       "<div>\n",
       "<style scoped>\n",
       "    .dataframe tbody tr th:only-of-type {\n",
       "        vertical-align: middle;\n",
       "    }\n",
       "\n",
       "    .dataframe tbody tr th {\n",
       "        vertical-align: top;\n",
       "    }\n",
       "\n",
       "    .dataframe thead th {\n",
       "        text-align: right;\n",
       "    }\n",
       "</style>\n",
       "<table border=\"1\" class=\"dataframe\">\n",
       "  <thead>\n",
       "    <tr style=\"text-align: right;\">\n",
       "      <th></th>\n",
       "      <th>name</th>\n",
       "      <th>loc_date</th>\n",
       "      <th>Gebiedscode</th>\n",
       "      <th>Rivier</th>\n",
       "      <th>Coordinaten</th>\n",
       "      <th>Lat</th>\n",
       "      <th>Lon</th>\n",
       "      <th>meting</th>\n",
       "      <th>date</th>\n",
       "      <th>doy</th>\n",
       "      <th>dop</th>\n",
       "    </tr>\n",
       "  </thead>\n",
       "  <tbody>\n",
       "    <tr>\n",
       "      <th>0</th>\n",
       "      <td>1</td>\n",
       "      <td>(1, datetime.date(2017, 10, 21))</td>\n",
       "      <td>W(078a)R-ZHNL</td>\n",
       "      <td>Waal</td>\n",
       "      <td>#REF!</td>\n",
       "      <td>51.8227</td>\n",
       "      <td>5.0159</td>\n",
       "      <td>0</td>\n",
       "      <td>2017-10-21</td>\n",
       "      <td>294.0</td>\n",
       "      <td>293.0</td>\n",
       "    </tr>\n",
       "    <tr>\n",
       "      <th>1</th>\n",
       "      <td>2</td>\n",
       "      <td>(2, datetime.date(2017, 11, 3))</td>\n",
       "      <td>W(074b)R-REFE</td>\n",
       "      <td>Waal</td>\n",
       "      <td>#REF!</td>\n",
       "      <td>51.8290</td>\n",
       "      <td>5.0805</td>\n",
       "      <td>0</td>\n",
       "      <td>2017-11-03</td>\n",
       "      <td>307.0</td>\n",
       "      <td>306.0</td>\n",
       "    </tr>\n",
       "    <tr>\n",
       "      <th>2</th>\n",
       "      <td>3</td>\n",
       "      <td>(3, datetime.date(2017, 10, 16))</td>\n",
       "      <td>W(062a)L-GENL</td>\n",
       "      <td>Waal</td>\n",
       "      <td>#REF!</td>\n",
       "      <td>51.8126</td>\n",
       "      <td>5.2358</td>\n",
       "      <td>0</td>\n",
       "      <td>2017-10-16</td>\n",
       "      <td>289.0</td>\n",
       "      <td>288.0</td>\n",
       "    </tr>\n",
       "    <tr>\n",
       "      <th>3</th>\n",
       "      <td>4</td>\n",
       "      <td>(4, datetime.date(2017, 10, 4))</td>\n",
       "      <td>W(048a)L-GENL</td>\n",
       "      <td>Waal</td>\n",
       "      <td>#REF!</td>\n",
       "      <td>51.8475</td>\n",
       "      <td>5.4159</td>\n",
       "      <td>0</td>\n",
       "      <td>2017-10-04</td>\n",
       "      <td>277.0</td>\n",
       "      <td>276.0</td>\n",
       "    </tr>\n",
       "    <tr>\n",
       "      <th>4</th>\n",
       "      <td>5</td>\n",
       "      <td>(5, datetime.date(2017, 10, 2))</td>\n",
       "      <td>W(046a)L-GENL</td>\n",
       "      <td>Waal</td>\n",
       "      <td>#REF!</td>\n",
       "      <td>51.8588</td>\n",
       "      <td>5.4222</td>\n",
       "      <td>0</td>\n",
       "      <td>2017-10-02</td>\n",
       "      <td>275.0</td>\n",
       "      <td>274.0</td>\n",
       "    </tr>\n",
       "  </tbody>\n",
       "</table>\n",
       "</div>"
      ],
      "text/plain": [
       "   name                          loc_date    Gebiedscode Rivier Coordinaten  \\\n",
       "0     1  (1, datetime.date(2017, 10, 21))  W(078a)R-ZHNL   Waal       #REF!   \n",
       "1     2   (2, datetime.date(2017, 11, 3))  W(074b)R-REFE   Waal       #REF!   \n",
       "2     3  (3, datetime.date(2017, 10, 16))  W(062a)L-GENL   Waal       #REF!   \n",
       "3     4   (4, datetime.date(2017, 10, 4))  W(048a)L-GENL   Waal       #REF!   \n",
       "4     5   (5, datetime.date(2017, 10, 2))  W(046a)L-GENL   Waal       #REF!   \n",
       "\n",
       "       Lat     Lon  meting        date    doy    dop  \n",
       "0  51.8227  5.0159       0  2017-10-21  294.0  293.0  \n",
       "1  51.8290  5.0805       0  2017-11-03  307.0  306.0  \n",
       "2  51.8126  5.2358       0  2017-10-16  289.0  288.0  \n",
       "3  51.8475  5.4159       0  2017-10-04  277.0  276.0  \n",
       "4  51.8588  5.4222       0  2017-10-02  275.0  274.0  "
      ]
     },
     "execution_count": 10,
     "metadata": {},
     "output_type": "execute_result"
    }
   ],
   "source": [
    "# these columns are admin data\n",
    "admin = ['Gebiedscode', 'Rivier', 'Coordinaten', 'Lat', 'Lon', 'meting', 'date', 'doy', 'dop']\n",
    "date = ['date']\n",
    "\n",
    "# unique id per row:\n",
    "loc_date = ['Gebiedscode', 'date']\n",
    "\n",
    "# these are no longer needed\n",
    "no_longer_needed = ['Unnamed: 121', 'Totaal', 'Items/km', 'granulaat_korrels']\n",
    "\n",
    "\n",
    "\n",
    "def make_location_groups(x, keys):\n",
    "    try:\n",
    "        name = keys[x]\n",
    "    except:\n",
    "        name = x\n",
    "    return name\n",
    "\n",
    "# make a column of the keys created for Gebiedscode\n",
    "dutch_surveys['name'] = dutch_surveys.Gebiedscode.map(lambda x: make_location_groups(x, count_gebied))\n",
    "\n",
    "# zip that up with the date\n",
    "dutch_surveys['loc_date'] = list(zip(dutch_surveys.name, dutch_surveys.date))\n",
    "dutch_surveys['loc_date'] = dutch_surveys.loc_date.map(lambda x: F\"{x}\")\n",
    "\n",
    "# make an admin df:\n",
    "dutch_admin = dutch_surveys[['name','loc_date', *admin]]\n",
    "a_file_name = F\"{project_directory}/dutch_admin_h.csv\"\n",
    "dutch_admin.to_csv(a_file_name)\n",
    "\n",
    "print(\"This is the admin data plus a name tag and a loc_date tag\\n\")\n",
    "dutch_admin.iloc[:5]"
   ]
  },
  {
   "cell_type": "code",
   "execution_count": 11,
   "metadata": {},
   "outputs": [
    {
     "name": "stdout",
     "output_type": "stream",
     "text": [
      "This is one record:\n",
      "\n"
     ]
    },
    {
     "data": {
      "text/plain": [
       "name                                          1\n",
       "loc_date       (1, datetime.date(2017, 10, 21))\n",
       "Gebiedscode                       W(078a)R-ZHNL\n",
       "Rivier                                     Waal\n",
       "Coordinaten                               #REF!\n",
       "Lat                                     51.8227\n",
       "Lon                                      5.0159\n",
       "meting                                        0\n",
       "date                                 2017-10-21\n",
       "doy                                         294\n",
       "dop                                         293\n",
       "Name: 0, dtype: object"
      ]
     },
     "execution_count": 11,
     "metadata": {},
     "output_type": "execute_result"
    }
   ],
   "source": [
    "print(\"This is one record:\\n\")\n",
    "dutch_admin.iloc[0]"
   ]
  },
  {
   "cell_type": "code",
   "execution_count": null,
   "metadata": {},
   "outputs": [],
   "source": [
    "# a place to store the results\n",
    "new_results=[]\n",
    "\n",
    "def seperate_results(x, a_list):\n",
    "    # alist is the list of columns to keep\n",
    "    # return x because we don't want to chage the df\n",
    "    for element in a_list:\n",
    "        stuff = {'name':x['name'], 'date':x['date'], 'loc_date':x['loc_date'], 'river':x['Rivier'], 'object':element, 'quantity':x[element] }\n",
    "        new_results.append(stuff)\n",
    "    return x\n",
    "\n",
    "# apply\n",
    "\n",
    "dutch_surveys.apply(lambda row: seperate_results(row, obj_counts), axis=1)\n",
    "\n",
    "# make new df \n",
    "a_results_df = pd.DataFrame(new_results)\n",
    "a_file_name = F\"{project_directory}/dutch_surveys_h.csv\"\n",
    "a_results_df.to_csv(a_file_name)\n",
    "\n",
    "print()\n",
    "print(\"This is the object results with a  name tag and a loc_date tag\\n\")\n",
    "a_results_df.iloc[:10]"
   ]
  },
  {
   "cell_type": "code",
   "execution_count": null,
   "metadata": {},
   "outputs": [],
   "source": [
    "print(\"The total by loc_date\\n\")\n",
    "print(a_results_df.groupby('loc_date').quantity.sum())"
   ]
  },
  {
   "cell_type": "code",
   "execution_count": null,
   "metadata": {},
   "outputs": [],
   "source": [
    "print(\"The total by river\\n\")\n",
    "print(a_results_df.groupby('river').quantity.sum())"
   ]
  },
  {
   "cell_type": "code",
   "execution_count": null,
   "metadata": {},
   "outputs": [],
   "source": [
    "print(\"The total quantity\\n\")\n",
    "print(a_results_df.quantity.sum())"
   ]
  },
  {
   "cell_type": "code",
   "execution_count": null,
   "metadata": {},
   "outputs": [],
   "source": [
    "tops = a_results_df.groupby('object').quantity.sum()\n",
    "tops = tops.sort_values(ascending=False)\n",
    "\n",
    "print(\"The top ten objects:\\n\")\n",
    "print(tops[:10])"
   ]
  },
  {
   "cell_type": "code",
   "execution_count": null,
   "metadata": {},
   "outputs": [],
   "source": [
    "# the column names need to be harmonized:\n",
    "print(a_results_df.columns)\n",
    "print(swiss_surveys.columns)"
   ]
  },
  {
   "cell_type": "code",
   "execution_count": null,
   "metadata": {},
   "outputs": [],
   "source": [
    "# renaming the columns\n",
    "a_results_df.rename(columns={'name':'location', 'river':'water_name', 'object':'code'}, inplace=True)\n",
    "a_results_df['pcs_m'] = a_results_df.quantity/100\n",
    "a_results_df['pcs_m'] = a_results_df.pcs_m.round(3)\n"
   ]
  },
  {
   "cell_type": "code",
   "execution_count": null,
   "metadata": {},
   "outputs": [],
   "source": [
    "swiss_surveys.water_name.unique()"
   ]
  },
  {
   "cell_type": "code",
   "execution_count": null,
   "metadata": {},
   "outputs": [],
   "source": [
    "a_min_date = a_results_df['date'].min()\n",
    "a_max_date = a_results_df['date'].max()\n",
    "print(a_min_date, a_max_date)\n",
    "\n",
    "# rivers in switzerland\n",
    "water_names = ['Aare', 'Sihl', 'Reuss', 'Rhein', 'Limmat', 'Seez']\n",
    "\n",
    "swiss_surveys['date'] = pd.to_datetime(swiss_surveys['date']).dt.date\n",
    "swissDf = swiss_surveys[(swiss_surveys.date >= a_min_date)&(swiss_surveys.date <= a_max_date)].copy()\n",
    "\n",
    "swissDfx = swissDf[swissDf.water_name.isin(water_names)].copy()\n",
    "survey_total_ch = swissDfx.groupby(['loc_date', 'location', 'date', 'water_name'], as_index=False).agg({'pcs_m':'sum', 'quantity':'sum'})\n",
    "print(\"summary stats for the swiss survey totals:\\n\")\n",
    "survey_total_ch.describe()"
   ]
  },
  {
   "cell_type": "code",
   "execution_count": null,
   "metadata": {},
   "outputs": [],
   "source": [
    "a_results_dfx = a_results_df.groupby(['loc_date', 'location', 'date', 'water_name'], as_index=False).agg({'pcs_m':'sum', 'quantity':'sum'}).copy()\n",
    "\n",
    "print(\"summary stats for the dutch survye totals:\\n\")\n",
    "a_results_dfx.describe()"
   ]
  },
  {
   "cell_type": "code",
   "execution_count": null,
   "metadata": {},
   "outputs": [],
   "source": [
    "sns.set_style('whitegrid')\n",
    "\n",
    "daily_totals = pd.concat([a_results_dfx, survey_total_ch])\n",
    "\n",
    "fig, ax = plt.subplots(figsize=(8,6))\n",
    "\n",
    "sns.scatterplot(data=daily_totals, x='date', y='pcs_m', hue='water_name', palette='husl', ax=ax)\n",
    "\n",
    "ax.set_title(F\"Rhine river basin, all daily totals {a_min_date}/{a_max_date}\", **title_k)\n",
    "ax.set_ylabel(\"Pieces of trash per meter\", **ylab_k)\n",
    "ax.set_xlabel(\"\")\n",
    "\n",
    "plt.tight_layout()\n",
    "a_name = F\"{project_directory}/initial_harmonized_results.jpg\"\n",
    "plt.savefig(a_name, dpi=300)\n",
    "\n",
    "plt.show()\n",
    "plt.close()\n"
   ]
  },
  {
   "cell_type": "markdown",
   "metadata": {},
   "source": [
    "### These are the unaccounted for dutch survyes (no date):"
   ]
  },
  {
   "cell_type": "code",
   "execution_count": null,
   "metadata": {},
   "outputs": [],
   "source": [
    "no_date_dutch_surveys"
   ]
  },
  {
   "cell_type": "markdown",
   "metadata": {},
   "source": [
    "### Change the object definitions to OSPAR codes\n",
    "\n",
    "The objects definitions need to changed to OSPAR"
   ]
  },
  {
   "cell_type": "code",
   "execution_count": null,
   "metadata": {},
   "outputs": [],
   "source": [
    "## !!! refresh the data from the hammerdirt api here:\n",
    "\n",
    "# a = requests.get('https://mwshovel.pythonanywhere.com/api/surveys/daily-totals/code-totals/swiss/')\n",
    "# b = requests.get('https://mwshovel.pythonanywhere.com/api/list-of-beaches/swiss/')\n",
    "# c = requests.get('https://mwshovel.pythonanywhere.com/api/mlw-codes/list/')\n",
    "\n",
    "# # the surveys need to be unpacked:\n",
    "# swiss_surveys = ut.unpack_survey_results(a.json())\n",
    "# swiss_surveys = pd.DataFrame(swiss_surveys)\n",
    "\n",
    "# # adding location date column\n",
    "# swiss_surveys['loc_date'] = list(zip(swiss_surveys['location'], swiss_surveys['date']))\n",
    "\n",
    "# # hold the original\n",
    "# x = a.json()\n",
    "\n",
    "# print(\"survey columns\")\n",
    "# print(swiss_surveys.columns)\n",
    "\n",
    "# swiss_beaches = pd.DataFrame(b.json())\n",
    "# print(\"beach columns\")\n",
    "# print(swiss_beaches.columns)\n",
    "\n",
    "# print(\"code columns\")\n",
    "# swiss_codes = pd.DataFrame(c.json())\n",
    "# print(swiss_codes.columns)\n",
    "\n",
    "# swiss_surveys.to_csv(data+'/hammerdirt_data.csv')\n",
    "# swiss_beaches.to_csv(beaches+'/hammerdirt_beaches.csv')\n",
    "# swiss_codes.to_csv(codes+'/swiss_codes.csv')\n"
   ]
  }
 ],
 "metadata": {
  "kernelspec": {
   "display_name": "Python 3",
   "language": "python",
   "name": "python3"
  },
  "language_info": {
   "codemirror_mode": {
    "name": "ipython",
    "version": 3
   },
   "file_extension": ".py",
   "mimetype": "text/x-python",
   "name": "python",
   "nbconvert_exporter": "python",
   "pygments_lexer": "ipython3",
   "version": "3.8.3"
  }
 },
 "nbformat": 4,
 "nbformat_minor": 4
}
