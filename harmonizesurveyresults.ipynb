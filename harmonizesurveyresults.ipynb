{
 "cells": [
  {
   "cell_type": "markdown",
   "metadata": {},
   "source": [
    "### Harmonize survey results\n",
    "\n",
    "#### Seperates the survey data into object counts, uses location and date as survey identifier.\n",
    "\n",
    "seasonal dates: sep-november and april-june each year\n",
    "water features: all lakes and rivers in the Rheine catchment area\n",
    "\n",
    "Specifically: not including the Maass\n",
    "\n",
    "Fetches data from the local source and establishes the following variables:\n",
    "\n",
    "1. dutch_codes\n",
    "2. swiss_codes\n",
    "3. dutch_surveys\n",
    "4. swiss_surveys\n",
    "5. swiss_beaches\n",
    "\n",
    "\n",
    "Establishes directory variables for fetching and putting to all subdirectories:\n",
    "\n",
    "1. data\n",
    "2. beaches\n",
    "3. codes\n",
    "4. geo\n",
    "5. output\n",
    "\n",
    "provides a script to update the remote data."
   ]
  },
  {
   "cell_type": "code",
   "execution_count": 1,
   "metadata": {},
   "outputs": [],
   "source": [
    "# sys things\n",
    "import os\n",
    "import sys\n",
    "import json\n",
    "\n",
    "# networks\n",
    "import requests\n",
    "\n",
    "# data\n",
    "import pandas as pd\n",
    "import numpy as np\n",
    "import datetime as dt\n",
    "import math\n",
    "\n",
    "# charting:\n",
    "import matplotlib as mpl\n",
    "import matplotlib.pyplot as plt\n",
    "import matplotlib.dates as mdates\n",
    "from matplotlib import ticker\n",
    "import matplotlib.ticker as mtick\n",
    "import seaborn as sns\n",
    "from matplotlib.gridspec import GridSpec\n",
    "from IPython.display import display, Markdown, Latex, HTML\n",
    "\n",
    "# mapping\n",
    "import geopandas as gpd\n",
    "\n",
    "# home brew utitilties\n",
    "import resources.utilities.utility_functions as ut\n",
    "\n",
    "# documenting\n",
    "from IPython.display import Markdown as md\n",
    "\n",
    "\n",
    "title_k = {'loc':'left', 'pad':12, 'linespacing':1.5, 'fontsize':12}\n",
    "ylab_k = {'labelpad':14, 'fontsize':14}\n",
    "\n",
    "# use these to format date axis in charts\n",
    "weeks = mdates.WeekdayLocator(byweekday=1, interval=4)\n",
    "onedayweek = mdates.DayLocator(bymonthday=1, interval=1)\n",
    "everytwoweeks = mdates.WeekdayLocator(byweekday=1, interval=4)\n",
    "\n",
    "months = mdates.MonthLocator(bymonth=[3,6,9,12])\n",
    "bimonthly = mdates.MonthLocator(bymonth=[1,3,5,7,9,11])\n",
    "allmonths = mdates.MonthLocator()\n",
    "wks_fmt = mdates.DateFormatter('%d')\n",
    "mths_fmt = mdates.DateFormatter('%b')"
   ]
  },
  {
   "cell_type": "code",
   "execution_count": 2,
   "metadata": {},
   "outputs": [
    {
     "name": "stdout",
     "output_type": "stream",
     "text": [
      "look for resources here\n",
      "\n",
      "resources/surveydata resources/locationdata resources/mlwcodedefs resources/geodata output\n"
     ]
    }
   ],
   "source": [
    "# get folder extesions\n",
    "data, beaches, codes, geo, output=ut.make_local_paths()\n",
    "print(\"look for resources here\\n\")\n",
    "print(data, beaches, codes, geo, output)"
   ]
  },
  {
   "cell_type": "code",
   "execution_count": 3,
   "metadata": {},
   "outputs": [
    {
     "name": "stdout",
     "output_type": "stream",
     "text": [
      "put stuff here:\n",
      "\n",
      "output/harmonized_results\n"
     ]
    }
   ],
   "source": [
    "project_directory = ut.make_project_folder(output, \"harmonized_results\")\n",
    "print(\"put stuff here:\\n\")\n",
    "print(project_directory)"
   ]
  },
  {
   "cell_type": "code",
   "execution_count": 4,
   "metadata": {},
   "outputs": [],
   "source": [
    "# survey_data\n",
    "dutch_surveys = pd.read_csv(data+'/dataset_macrolitter_NL.csv')\n",
    "\n",
    "# use the aggregated hd data. This accounts for the custom codes used in Switzerland\n",
    "swiss_surveys = pd.read_csv(data+'/aggregated_hd_surveys.csv')\n",
    "\n",
    "# location data\n",
    "swiss_beaches = pd.read_csv(beaches+'/hammerdirt_beaches.csv')"
   ]
  },
  {
   "cell_type": "code",
   "execution_count": 5,
   "metadata": {},
   "outputs": [
    {
     "name": "stdout",
     "output_type": "stream",
     "text": [
      "Columns from cleaned up dutch data\n",
      "\n",
      "Index(['Unnamed: 0', 'Gebiedscode', 'Rivier', 'Coordinaten', 'Lat', 'Lon',\n",
      "       'meting', 'date', 'doy', 'dop',\n",
      "       ...\n",
      "       'sanitair_tissues_wc_papier', 'sanitair_toiletverfrissers',\n",
      "       'sanitair_overig_sanitair', 'medisch_verpakkingen', 'medisch_spuiten',\n",
      "       'medisch_overig_medisch', 'Unnamed: 121', 'Totaal', 'Items/km',\n",
      "       'granulaat_korrels'],\n",
      "      dtype='object', length=125)\n",
      "\n",
      "Columns from cleaned up swiss data\n",
      "\n",
      "Index(['loc_date', 'code', 'date', 'pcs_m', 'quantity', 'location',\n",
      "       'water_name'],\n",
      "      dtype='object')\n"
     ]
    }
   ],
   "source": [
    "print(\"Columns from cleaned up dutch data\\n\")\n",
    "print(dutch_surveys.columns)\n",
    "\n",
    "print(\"\\nColumns from cleaned up swiss data\\n\")\n",
    "print(swiss_surveys.columns)"
   ]
  },
  {
   "cell_type": "code",
   "execution_count": 6,
   "metadata": {},
   "outputs": [
    {
     "name": "stdout",
     "output_type": "stream",
     "text": [
      "the first ten rows are admin data\n",
      "\n",
      "Index(['Unnamed: 0', 'Gebiedscode', 'Rivier', 'Coordinaten', 'Lat', 'Lon',\n",
      "       'meting', 'date', 'doy', 'dop'],\n",
      "      dtype='object')\n",
      "\n",
      "the next 115 is code data\n",
      "\n",
      "Index(['plastic_6_packringen', 'plastic_tassen',\n",
      "       'plastic_kleine_plastic_tasjes',\n",
      "       'plastic_drankflessen_groterdan_halveliter',\n",
      "       'plastic_drankflessen_kleinerdan_halveliter',\n",
      "       'plastic_wikkels_van_drankflessen',\n",
      "       'plastic_verpakking_van_schoonmaakmiddelen',\n",
      "       'plastic_voedselverpakkingen_frietbakjes_etc',\n",
      "       'plastic_cosmeticaverpakkingen',\n",
      "       'plastic_motorolieverpakking_groterdan50cm',\n",
      "       ...\n",
      "       'sanitair_tissues_wc_papier', 'sanitair_toiletverfrissers',\n",
      "       'sanitair_overig_sanitair', 'medisch_verpakkingen', 'medisch_spuiten',\n",
      "       'medisch_overig_medisch', 'Unnamed: 121', 'Totaal', 'Items/km',\n",
      "       'granulaat_korrels'],\n",
      "      dtype='object', length=115)\n",
      "\n",
      "one row is equal to one survey\n"
     ]
    }
   ],
   "source": [
    "print(\"the first ten rows are admin data\\n\")\n",
    "print(dutch_surveys.columns[:10])\n",
    "print(\"\\nthe next 115 is code data\\n\")\n",
    "print(dutch_surveys.columns[10:])\n",
    "print(\"\\none row is equal to one survey\")"
   ]
  },
  {
   "cell_type": "code",
   "execution_count": 7,
   "metadata": {},
   "outputs": [
    {
     "name": "stdout",
     "output_type": "stream",
     "text": [
      "This is the number of rows\n",
      "\n",
      "391\n"
     ]
    }
   ],
   "source": [
    "print(\"This is the number of rows\\n\")\n",
    "print(len(dutch_surveys))"
   ]
  },
  {
   "cell_type": "code",
   "execution_count": 8,
   "metadata": {},
   "outputs": [],
   "source": [
    "# key the Gebiedscode to an int\n",
    "count_gebied = {n:i+1 for i,n in enumerate(dutch_surveys.Gebiedscode.unique())}\n",
    "\n",
    "# grab only the object count columns and the river\n",
    "obj_counts = dutch_surveys.columns[10:-4]"
   ]
  },
  {
   "cell_type": "code",
   "execution_count": 9,
   "metadata": {},
   "outputs": [],
   "source": [
    "# reformat the dutch dates to the same ISO standard as the swiss dates\n",
    "# first make them strings\n",
    "dutch_surveys['new date'] = dutch_surveys.date.map(lambda x: F\"{x}\")\n",
    "\n",
    "# reformat and identify any non valid dates:\n",
    "def make_this_a_date(x):\n",
    "    a_date = F\"{x}\"\n",
    "    if len(a_date) == 8:\n",
    "        new_date = F\"{a_date[:4]}-{a_date[4:6]}-{a_date[6:]}\"\n",
    "        try:\n",
    "            a_date = dt.datetime.strptime(new_date, \"%Y-%m-%d\").date()\n",
    "        except:\n",
    "            a_date = 'nothing'\n",
    "    else:\n",
    "        a_date = 'nothing'\n",
    "        \n",
    "    return a_date\n",
    "\n",
    "dutch_surveys['this date'] = dutch_surveys['new date'].map(lambda x: make_this_a_date(x))\n",
    "\n",
    "# check for data with no dates\n",
    "no_date_dutch_surveys =dutch_surveys[dutch_surveys['this date'] == 'nothing'].copy()\n",
    "\n",
    "# drop the records with no valid dates\n",
    "dutch_surveys = dutch_surveys[dutch_surveys['this date'] != 'nothing'].copy()\n",
    "\n",
    "dutch_surveys['date'] = dutch_surveys['this date']\n",
    "dutch_surveys.drop(['this date', 'new date'], inplace=True, axis=1)"
   ]
  },
  {
   "cell_type": "markdown",
   "metadata": {},
   "source": [
    "### Identify the unique survey locations\n",
    "\n",
    "1. use the lat/lon pairs for each survey\n",
    "2. get the unique dates\n",
    "3. assign a name to each unique lat/lon pair\n",
    "4. assign a water feature name and type column\n",
    "5. add admin columns"
   ]
  },
  {
   "cell_type": "code",
   "execution_count": 10,
   "metadata": {},
   "outputs": [
    {
     "name": "stdout",
     "output_type": "stream",
     "text": [
      "The number of unique lat/lon pairs\n",
      "\n",
      "192\n",
      "\n",
      "The number of unique lat values\n",
      "\n",
      "187\n",
      "\n",
      "The number of unique lon values\n",
      "\n",
      "190\n"
     ]
    }
   ],
   "source": [
    "dutch_surveys['lat_lon'] = list(zip(dutch_surveys.Lat, dutch_surveys.Lon))\n",
    "count_lat_lon = {n:i+1 for i,n in enumerate(dutch_surveys.lat_lon.unique())}\n",
    "# dutch_surveys = dutch_surveys[dutch_surveys.Rivier == 'Maas']\n",
    "print(\"The number of unique lat/lon pairs\\n\")\n",
    "print(dutch_surveys.lat_lon.nunique())\n",
    "print(\"\\nThe number of unique lat values\\n\")\n",
    "print(len(dutch_surveys.Lat.unique()))\n",
    "print(\"\\nThe number of unique lon values\\n\")\n",
    "print(len(dutch_surveys.Lon.unique()))"
   ]
  },
  {
   "cell_type": "code",
   "execution_count": 11,
   "metadata": {},
   "outputs": [],
   "source": [
    "# these columns are admin data\n",
    "admin = ['lat_lon', 'Gebiedscode', 'Rivier', 'Coordinaten','Lat', 'Lon', 'meting']\n",
    "date = ['date']\n",
    "\n",
    "# unique id per row:\n",
    "loc_date = ['lat_lon', 'date']\n",
    "\n",
    "# these are no longer needed\n",
    "no_longer_needed = ['Unnamed: 121', 'Totaal', 'Items/km', 'granulaat_korrels']\n",
    "\n",
    "def make_location_groups(x, keys):\n",
    "    try:\n",
    "        name = keys[x]\n",
    "    except:\n",
    "        name = x\n",
    "    return F\"{name}\"\n",
    "\n",
    "# assign a place number for each lat/lon pair\n",
    "dutch_surveys['name'] = dutch_surveys.lat_lon.map(lambda x: make_location_groups(x, count_lat_lon))\n",
    "\n",
    "# prepend the river name to the place number, call it location\n",
    "dutch_surveys['location'] = dutch_surveys.Rivier + dutch_surveys.name\n",
    "\n",
    "# change the names of these columns to match the swiss data\n",
    "dutch_surveys.rename(columns={'Lat':'latitude', 'Lon':'longitude', 'Rivier':'water_name'}, inplace=True)\n",
    "\n",
    "# these columns are not needed\n",
    "dutch_surveys.drop(['Coordinaten', 'meting'], axis=1, inplace=True)\n",
    "\n",
    "# slugs make things easier\n",
    "dutch_surveys['slug'] = dutch_surveys.location.map(lambda x: x.lower())\n",
    "\n",
    "# create a loc_date column\n",
    "dutch_surveys['loc_date'] = list(zip(dutch_surveys.slug, dutch_surveys.date))\n",
    "\n",
    "# add some sorting and grouping columns\n",
    "dutch_surveys['city'] = 'unk'\n",
    "dutch_surveys['country'] = 'NL'\n",
    "dutch_surveys['water'] = 'r'\n",
    "\n",
    "admin_cols = ['location', 'latitude', 'longitude', 'city', 'country', 'water_name', 'water','lat_lon', 'slug', 'Gebiedscode']\n",
    "\n",
    "# apply the new columns  and drop all the duplicates:\n",
    "dutch_admin = dutch_surveys[admin_cols].copy()\n",
    "dutch_admin = dutch_admin.drop_duplicates()"
   ]
  },
  {
   "cell_type": "code",
   "execution_count": 12,
   "metadata": {},
   "outputs": [
    {
     "name": "stdout",
     "output_type": "stream",
     "text": [
      "This is the definition of Waal5:\n",
      "\n"
     ]
    },
    {
     "data": {
      "text/html": [
       "<div>\n",
       "<style scoped>\n",
       "    .dataframe tbody tr th:only-of-type {\n",
       "        vertical-align: middle;\n",
       "    }\n",
       "\n",
       "    .dataframe tbody tr th {\n",
       "        vertical-align: top;\n",
       "    }\n",
       "\n",
       "    .dataframe thead th {\n",
       "        text-align: right;\n",
       "    }\n",
       "</style>\n",
       "<table border=\"1\" class=\"dataframe\">\n",
       "  <thead>\n",
       "    <tr style=\"text-align: right;\">\n",
       "      <th></th>\n",
       "      <th>location</th>\n",
       "      <th>latitude</th>\n",
       "      <th>longitude</th>\n",
       "      <th>city</th>\n",
       "      <th>country</th>\n",
       "      <th>water_name</th>\n",
       "      <th>water</th>\n",
       "      <th>lat_lon</th>\n",
       "      <th>slug</th>\n",
       "      <th>Gebiedscode</th>\n",
       "    </tr>\n",
       "  </thead>\n",
       "  <tbody>\n",
       "    <tr>\n",
       "      <th>0</th>\n",
       "      <td>Waal1</td>\n",
       "      <td>51.8227</td>\n",
       "      <td>5.0159</td>\n",
       "      <td>unk</td>\n",
       "      <td>NL</td>\n",
       "      <td>Waal</td>\n",
       "      <td>r</td>\n",
       "      <td>(51.8227, 5.0159)</td>\n",
       "      <td>waal1</td>\n",
       "      <td>W(078a)R-ZHNL</td>\n",
       "    </tr>\n",
       "  </tbody>\n",
       "</table>\n",
       "</div>"
      ],
      "text/plain": [
       "  location  latitude  longitude city country water_name water  \\\n",
       "0    Waal1   51.8227     5.0159  unk      NL       Waal     r   \n",
       "\n",
       "             lat_lon   slug    Gebiedscode  \n",
       "0  (51.8227, 5.0159)  waal1  W(078a)R-ZHNL  "
      ]
     },
     "execution_count": 12,
     "metadata": {},
     "output_type": "execute_result"
    }
   ],
   "source": [
    "# save the dutch beaches\n",
    "a_file_name = F\"{beaches}/dutch_beaches.csv\"\n",
    "dutch_admin.to_csv(a_file_name, index=False)\n",
    "\n",
    "print(F\"This is the definition of Waal5:\\n\")\n",
    "dutch_admin[dutch_admin.location == 'Waal1']"
   ]
  },
  {
   "cell_type": "markdown",
   "metadata": {},
   "source": [
    "### Separate the survey results from the admin data\n",
    "\n",
    "1. Create one row for each object record\n",
    "2. Key by location and loc_date\n",
    "3. Save results separately"
   ]
  },
  {
   "cell_type": "code",
   "execution_count": 13,
   "metadata": {},
   "outputs": [
    {
     "name": "stdout",
     "output_type": "stream",
     "text": [
      "This is the object results with a  name tag and a loc_date tag\n",
      "\n"
     ]
    },
    {
     "data": {
      "text/html": [
       "<div>\n",
       "<style scoped>\n",
       "    .dataframe tbody tr th:only-of-type {\n",
       "        vertical-align: middle;\n",
       "    }\n",
       "\n",
       "    .dataframe tbody tr th {\n",
       "        vertical-align: top;\n",
       "    }\n",
       "\n",
       "    .dataframe thead th {\n",
       "        text-align: right;\n",
       "    }\n",
       "</style>\n",
       "<table border=\"1\" class=\"dataframe\">\n",
       "  <thead>\n",
       "    <tr style=\"text-align: right;\">\n",
       "      <th></th>\n",
       "      <th>location</th>\n",
       "      <th>date</th>\n",
       "      <th>loc_date</th>\n",
       "      <th>water_name</th>\n",
       "      <th>object</th>\n",
       "      <th>quantity</th>\n",
       "      <th>pcs_m</th>\n",
       "    </tr>\n",
       "  </thead>\n",
       "  <tbody>\n",
       "    <tr>\n",
       "      <th>0</th>\n",
       "      <td>waal1</td>\n",
       "      <td>2017-10-21</td>\n",
       "      <td>(waal1, 2017-10-21)</td>\n",
       "      <td>Waal</td>\n",
       "      <td>plastic_6_packringen</td>\n",
       "      <td>0.0</td>\n",
       "      <td>0.00</td>\n",
       "    </tr>\n",
       "    <tr>\n",
       "      <th>1</th>\n",
       "      <td>waal1</td>\n",
       "      <td>2017-10-21</td>\n",
       "      <td>(waal1, 2017-10-21)</td>\n",
       "      <td>Waal</td>\n",
       "      <td>plastic_tassen</td>\n",
       "      <td>0.0</td>\n",
       "      <td>0.00</td>\n",
       "    </tr>\n",
       "    <tr>\n",
       "      <th>2</th>\n",
       "      <td>waal1</td>\n",
       "      <td>2017-10-21</td>\n",
       "      <td>(waal1, 2017-10-21)</td>\n",
       "      <td>Waal</td>\n",
       "      <td>plastic_kleine_plastic_tasjes</td>\n",
       "      <td>2.0</td>\n",
       "      <td>0.02</td>\n",
       "    </tr>\n",
       "    <tr>\n",
       "      <th>3</th>\n",
       "      <td>waal1</td>\n",
       "      <td>2017-10-21</td>\n",
       "      <td>(waal1, 2017-10-21)</td>\n",
       "      <td>Waal</td>\n",
       "      <td>plastic_drankflessen_groterdan_halveliter</td>\n",
       "      <td>0.0</td>\n",
       "      <td>0.00</td>\n",
       "    </tr>\n",
       "    <tr>\n",
       "      <th>4</th>\n",
       "      <td>waal1</td>\n",
       "      <td>2017-10-21</td>\n",
       "      <td>(waal1, 2017-10-21)</td>\n",
       "      <td>Waal</td>\n",
       "      <td>plastic_drankflessen_kleinerdan_halveliter</td>\n",
       "      <td>1.0</td>\n",
       "      <td>0.01</td>\n",
       "    </tr>\n",
       "  </tbody>\n",
       "</table>\n",
       "</div>"
      ],
      "text/plain": [
       "  location       date             loc_date water_name  \\\n",
       "0    waal1 2017-10-21  (waal1, 2017-10-21)       Waal   \n",
       "1    waal1 2017-10-21  (waal1, 2017-10-21)       Waal   \n",
       "2    waal1 2017-10-21  (waal1, 2017-10-21)       Waal   \n",
       "3    waal1 2017-10-21  (waal1, 2017-10-21)       Waal   \n",
       "4    waal1 2017-10-21  (waal1, 2017-10-21)       Waal   \n",
       "\n",
       "                                       object  quantity  pcs_m  \n",
       "0                        plastic_6_packringen       0.0   0.00  \n",
       "1                              plastic_tassen       0.0   0.00  \n",
       "2               plastic_kleine_plastic_tasjes       2.0   0.02  \n",
       "3   plastic_drankflessen_groterdan_halveliter       0.0   0.00  \n",
       "4  plastic_drankflessen_kleinerdan_halveliter       1.0   0.01  "
      ]
     },
     "execution_count": 13,
     "metadata": {},
     "output_type": "execute_result"
    }
   ],
   "source": [
    "# a place to store the results\n",
    "new_results=[]\n",
    "\n",
    "def seperate_results(x, a_list):\n",
    "    # alist is the list of columns to keep\n",
    "    # return x because we don't want to chage the df\n",
    "    for element in a_list:\n",
    "        stuff = {'location':x['slug'], 'date':x['date'], 'loc_date':x['loc_date'], 'water_name':x['water_name'], 'object':element, 'quantity':x[element], 'rate':x['Items/km']}\n",
    "        new_results.append(stuff)\n",
    "    return x\n",
    "\n",
    "# apply\n",
    "dutch_surveys.apply(lambda row: seperate_results(row, obj_counts), axis=1)\n",
    "\n",
    "# make new df \n",
    "a_results_df = pd.DataFrame(new_results)\n",
    "\n",
    "# convert to date and convert to pcs_m\n",
    "a_results_df['date'] = pd.to_datetime(a_results_df['date'], format='%Y-%m-%d')\n",
    "a_results_df['pcs_m'] = a_results_df.quantity/100\n",
    "a_results_df.drop('rate', inplace=True, axis=1)\n",
    "\n",
    "print(F\"This is the object results with a  name tag and a loc_date tag\\n\")\n",
    "a_results_df.head()"
   ]
  },
  {
   "cell_type": "code",
   "execution_count": 14,
   "metadata": {},
   "outputs": [
    {
     "name": "stdout",
     "output_type": "stream",
     "text": [
      "The total by river\n",
      "\n",
      "water_name\n",
      "Maas         113043.0\n",
      "Nederrijn      7279.0\n",
      "Waal          30684.0\n",
      "Name: quantity, dtype: float64\n"
     ]
    }
   ],
   "source": [
    "print(\"The total by river\\n\")\n",
    "print(a_results_df.groupby('water_name').quantity.sum())"
   ]
  },
  {
   "cell_type": "code",
   "execution_count": 15,
   "metadata": {},
   "outputs": [
    {
     "name": "stdout",
     "output_type": "stream",
     "text": [
      "The total quantity\n",
      "\n",
      "151006.0\n"
     ]
    }
   ],
   "source": [
    "print(\"The total quantity\\n\")\n",
    "print(a_results_df.quantity.sum())"
   ]
  },
  {
   "cell_type": "code",
   "execution_count": 16,
   "metadata": {},
   "outputs": [
    {
     "name": "stdout",
     "output_type": "stream",
     "text": [
      "The top ten objects:\n",
      "\n",
      "object\n",
      "plastic_plastic_stukjes_2_5_50cm_zacht_plastic    24023.0\n",
      "plastic_plastic_stukjes_0_2_5cm_zacht_plastic     18008.0\n",
      "plastic_piepschuim_0_2_5cm                        14944.0\n",
      "plastic_snoep_snack_chipsverpakking               10587.0\n",
      "plastic_piepschuim_2_5_50cm                       10558.0\n",
      "plastic_plastic_stukjes_0_2_5cm_hard_plastic       9278.0\n",
      "plastic_plastic_stukjes_2_5_50cm_hard_plastic      7581.0\n",
      "plastic_doppen_en_deksels                          6923.0\n",
      "plastic_voedselverpakkingen_frietbakjes_etc        3608.0\n",
      "sanitair_plastic_wattenstaafjes                    3242.0\n",
      "Name: quantity, dtype: float64\n"
     ]
    }
   ],
   "source": [
    "tops = a_results_df.groupby(['object']).quantity.sum()\n",
    "tops = tops.sort_values(ascending=False)\n",
    "\n",
    "print(\"The top ten objects:\\n\")\n",
    "print(tops[:10])"
   ]
  },
  {
   "cell_type": "markdown",
   "metadata": {},
   "source": [
    "#### The column names need to be harmonized"
   ]
  },
  {
   "cell_type": "code",
   "execution_count": 17,
   "metadata": {},
   "outputs": [
    {
     "name": "stdout",
     "output_type": "stream",
     "text": [
      "These are the dutch column names:\n",
      "\n",
      "Index(['location', 'date', 'loc_date', 'water_name', 'object', 'quantity',\n",
      "       'pcs_m'],\n",
      "      dtype='object')\n",
      "\n",
      "These are the swiss column names:\n",
      "\n",
      "Index(['loc_date', 'code', 'date', 'pcs_m', 'quantity', 'location',\n",
      "       'water_name'],\n",
      "      dtype='object')\n",
      "\n"
     ]
    }
   ],
   "source": [
    "print(F\"These are the dutch column names:\\n\\n{a_results_df.columns}\\n\")\n",
    "print(F\"These are the swiss column names:\\n\\n{swiss_surveys.columns}\\n\")"
   ]
  },
  {
   "cell_type": "code",
   "execution_count": 18,
   "metadata": {},
   "outputs": [],
   "source": [
    "# renaming the columns\n",
    "a_results_df.rename(columns={'object':'code'}, inplace=True)\n",
    "# a_results_df['pcs_m'] = a_results_df.quantity/100\n",
    "a_results_df['pcs_m'] = a_results_df.pcs_m.round(3)"
   ]
  },
  {
   "cell_type": "code",
   "execution_count": 19,
   "metadata": {},
   "outputs": [
    {
     "data": {
      "text/plain": [
       "array(['Zurichsee', 'Aare', 'Aare|Nidau-Büren-Kanal', 'Lac Léman', 'Arve',\n",
       "       'Lago Maggiore', 'Thunersee', 'Untersee', 'Bielersee', 'Birs',\n",
       "       'Bodensee', 'Chriesbach', 'Emme', 'Neuenburgersee', 'Walensee',\n",
       "       'Glatt', 'Goldach', 'Greifensee', 'Grändelbach', 'Brienzersee',\n",
       "       'Inn', 'Jona', 'Katzensee', 'Dorfbach', 'La Thièle', 'Langeten',\n",
       "       'Rhône', 'Limmat', 'Linthkanal', 'Escherkanal', 'Lorze',\n",
       "       'Lötschebach', 'Murg', 'Ognonnaz', 'Pfaffnern', 'Reuss', 'Rhein',\n",
       "       'Maggia', 'Schiffenensee', 'Schüss', 'Seez', 'Sempachsee', 'Sense',\n",
       "       'Sihl', 'Sihlsee', 'Sitter', 'Thur', 'Töss', 'Urnäsch',\n",
       "       'Quatre Cantons', 'Vorderrhein', 'Zugersee', 'Zulg'], dtype=object)"
      ]
     },
     "execution_count": 19,
     "metadata": {},
     "output_type": "execute_result"
    }
   ],
   "source": [
    "swiss_surveys.water_name.unique()"
   ]
  },
  {
   "cell_type": "code",
   "execution_count": 20,
   "metadata": {},
   "outputs": [
    {
     "name": "stdout",
     "output_type": "stream",
     "text": [
      "The min date: 2017-07-04, the max date: 2019-04-24\n",
      "summary stats for the swiss survey totals:\n",
      "\n"
     ]
    },
    {
     "data": {
      "text/plain": [
       "count    395.000000\n",
       "mean       1.934987\n",
       "std        3.015470\n",
       "min        0.010000\n",
       "25%        0.345000\n",
       "50%        0.990000\n",
       "75%        2.115000\n",
       "max       28.140000\n",
       "Name: pcs_m, dtype: float64"
      ]
     },
     "execution_count": 20,
     "metadata": {},
     "output_type": "execute_result"
    }
   ],
   "source": [
    "a_min_date = a_results_df['date'].min()\n",
    "a_max_date = a_results_df['date'].max()\n",
    "print(F\"The min date: {a_min_date.date()}, the max date: {a_max_date.date()}\")\n",
    "\n",
    "# swiss water features\n",
    "water_names = ['Aare', 'Sihl', 'Reuss', 'Rhein', 'Limmat', 'Seez','Zurichsee','Quatre Cantons', 'Vorderrhein', 'Zugersee','Glatt', 'Goldach', 'Greifensee','Bodensee', 'Chriesbach', 'Emme', 'Neuenburgersee', 'Walensee' ]\n",
    "\n",
    "# slice the swiss data by min date and max date:\n",
    "swiss_surveys['date'] = pd.to_datetime(swiss_surveys['date'], format='%Y-%m-%d')\n",
    "swissDf = swiss_surveys[(swiss_surveys.date >= a_min_date)&(swiss_surveys.date <= a_max_date)].copy()\n",
    "\n",
    "swissDfx = swissDf[swissDf.water_name.isin(water_names)].copy()\n",
    "survey_total_ch = swissDfx.groupby(['loc_date', 'location', 'date', 'water_name'], as_index=False).agg({'pcs_m':'sum', 'quantity':'sum'})\n",
    "\n",
    "# make a month column\n",
    "survey_total_ch['month'] =survey_total_ch['date'].dt.month \n",
    "print(\"summary stats for the swiss survey totals:\\n\")\n",
    "survey_total_ch.pcs_m.describe()"
   ]
  },
  {
   "cell_type": "code",
   "execution_count": 21,
   "metadata": {},
   "outputs": [
    {
     "name": "stdout",
     "output_type": "stream",
     "text": [
      "summary stats for the dutch survey totals:\n",
      "\n"
     ]
    },
    {
     "data": {
      "text/plain": [
       "count    382.000000\n",
       "mean       3.953037\n",
       "std        7.535271\n",
       "min        0.020000\n",
       "25%        1.012500\n",
       "50%        2.050000\n",
       "75%        3.845000\n",
       "max       88.920000\n",
       "Name: pcs_m, dtype: float64"
      ]
     },
     "execution_count": 21,
     "metadata": {},
     "output_type": "execute_result"
    }
   ],
   "source": [
    "# repeat for the dutch data\n",
    "a_results_dfx = a_results_df.groupby(['loc_date', 'location', 'date', 'water_name'], as_index=False).agg({'pcs_m':'sum', 'quantity':'sum'}).copy()\n",
    "\n",
    "# identify the month:\n",
    "a_results_dfx['month'] =a_results_dfx['date'].dt.month \n",
    "\n",
    "print(\"summary stats for the dutch survey totals:\\n\")\n",
    "a_results_dfx.pcs_m.describe()"
   ]
  },
  {
   "cell_type": "code",
   "execution_count": 22,
   "metadata": {},
   "outputs": [],
   "source": [
    "# send these to csv\n",
    "a_file_name = F\"{data}/dutch_surveys_h.csv\"\n",
    "a_results_df.to_csv(a_file_name, index=False)"
   ]
  },
  {
   "cell_type": "code",
   "execution_count": 23,
   "metadata": {},
   "outputs": [
    {
     "data": {
      "image/png": "[encoded data removed]",
      "text/plain": [
       "<Figure size 792x432 with 1 Axes>"
      ]
     },
     "metadata": {},
     "output_type": "display_data"
    }
   ],
   "source": [
    "sns.set_style('whitegrid')\n",
    "\n",
    "# a_results_dfx['country'] = 'nl'\n",
    "# survey_total_ch['country'] = 'ch'\n",
    "\n",
    "daily_totals = pd.concat([a_results_dfx, survey_total_ch])\n",
    "\n",
    "data = daily_totals[daily_totals.month.isin([9,10,11,4,5,6])]\n",
    "data = data[data.water_name != 'Maas']\n",
    "\n",
    "fig, ax = plt.subplots(figsize=(11,6))\n",
    "\n",
    "sns.scatterplot(data=data, x='date', y='pcs_m', hue='water_name', palette='husl', ax=ax)\n",
    "\n",
    "ax.set_title(F\"Rhein river basin, all daily totals {a_min_date.date()}/{a_max_date.date()}, Apr, May, Jun, Sep, Oct, Nov\", **title_k)\n",
    "ax.set_ylabel(\"Pieces of trash per meter\", **ylab_k)\n",
    "ax.set_xlabel(\"\")\n",
    "plt.legend(bbox_to_anchor=(1.05, 1), loc=2, borderaxespad=0.)\n",
    "\n",
    "plt.tight_layout()\n",
    "a_name = F\"{project_directory}/initial_harmonized_results.jpg\"\n",
    "plt.savefig(a_name, dpi=300)\n",
    "\n",
    "plt.show()\n",
    "plt.close()\n"
   ]
  },
  {
   "cell_type": "markdown",
   "metadata": {},
   "source": [
    "### These are the unaccounted for dutch surveys (no date):"
   ]
  },
  {
   "cell_type": "code",
   "execution_count": 24,
   "metadata": {},
   "outputs": [
    {
     "data": {
      "text/html": [
       "<div>\n",
       "<style scoped>\n",
       "    .dataframe tbody tr th:only-of-type {\n",
       "        vertical-align: middle;\n",
       "    }\n",
       "\n",
       "    .dataframe tbody tr th {\n",
       "        vertical-align: top;\n",
       "    }\n",
       "\n",
       "    .dataframe thead th {\n",
       "        text-align: right;\n",
       "    }\n",
       "</style>\n",
       "<table border=\"1\" class=\"dataframe\">\n",
       "  <thead>\n",
       "    <tr style=\"text-align: right;\">\n",
       "      <th></th>\n",
       "      <th>Unnamed: 0</th>\n",
       "      <th>Gebiedscode</th>\n",
       "      <th>Rivier</th>\n",
       "      <th>Coordinaten</th>\n",
       "      <th>Lat</th>\n",
       "      <th>Lon</th>\n",
       "      <th>meting</th>\n",
       "      <th>date</th>\n",
       "      <th>doy</th>\n",
       "      <th>dop</th>\n",
       "      <th>...</th>\n",
       "      <th>sanitair_overig_sanitair</th>\n",
       "      <th>medisch_verpakkingen</th>\n",
       "      <th>medisch_spuiten</th>\n",
       "      <th>medisch_overig_medisch</th>\n",
       "      <th>Unnamed: 121</th>\n",
       "      <th>Totaal</th>\n",
       "      <th>Items/km</th>\n",
       "      <th>granulaat_korrels</th>\n",
       "      <th>new date</th>\n",
       "      <th>this date</th>\n",
       "    </tr>\n",
       "  </thead>\n",
       "  <tbody>\n",
       "    <tr>\n",
       "      <th>153</th>\n",
       "      <td>155</td>\n",
       "      <td>W(042a)L-GENL</td>\n",
       "      <td>Waal</td>\n",
       "      <td>#REF!</td>\n",
       "      <td>51.8872</td>\n",
       "      <td>5.4663</td>\n",
       "      <td>2</td>\n",
       "      <td>0</td>\n",
       "      <td>NaN</td>\n",
       "      <td>NaN</td>\n",
       "      <td>...</td>\n",
       "      <td>0</td>\n",
       "      <td>0</td>\n",
       "      <td>0</td>\n",
       "      <td>0</td>\n",
       "      <td>NaN</td>\n",
       "      <td>55</td>\n",
       "      <td>550</td>\n",
       "      <td>0</td>\n",
       "      <td>0</td>\n",
       "      <td>nothing</td>\n",
       "    </tr>\n",
       "    <tr>\n",
       "      <th>155</th>\n",
       "      <td>157</td>\n",
       "      <td>W(038a)L-GENL</td>\n",
       "      <td>Waal</td>\n",
       "      <td>#REF!</td>\n",
       "      <td>51.8897</td>\n",
       "      <td>5.5208</td>\n",
       "      <td>2</td>\n",
       "      <td>0</td>\n",
       "      <td>NaN</td>\n",
       "      <td>NaN</td>\n",
       "      <td>...</td>\n",
       "      <td>1</td>\n",
       "      <td>0</td>\n",
       "      <td>0</td>\n",
       "      <td>0</td>\n",
       "      <td>NaN</td>\n",
       "      <td>143</td>\n",
       "      <td>1430</td>\n",
       "      <td>0</td>\n",
       "      <td>0</td>\n",
       "      <td>nothing</td>\n",
       "    </tr>\n",
       "    <tr>\n",
       "      <th>181</th>\n",
       "      <td>184</td>\n",
       "      <td>M(122a)L-NBNL</td>\n",
       "      <td>Maas</td>\n",
       "      <td>#REF!</td>\n",
       "      <td>51.7444</td>\n",
       "      <td>5.3194</td>\n",
       "      <td>2</td>\n",
       "      <td>0</td>\n",
       "      <td>NaN</td>\n",
       "      <td>NaN</td>\n",
       "      <td>...</td>\n",
       "      <td>0</td>\n",
       "      <td>0</td>\n",
       "      <td>0</td>\n",
       "      <td>0</td>\n",
       "      <td>NaN</td>\n",
       "      <td>256</td>\n",
       "      <td>2560</td>\n",
       "      <td>1</td>\n",
       "      <td>0</td>\n",
       "      <td>nothing</td>\n",
       "    </tr>\n",
       "    <tr>\n",
       "      <th>246</th>\n",
       "      <td>259</td>\n",
       "      <td>W(039a)L-GENL</td>\n",
       "      <td>Waal</td>\n",
       "      <td>#REF!</td>\n",
       "      <td>51.8876</td>\n",
       "      <td>5.4978</td>\n",
       "      <td>3</td>\n",
       "      <td>0</td>\n",
       "      <td>NaN</td>\n",
       "      <td>NaN</td>\n",
       "      <td>...</td>\n",
       "      <td>0</td>\n",
       "      <td>0</td>\n",
       "      <td>0</td>\n",
       "      <td>0</td>\n",
       "      <td>NaN</td>\n",
       "      <td>336</td>\n",
       "      <td>3360</td>\n",
       "      <td>0</td>\n",
       "      <td>0</td>\n",
       "      <td>nothing</td>\n",
       "    </tr>\n",
       "    <tr>\n",
       "      <th>270</th>\n",
       "      <td>285</td>\n",
       "      <td>W(008a)L-GENL</td>\n",
       "      <td>Waal</td>\n",
       "      <td>#REF!</td>\n",
       "      <td>51.7183</td>\n",
       "      <td>4.6980</td>\n",
       "      <td>3</td>\n",
       "      <td>0</td>\n",
       "      <td>NaN</td>\n",
       "      <td>NaN</td>\n",
       "      <td>...</td>\n",
       "      <td>0</td>\n",
       "      <td>0</td>\n",
       "      <td>0</td>\n",
       "      <td>0</td>\n",
       "      <td>NaN</td>\n",
       "      <td>106</td>\n",
       "      <td>1060</td>\n",
       "      <td>4</td>\n",
       "      <td>0</td>\n",
       "      <td>nothing</td>\n",
       "    </tr>\n",
       "    <tr>\n",
       "      <th>288</th>\n",
       "      <td>303</td>\n",
       "      <td>M(149a)L-NBNL</td>\n",
       "      <td>Maas</td>\n",
       "      <td>#REF!</td>\n",
       "      <td>51.7175</td>\n",
       "      <td>4.9081</td>\n",
       "      <td>3</td>\n",
       "      <td>0</td>\n",
       "      <td>NaN</td>\n",
       "      <td>NaN</td>\n",
       "      <td>...</td>\n",
       "      <td>0</td>\n",
       "      <td>0</td>\n",
       "      <td>0</td>\n",
       "      <td>0</td>\n",
       "      <td>NaN</td>\n",
       "      <td>103</td>\n",
       "      <td>1030</td>\n",
       "      <td>0</td>\n",
       "      <td>0</td>\n",
       "      <td>nothing</td>\n",
       "    </tr>\n",
       "    <tr>\n",
       "      <th>383</th>\n",
       "      <td>400</td>\n",
       "      <td>M(009a)R-LINL</td>\n",
       "      <td>Maas</td>\n",
       "      <td>#REF!</td>\n",
       "      <td>50.9022</td>\n",
       "      <td>5.6980</td>\n",
       "      <td>3</td>\n",
       "      <td>0</td>\n",
       "      <td>NaN</td>\n",
       "      <td>NaN</td>\n",
       "      <td>...</td>\n",
       "      <td>0</td>\n",
       "      <td>4</td>\n",
       "      <td>0</td>\n",
       "      <td>0</td>\n",
       "      <td>NaN</td>\n",
       "      <td>410</td>\n",
       "      <td>4100</td>\n",
       "      <td>0</td>\n",
       "      <td>0</td>\n",
       "      <td>nothing</td>\n",
       "    </tr>\n",
       "  </tbody>\n",
       "</table>\n",
       "<p>7 rows × 127 columns</p>\n",
       "</div>"
      ],
      "text/plain": [
       "     Unnamed: 0    Gebiedscode Rivier Coordinaten      Lat     Lon  meting  \\\n",
       "153         155  W(042a)L-GENL   Waal       #REF!  51.8872  5.4663       2   \n",
       "155         157  W(038a)L-GENL   Waal       #REF!  51.8897  5.5208       2   \n",
       "181         184  M(122a)L-NBNL   Maas       #REF!  51.7444  5.3194       2   \n",
       "246         259  W(039a)L-GENL   Waal       #REF!  51.8876  5.4978       3   \n",
       "270         285  W(008a)L-GENL   Waal       #REF!  51.7183  4.6980       3   \n",
       "288         303  M(149a)L-NBNL   Maas       #REF!  51.7175  4.9081       3   \n",
       "383         400  M(009a)R-LINL   Maas       #REF!  50.9022  5.6980       3   \n",
       "\n",
       "     date  doy  dop  ...  sanitair_overig_sanitair  medisch_verpakkingen  \\\n",
       "153     0  NaN  NaN  ...                         0                     0   \n",
       "155     0  NaN  NaN  ...                         1                     0   \n",
       "181     0  NaN  NaN  ...                         0                     0   \n",
       "246     0  NaN  NaN  ...                         0                     0   \n",
       "270     0  NaN  NaN  ...                         0                     0   \n",
       "288     0  NaN  NaN  ...                         0                     0   \n",
       "383     0  NaN  NaN  ...                         0                     4   \n",
       "\n",
       "     medisch_spuiten  medisch_overig_medisch  Unnamed: 121  Totaal  Items/km  \\\n",
       "153                0                       0           NaN      55       550   \n",
       "155                0                       0           NaN     143      1430   \n",
       "181                0                       0           NaN     256      2560   \n",
       "246                0                       0           NaN     336      3360   \n",
       "270                0                       0           NaN     106      1060   \n",
       "288                0                       0           NaN     103      1030   \n",
       "383                0                       0           NaN     410      4100   \n",
       "\n",
       "     granulaat_korrels  new date  this date  \n",
       "153                  0         0    nothing  \n",
       "155                  0         0    nothing  \n",
       "181                  1         0    nothing  \n",
       "246                  0         0    nothing  \n",
       "270                  4         0    nothing  \n",
       "288                  0         0    nothing  \n",
       "383                  0         0    nothing  \n",
       "\n",
       "[7 rows x 127 columns]"
      ]
     },
     "execution_count": 24,
     "metadata": {},
     "output_type": "execute_result"
    }
   ],
   "source": [
    "no_date_dutch_surveys"
   ]
  },
  {
   "cell_type": "markdown",
   "metadata": {},
   "source": [
    "### Change the object definitions to OSPAR codes\n",
    "\n",
    "The objects definitions need to changed to OSPAR"
   ]
  },
  {
   "cell_type": "code",
   "execution_count": 25,
   "metadata": {},
   "outputs": [],
   "source": [
    "## !!! refresh the data from the hammerdirt api here:\n",
    "\n",
    "# a = requests.get('https://mwshovel.pythonanywhere.com/api/surveys/daily-totals/code-totals/swiss/')\n",
    "# b = requests.get('https://mwshovel.pythonanywhere.com/api/list-of-beaches/swiss/')\n",
    "# c = requests.get('https://mwshovel.pythonanywhere.com/api/mlw-codes/list/')\n",
    "\n",
    "# # the surveys need to be unpacked:\n",
    "# swiss_surveys = ut.unpack_survey_results(a.json())\n",
    "# swiss_surveys = pd.DataFrame(swiss_surveys)\n",
    "\n",
    "# # adding location date column\n",
    "# swiss_surveys['loc_date'] = list(zip(swiss_surveys['location'], swiss_surveys['date']))\n",
    "\n",
    "# # hold the original\n",
    "# x = a.json()\n",
    "\n",
    "# print(\"survey columns\")\n",
    "# print(swiss_surveys.columns)\n",
    "\n",
    "# swiss_beaches = pd.DataFrame(b.json())\n",
    "# print(\"beach columns\")\n",
    "# print(swiss_beaches.columns)\n",
    "\n",
    "# print(\"code columns\")\n",
    "# swiss_codes = pd.DataFrame(c.json())\n",
    "# print(swiss_codes.columns)\n",
    "\n",
    "# swiss_surveys.to_csv(data+'/hammerdirt_data.csv')\n",
    "# swiss_beaches.to_csv(beaches+'/hammerdirt_beaches.csv')\n",
    "# swiss_codes.to_csv(codes+'/swiss_codes.csv')\n"
   ]
  }
 ],
 "metadata": {
  "kernelspec": {
   "display_name": "Python 3",
   "language": "python",
   "name": "python3"
  },
  "language_info": {
   "codemirror_mode": {
    "name": "ipython",
    "version": 3
   },
   "file_extension": ".py",
   "mimetype": "text/x-python",
   "name": "python",
   "nbconvert_exporter": "python",
   "pygments_lexer": "ipython3",
   "version": "3.8.3"
  }
 },
 "nbformat": 4,
 "nbformat_minor": 4
}
