{
 "cells": [
  {
   "cell_type": "markdown",
   "metadata": {},
   "source": [
    "### Harmonize survey results\n",
    "\n",
    "#### Seperates the survey data into object counts, uses location and date as survey identifier.\n",
    "\n",
    "\n",
    "Fetches data from the local source and esyablishes the following variables:\n",
    "\n",
    "1. dutch_codes\n",
    "2. swiss_codes\n",
    "3. dutch_surveys\n",
    "4. swiss_surveys\n",
    "5. swiss_beaches\n",
    "\n",
    "\n",
    "Establishes directory variables for fetching and putting to all subdirectories:\n",
    "\n",
    "1. data\n",
    "2. beaches\n",
    "3. codes\n",
    "4. geo\n",
    "5. output\n",
    "\n",
    "provides a script to update the remote data."
   ]
  },
  {
   "cell_type": "code",
   "execution_count": 1,
   "metadata": {},
   "outputs": [],
   "source": [
    "# sys things\n",
    "import os\n",
    "import sys\n",
    "import json\n",
    "\n",
    "# networks\n",
    "import requests\n",
    "\n",
    "# data\n",
    "import pandas as pd\n",
    "import numpy as np\n",
    "import scipy\n",
    "import math\n",
    "import seaborn as sns\n",
    "\n",
    "import resources.utilities.utility_functions as ut"
   ]
  },
  {
   "cell_type": "code",
   "execution_count": 2,
   "metadata": {},
   "outputs": [
    {
     "name": "stdout",
     "output_type": "stream",
     "text": [
      "look for resources here\n",
      "\n",
      "resources/surveydata resources/locationdata resources/mlwcodedefs resources/geodata output\n"
     ]
    }
   ],
   "source": [
    "# get folder extesions\n",
    "data, beaches, codes, geo, output=ut.make_local_paths()\n",
    "print(\"look for resources here\\n\")\n",
    "print(data, beaches, codes, geo, output)"
   ]
  },
  {
   "cell_type": "code",
   "execution_count": 3,
   "metadata": {},
   "outputs": [
    {
     "name": "stdout",
     "output_type": "stream",
     "text": [
      "put stuff here:\n",
      "\n",
      "output/harmonized_results\n"
     ]
    }
   ],
   "source": [
    "project_directory = ut.make_project_folder(output, \"harmonized_results\")\n",
    "print(\"put stuff here:\\n\")\n",
    "print(project_directory)"
   ]
  },
  {
   "cell_type": "code",
   "execution_count": 4,
   "metadata": {},
   "outputs": [],
   "source": [
    "# survey_data\n",
    "dutch_surveys = pd.read_csv(data+'/dataset_macrolitter_NL.csv')\n",
    "\n",
    "# use the aggregated hd data. This accounts for the custom codes used in Switzerland\n",
    "swiss_surveys = pd.read_csv(data+'/aggregated_hd_surveys.csv')\n",
    "\n",
    "# location data\n",
    "swiss_beaches = pd.read_csv(beaches+'/hammerdirt_beaches.csv')"
   ]
  },
  {
   "cell_type": "code",
   "execution_count": 5,
   "metadata": {},
   "outputs": [
    {
     "name": "stdout",
     "output_type": "stream",
     "text": [
      "Columns from cleaned up dutch data\n",
      "\n",
      "Index(['Unnamed: 0', 'Gebiedscode', 'Rivier', 'Coordinaten', 'Lat', 'Lon',\n",
      "       'meting', 'date', 'doy', 'dop',\n",
      "       ...\n",
      "       'sanitair_tissues_wc_papier', 'sanitair_toiletverfrissers',\n",
      "       'sanitair_overig_sanitair', 'medisch_verpakkingen', 'medisch_spuiten',\n",
      "       'medisch_overig_medisch', 'Unnamed: 121', 'Totaal', 'Items/km',\n",
      "       'granulaat_korrels'],\n",
      "      dtype='object', length=125)\n",
      "\n",
      "Columns from cleaned up swiss data\n",
      "\n",
      "Index(['loc_date', 'code', 'date', 'pcs_m', 'quantity', 'location',\n",
      "       'water_name'],\n",
      "      dtype='object')\n"
     ]
    }
   ],
   "source": [
    "print(\"Columns from cleaned up dutch data\\n\")\n",
    "print(dutch_surveys.columns)\n",
    "\n",
    "print(\"\\nColumns from cleaned up swiss data\\n\")\n",
    "print(swiss_surveys.columns)"
   ]
  },
  {
   "cell_type": "code",
   "execution_count": 6,
   "metadata": {},
   "outputs": [
    {
     "name": "stdout",
     "output_type": "stream",
     "text": [
      "the first ten rows are admin data\n",
      "\n",
      "Index(['Unnamed: 0', 'Gebiedscode', 'Rivier', 'Coordinaten', 'Lat', 'Lon',\n",
      "       'meting', 'date', 'doy', 'dop'],\n",
      "      dtype='object')\n",
      "\n",
      "the next 115 is code data\n",
      "\n",
      "Index(['plastic_6_packringen', 'plastic_tassen',\n",
      "       'plastic_kleine_plastic_tasjes',\n",
      "       'plastic_drankflessen_groterdan_halveliter',\n",
      "       'plastic_drankflessen_kleinerdan_halveliter',\n",
      "       'plastic_wikkels_van_drankflessen',\n",
      "       'plastic_verpakking_van_schoonmaakmiddelen',\n",
      "       'plastic_voedselverpakkingen_frietbakjes_etc',\n",
      "       'plastic_cosmeticaverpakkingen',\n",
      "       'plastic_motorolieverpakking_groterdan50cm',\n",
      "       ...\n",
      "       'sanitair_tissues_wc_papier', 'sanitair_toiletverfrissers',\n",
      "       'sanitair_overig_sanitair', 'medisch_verpakkingen', 'medisch_spuiten',\n",
      "       'medisch_overig_medisch', 'Unnamed: 121', 'Totaal', 'Items/km',\n",
      "       'granulaat_korrels'],\n",
      "      dtype='object', length=115)\n",
      "\n",
      "one row is equal to one survey\n"
     ]
    }
   ],
   "source": [
    "print(\"the first ten rows are admin data\\n\")\n",
    "print(dutch_surveys.columns[:10])\n",
    "print(\"\\nthe next 115 is code data\\n\")\n",
    "print(dutch_surveys.columns[10:])\n",
    "print(\"\\none row is equal to one survey\")"
   ]
  },
  {
   "cell_type": "code",
   "execution_count": 7,
   "metadata": {},
   "outputs": [
    {
     "name": "stdout",
     "output_type": "stream",
     "text": [
      "This is the number of rows\n",
      "\n",
      "391\n",
      "\n",
      "This is the number of unique 'Gebiedscode' values\n",
      "\n",
      "212\n"
     ]
    }
   ],
   "source": [
    "print(\"This is the number of rows\\n\")\n",
    "print(len(dutch_surveys))\n",
    "print(\"\\nThis is the number of unique 'Gebiedscode' values\\n\")\n",
    "print(len(dutch_surveys.Gebiedscode.unique()))"
   ]
  },
  {
   "cell_type": "code",
   "execution_count": 8,
   "metadata": {},
   "outputs": [],
   "source": [
    "# key the Gebiedscode to an int\n",
    "count_gebied = {n:i+1 for i,n in enumerate(dutch_surveys.Gebiedscode.unique())}\n",
    "\n",
    "# grab only the object count columns and the river\n",
    "obj_counts = dutch_surveys.columns[10:-4]"
   ]
  },
  {
   "cell_type": "code",
   "execution_count": 9,
   "metadata": {},
   "outputs": [
    {
     "name": "stdout",
     "output_type": "stream",
     "text": [
      "This is the admin data plus a name tag and a loc_date tag\n",
      "\n"
     ]
    },
    {
     "data": {
      "text/html": [
       "<div>\n",
       "<style scoped>\n",
       "    .dataframe tbody tr th:only-of-type {\n",
       "        vertical-align: middle;\n",
       "    }\n",
       "\n",
       "    .dataframe tbody tr th {\n",
       "        vertical-align: top;\n",
       "    }\n",
       "\n",
       "    .dataframe thead th {\n",
       "        text-align: right;\n",
       "    }\n",
       "</style>\n",
       "<table border=\"1\" class=\"dataframe\">\n",
       "  <thead>\n",
       "    <tr style=\"text-align: right;\">\n",
       "      <th></th>\n",
       "      <th>name</th>\n",
       "      <th>loc_date</th>\n",
       "      <th>Gebiedscode</th>\n",
       "      <th>Rivier</th>\n",
       "      <th>Coordinaten</th>\n",
       "      <th>Lat</th>\n",
       "      <th>Lon</th>\n",
       "      <th>meting</th>\n",
       "      <th>date</th>\n",
       "      <th>doy</th>\n",
       "      <th>dop</th>\n",
       "    </tr>\n",
       "  </thead>\n",
       "  <tbody>\n",
       "    <tr>\n",
       "      <th>0</th>\n",
       "      <td>1</td>\n",
       "      <td>(1, 20171021)</td>\n",
       "      <td>W(078a)R-ZHNL</td>\n",
       "      <td>Waal</td>\n",
       "      <td>#REF!</td>\n",
       "      <td>51.8227</td>\n",
       "      <td>5.0159</td>\n",
       "      <td>0</td>\n",
       "      <td>20171021</td>\n",
       "      <td>294.0</td>\n",
       "      <td>293.0</td>\n",
       "    </tr>\n",
       "    <tr>\n",
       "      <th>1</th>\n",
       "      <td>2</td>\n",
       "      <td>(2, 20171103)</td>\n",
       "      <td>W(074b)R-REFE</td>\n",
       "      <td>Waal</td>\n",
       "      <td>#REF!</td>\n",
       "      <td>51.8290</td>\n",
       "      <td>5.0805</td>\n",
       "      <td>0</td>\n",
       "      <td>20171103</td>\n",
       "      <td>307.0</td>\n",
       "      <td>306.0</td>\n",
       "    </tr>\n",
       "    <tr>\n",
       "      <th>2</th>\n",
       "      <td>3</td>\n",
       "      <td>(3, 20171016)</td>\n",
       "      <td>W(062a)L-GENL</td>\n",
       "      <td>Waal</td>\n",
       "      <td>#REF!</td>\n",
       "      <td>51.8126</td>\n",
       "      <td>5.2358</td>\n",
       "      <td>0</td>\n",
       "      <td>20171016</td>\n",
       "      <td>289.0</td>\n",
       "      <td>288.0</td>\n",
       "    </tr>\n",
       "    <tr>\n",
       "      <th>3</th>\n",
       "      <td>4</td>\n",
       "      <td>(4, 20171004)</td>\n",
       "      <td>W(048a)L-GENL</td>\n",
       "      <td>Waal</td>\n",
       "      <td>#REF!</td>\n",
       "      <td>51.8475</td>\n",
       "      <td>5.4159</td>\n",
       "      <td>0</td>\n",
       "      <td>20171004</td>\n",
       "      <td>277.0</td>\n",
       "      <td>276.0</td>\n",
       "    </tr>\n",
       "    <tr>\n",
       "      <th>4</th>\n",
       "      <td>5</td>\n",
       "      <td>(5, 20171002)</td>\n",
       "      <td>W(046a)L-GENL</td>\n",
       "      <td>Waal</td>\n",
       "      <td>#REF!</td>\n",
       "      <td>51.8588</td>\n",
       "      <td>5.4222</td>\n",
       "      <td>0</td>\n",
       "      <td>20171002</td>\n",
       "      <td>275.0</td>\n",
       "      <td>274.0</td>\n",
       "    </tr>\n",
       "  </tbody>\n",
       "</table>\n",
       "</div>"
      ],
      "text/plain": [
       "   name       loc_date    Gebiedscode Rivier Coordinaten      Lat     Lon  \\\n",
       "0     1  (1, 20171021)  W(078a)R-ZHNL   Waal       #REF!  51.8227  5.0159   \n",
       "1     2  (2, 20171103)  W(074b)R-REFE   Waal       #REF!  51.8290  5.0805   \n",
       "2     3  (3, 20171016)  W(062a)L-GENL   Waal       #REF!  51.8126  5.2358   \n",
       "3     4  (4, 20171004)  W(048a)L-GENL   Waal       #REF!  51.8475  5.4159   \n",
       "4     5  (5, 20171002)  W(046a)L-GENL   Waal       #REF!  51.8588  5.4222   \n",
       "\n",
       "   meting      date    doy    dop  \n",
       "0       0  20171021  294.0  293.0  \n",
       "1       0  20171103  307.0  306.0  \n",
       "2       0  20171016  289.0  288.0  \n",
       "3       0  20171004  277.0  276.0  \n",
       "4       0  20171002  275.0  274.0  "
      ]
     },
     "execution_count": 9,
     "metadata": {},
     "output_type": "execute_result"
    }
   ],
   "source": [
    "# these columns are admin data\n",
    "admin = ['Gebiedscode', 'Rivier', 'Coordinaten', 'Lat', 'Lon', 'meting', 'date', 'doy', 'dop']\n",
    "date = ['date']\n",
    "\n",
    "# unique id per row:\n",
    "loc_date = ['Gebiedscode', 'date']\n",
    "\n",
    "# these are no longer needed\n",
    "no_longer_needed = ['Unnamed: 121', 'Totaal', 'Items/km', 'granulaat_korrels']\n",
    "\n",
    "\n",
    "\n",
    "def make_location_groups(x, keys):\n",
    "    try:\n",
    "        name = keys[x]\n",
    "    except:\n",
    "        name = x\n",
    "    return name\n",
    "\n",
    "# make a column of the keys created for Gebiedscode\n",
    "dutch_surveys['name'] = dutch_surveys.Gebiedscode.map(lambda x: make_location_groups(x, count_gebied))\n",
    "\n",
    "# zip that up with the date\n",
    "dutch_surveys['loc_date'] = list(zip(dutch_surveys.name, dutch_surveys.date))\n",
    "\n",
    "# make an admin df:\n",
    "dutch_admin = dutch_surveys[['name','loc_date', *admin]]\n",
    "a_file_name = F\"{project_directory}/dutch_admin_h.csv\"\n",
    "dutch_admin.to_csv(a_file_name)\n",
    "\n",
    "print(\"This is the admin data plus a name tag and a loc_date tag\\n\")\n",
    "dutch_admin.iloc[:5]"
   ]
  },
  {
   "cell_type": "code",
   "execution_count": 10,
   "metadata": {},
   "outputs": [
    {
     "data": {
      "text/plain": [
       "name                       1\n",
       "loc_date       (1, 20171021)\n",
       "Gebiedscode    W(078a)R-ZHNL\n",
       "Rivier                  Waal\n",
       "Coordinaten            #REF!\n",
       "Lat                  51.8227\n",
       "Lon                   5.0159\n",
       "meting                     0\n",
       "date                20171021\n",
       "doy                      294\n",
       "dop                      293\n",
       "Name: 0, dtype: object"
      ]
     },
     "execution_count": 10,
     "metadata": {},
     "output_type": "execute_result"
    }
   ],
   "source": [
    "print(\"Thi)\n",
    "dutch_admin.iloc[0]"
   ]
  },
  {
   "cell_type": "code",
   "execution_count": 11,
   "metadata": {},
   "outputs": [
    {
     "name": "stdout",
     "output_type": "stream",
     "text": [
      "\n",
      "This is the object results with a  name tag and a loc_date tag\n",
      "\n"
     ]
    },
    {
     "data": {
      "text/html": [
       "<div>\n",
       "<style scoped>\n",
       "    .dataframe tbody tr th:only-of-type {\n",
       "        vertical-align: middle;\n",
       "    }\n",
       "\n",
       "    .dataframe tbody tr th {\n",
       "        vertical-align: top;\n",
       "    }\n",
       "\n",
       "    .dataframe thead th {\n",
       "        text-align: right;\n",
       "    }\n",
       "</style>\n",
       "<table border=\"1\" class=\"dataframe\">\n",
       "  <thead>\n",
       "    <tr style=\"text-align: right;\">\n",
       "      <th></th>\n",
       "      <th>name</th>\n",
       "      <th>date</th>\n",
       "      <th>loc_date</th>\n",
       "      <th>river</th>\n",
       "      <th>object</th>\n",
       "      <th>quantity</th>\n",
       "    </tr>\n",
       "  </thead>\n",
       "  <tbody>\n",
       "    <tr>\n",
       "      <th>0</th>\n",
       "      <td>1</td>\n",
       "      <td>20171021</td>\n",
       "      <td>(1, 20171021)</td>\n",
       "      <td>Waal</td>\n",
       "      <td>plastic_6_packringen</td>\n",
       "      <td>0.0</td>\n",
       "    </tr>\n",
       "    <tr>\n",
       "      <th>1</th>\n",
       "      <td>1</td>\n",
       "      <td>20171021</td>\n",
       "      <td>(1, 20171021)</td>\n",
       "      <td>Waal</td>\n",
       "      <td>plastic_tassen</td>\n",
       "      <td>0.0</td>\n",
       "    </tr>\n",
       "    <tr>\n",
       "      <th>2</th>\n",
       "      <td>1</td>\n",
       "      <td>20171021</td>\n",
       "      <td>(1, 20171021)</td>\n",
       "      <td>Waal</td>\n",
       "      <td>plastic_kleine_plastic_tasjes</td>\n",
       "      <td>2.0</td>\n",
       "    </tr>\n",
       "    <tr>\n",
       "      <th>3</th>\n",
       "      <td>1</td>\n",
       "      <td>20171021</td>\n",
       "      <td>(1, 20171021)</td>\n",
       "      <td>Waal</td>\n",
       "      <td>plastic_drankflessen_groterdan_halveliter</td>\n",
       "      <td>0.0</td>\n",
       "    </tr>\n",
       "    <tr>\n",
       "      <th>4</th>\n",
       "      <td>1</td>\n",
       "      <td>20171021</td>\n",
       "      <td>(1, 20171021)</td>\n",
       "      <td>Waal</td>\n",
       "      <td>plastic_drankflessen_kleinerdan_halveliter</td>\n",
       "      <td>1.0</td>\n",
       "    </tr>\n",
       "    <tr>\n",
       "      <th>5</th>\n",
       "      <td>1</td>\n",
       "      <td>20171021</td>\n",
       "      <td>(1, 20171021)</td>\n",
       "      <td>Waal</td>\n",
       "      <td>plastic_wikkels_van_drankflessen</td>\n",
       "      <td>3.0</td>\n",
       "    </tr>\n",
       "    <tr>\n",
       "      <th>6</th>\n",
       "      <td>1</td>\n",
       "      <td>20171021</td>\n",
       "      <td>(1, 20171021)</td>\n",
       "      <td>Waal</td>\n",
       "      <td>plastic_verpakking_van_schoonmaakmiddelen</td>\n",
       "      <td>0.0</td>\n",
       "    </tr>\n",
       "    <tr>\n",
       "      <th>7</th>\n",
       "      <td>1</td>\n",
       "      <td>20171021</td>\n",
       "      <td>(1, 20171021)</td>\n",
       "      <td>Waal</td>\n",
       "      <td>plastic_voedselverpakkingen_frietbakjes_etc</td>\n",
       "      <td>6.0</td>\n",
       "    </tr>\n",
       "    <tr>\n",
       "      <th>8</th>\n",
       "      <td>1</td>\n",
       "      <td>20171021</td>\n",
       "      <td>(1, 20171021)</td>\n",
       "      <td>Waal</td>\n",
       "      <td>plastic_cosmeticaverpakkingen</td>\n",
       "      <td>0.0</td>\n",
       "    </tr>\n",
       "    <tr>\n",
       "      <th>9</th>\n",
       "      <td>1</td>\n",
       "      <td>20171021</td>\n",
       "      <td>(1, 20171021)</td>\n",
       "      <td>Waal</td>\n",
       "      <td>plastic_motorolieverpakking_groterdan50cm</td>\n",
       "      <td>0.0</td>\n",
       "    </tr>\n",
       "  </tbody>\n",
       "</table>\n",
       "</div>"
      ],
      "text/plain": [
       "   name      date       loc_date river  \\\n",
       "0     1  20171021  (1, 20171021)  Waal   \n",
       "1     1  20171021  (1, 20171021)  Waal   \n",
       "2     1  20171021  (1, 20171021)  Waal   \n",
       "3     1  20171021  (1, 20171021)  Waal   \n",
       "4     1  20171021  (1, 20171021)  Waal   \n",
       "5     1  20171021  (1, 20171021)  Waal   \n",
       "6     1  20171021  (1, 20171021)  Waal   \n",
       "7     1  20171021  (1, 20171021)  Waal   \n",
       "8     1  20171021  (1, 20171021)  Waal   \n",
       "9     1  20171021  (1, 20171021)  Waal   \n",
       "\n",
       "                                        object  quantity  \n",
       "0                         plastic_6_packringen       0.0  \n",
       "1                               plastic_tassen       0.0  \n",
       "2                plastic_kleine_plastic_tasjes       2.0  \n",
       "3    plastic_drankflessen_groterdan_halveliter       0.0  \n",
       "4   plastic_drankflessen_kleinerdan_halveliter       1.0  \n",
       "5             plastic_wikkels_van_drankflessen       3.0  \n",
       "6    plastic_verpakking_van_schoonmaakmiddelen       0.0  \n",
       "7  plastic_voedselverpakkingen_frietbakjes_etc       6.0  \n",
       "8                plastic_cosmeticaverpakkingen       0.0  \n",
       "9    plastic_motorolieverpakking_groterdan50cm       0.0  "
      ]
     },
     "execution_count": 11,
     "metadata": {},
     "output_type": "execute_result"
    }
   ],
   "source": [
    "# a place to store the results\n",
    "new_results=[]\n",
    "\n",
    "def seperate_results(x, a_list):\n",
    "    # alist is the list of columns to keep\n",
    "    # return x because we don't want to chage the df\n",
    "    for element in a_list:\n",
    "        stuff = {'name':x['name'], 'date':x['date'], 'loc_date':x['loc_date'], 'river':x['Rivier'], 'object':element, 'quantity':x[element] }\n",
    "        new_results.append(stuff)\n",
    "    return x\n",
    "\n",
    "# apply\n",
    "\n",
    "dutch_surveys.apply(lambda row: seperate_results(row, obj_counts), axis=1)\n",
    "\n",
    "# make new df \n",
    "a_results_df = pd.DataFrame(new_results)\n",
    "a_file_name = F\"{project_directory}/dutch_surveys_h.csv\"\n",
    "a_results_df.to_csv(a_file_name)\n",
    "\n",
    "print()\n",
    "print(\"This is the object results with a  name tag and a loc_date tag\\n\")\n",
    "a_results_df.iloc[:10]"
   ]
  },
  {
   "cell_type": "code",
   "execution_count": 12,
   "metadata": {},
   "outputs": [
    {
     "name": "stdout",
     "output_type": "stream",
     "text": [
      "The total by loc_date\n",
      "\n",
      "loc_date\n",
      "(1, 20171021)      170.0\n",
      "(1, 20180318)      139.0\n",
      "(1, 20181021)      228.0\n",
      "(1, 20190225)      158.0\n",
      "(2, 20171103)      207.0\n",
      "                   ...  \n",
      "(208, 20190316)    209.0\n",
      "(209, 0)           410.0\n",
      "(210, 20190226)    946.0\n",
      "(211, 20190303)    754.0\n",
      "(212, 20190306)    263.0\n",
      "Name: quantity, Length: 389, dtype: float64\n"
     ]
    }
   ],
   "source": [
    "print(\"The total by loc_date\\n\")\n",
    "print(a_results_df.groupby('loc_date').quantity.sum())"
   ]
  },
  {
   "cell_type": "code",
   "execution_count": 13,
   "metadata": {},
   "outputs": [
    {
     "name": "stdout",
     "output_type": "stream",
     "text": [
      "The total by river\n",
      "\n",
      "river\n",
      "Maas         113812.0\n",
      "Nederrijn      7279.0\n",
      "Waal          31324.0\n",
      "Name: quantity, dtype: float64\n"
     ]
    }
   ],
   "source": [
    "print(\"The total by river\\n\")\n",
    "print(a_results_df.groupby('river').quantity.sum())"
   ]
  },
  {
   "cell_type": "code",
   "execution_count": 14,
   "metadata": {},
   "outputs": [
    {
     "name": "stdout",
     "output_type": "stream",
     "text": [
      "The total quantity\n",
      "\n",
      "152415.0\n"
     ]
    }
   ],
   "source": [
    "print(\"The total quantity\\n\")\n",
    "print(a_results_df.quantity.sum())"
   ]
  },
  {
   "cell_type": "code",
   "execution_count": 15,
   "metadata": {},
   "outputs": [
    {
     "name": "stdout",
     "output_type": "stream",
     "text": [
      "The top ten objects:\n",
      "\n",
      "object\n",
      "plastic_plastic_stukjes_2_5_50cm_zacht_plastic    24273.0\n",
      "plastic_plastic_stukjes_0_2_5cm_zacht_plastic     18085.0\n",
      "plastic_piepschuim_0_2_5cm                        15036.0\n",
      "plastic_piepschuim_2_5_50cm                       10762.0\n",
      "plastic_snoep_snack_chipsverpakking               10622.0\n",
      "plastic_plastic_stukjes_0_2_5cm_hard_plastic       9314.0\n",
      "plastic_plastic_stukjes_2_5_50cm_hard_plastic      7619.0\n",
      "plastic_doppen_en_deksels                          6937.0\n",
      "plastic_voedselverpakkingen_frietbakjes_etc        3673.0\n",
      "sanitair_plastic_wattenstaafjes                    3258.0\n",
      "Name: quantity, dtype: float64\n"
     ]
    }
   ],
   "source": [
    "tops = a_results_df.groupby('object').quantity.sum()\n",
    "tops = tops.sort_values(ascending=False)\n",
    "\n",
    "print(\"The top ten objects:\\n\")\n",
    "print(tops[:10])"
   ]
  },
  {
   "cell_type": "markdown",
   "metadata": {},
   "source": [
    "### Change the object definitions to OSPAR codes\n",
    "\n",
    "The objects definitions need to changed to OSPAR"
   ]
  },
  {
   "cell_type": "code",
   "execution_count": 16,
   "metadata": {},
   "outputs": [],
   "source": [
    "## !!! refresh the data from the hammerdirt api here:\n",
    "\n",
    "# a = requests.get('https://mwshovel.pythonanywhere.com/api/surveys/daily-totals/code-totals/swiss/')\n",
    "# b = requests.get('https://mwshovel.pythonanywhere.com/api/list-of-beaches/swiss/')\n",
    "# c = requests.get('https://mwshovel.pythonanywhere.com/api/mlw-codes/list/')\n",
    "\n",
    "# # the surveys need to be unpacked:\n",
    "# swiss_surveys = ut.unpack_survey_results(a.json())\n",
    "# swiss_surveys = pd.DataFrame(swiss_surveys)\n",
    "\n",
    "# # adding location date column\n",
    "# swiss_surveys['loc_date'] = list(zip(swiss_surveys['location'], swiss_surveys['date']))\n",
    "\n",
    "# # hold the original\n",
    "# x = a.json()\n",
    "\n",
    "# print(\"survey columns\")\n",
    "# print(swiss_surveys.columns)\n",
    "\n",
    "# swiss_beaches = pd.DataFrame(b.json())\n",
    "# print(\"beach columns\")\n",
    "# print(swiss_beaches.columns)\n",
    "\n",
    "# print(\"code columns\")\n",
    "# swiss_codes = pd.DataFrame(c.json())\n",
    "# print(swiss_codes.columns)\n",
    "\n",
    "# swiss_surveys.to_csv(data+'/hammerdirt_data.csv')\n",
    "# swiss_beaches.to_csv(beaches+'/hammerdirt_beaches.csv')\n",
    "# swiss_codes.to_csv(codes+'/swiss_codes.csv')\n"
   ]
  }
 ],
 "metadata": {
  "kernelspec": {
   "display_name": "Python 3",
   "language": "python",
   "name": "python3"
  },
  "language_info": {
   "codemirror_mode": {
    "name": "ipython",
    "version": 3
   },
   "file_extension": ".py",
   "mimetype": "text/x-python",
   "name": "python",
   "nbconvert_exporter": "python",
   "pygments_lexer": "ipython3",
   "version": "3.8.3"
  }
 },
 "nbformat": 4,
 "nbformat_minor": 4
}
